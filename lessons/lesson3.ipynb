{
 "cells": [
  {
   "cell_type": "code",
   "outputs": [],
   "source": [
    "number = int(input('Input digit: '))"
   ],
   "metadata": {
    "collapsed": false,
    "ExecuteTime": {
     "end_time": "2024-12-11T17:43:08.522999Z",
     "start_time": "2024-12-11T17:43:04.953481Z"
    }
   },
   "id": "852f65006d76377e",
   "execution_count": 3
  },
  {
   "cell_type": "code",
   "execution_count": 4,
   "id": "initial_id",
   "metadata": {
    "collapsed": true,
    "ExecuteTime": {
     "end_time": "2024-12-11T17:43:10.995387Z",
     "start_time": "2024-12-11T17:43:10.991525Z"
    }
   },
   "outputs": [],
   "source": [
    "result = '>0' if number > 0 else '<0' "
   ]
  },
  {
   "cell_type": "code",
   "outputs": [
    {
     "data": {
      "text/plain": "'<0'"
     },
     "execution_count": 5,
     "metadata": {},
     "output_type": "execute_result"
    }
   ],
   "source": [
    "result"
   ],
   "metadata": {
    "collapsed": false,
    "ExecuteTime": {
     "end_time": "2024-12-11T17:43:11.528224Z",
     "start_time": "2024-12-11T17:43:11.522574Z"
    }
   },
   "id": "692bdba5e70ff771",
   "execution_count": 5
  },
  {
   "cell_type": "code",
   "outputs": [
    {
     "name": "stdout",
     "output_type": "stream",
     "text": [
      "10\n",
      "7\n",
      "4\n",
      "1\n",
      "-2\n",
      "-5\n",
      "-8\n",
      "-11\n",
      "-14\n",
      "-17\n",
      "-20\n",
      "-23\n",
      "-26\n",
      "-29\n",
      "-32\n",
      "-35\n",
      "-38\n",
      "-41\n",
      "-44\n",
      "-47\n",
      "-50\n",
      "-53\n",
      "-56\n",
      "-59\n",
      "-62\n",
      "-65\n",
      "-68\n",
      "-71\n",
      "-74\n",
      "-77\n",
      "-80\n",
      "-83\n",
      "-86\n",
      "-89\n",
      "-92\n",
      "-95\n",
      "-98\n",
      "-101\n",
      "-104\n",
      "-107\n",
      "-110\n",
      "-113\n",
      "-116\n",
      "-119\n",
      "-122\n",
      "-125\n",
      "-128\n",
      "-131\n",
      "-134\n",
      "-137\n",
      "-140\n",
      "-143\n",
      "-146\n",
      "-149\n",
      "-152\n",
      "-155\n",
      "-158\n",
      "-161\n",
      "-164\n",
      "-167\n",
      "-170\n",
      "-173\n",
      "-176\n",
      "-179\n",
      "-182\n",
      "-185\n",
      "-188\n",
      "-191\n",
      "-194\n",
      "-197\n",
      "-200\n",
      "-203\n",
      "-206\n",
      "-209\n",
      "-212\n",
      "-215\n",
      "-218\n",
      "-221\n",
      "-224\n",
      "-227\n",
      "-230\n",
      "-233\n",
      "-236\n",
      "-239\n",
      "-242\n",
      "-245\n",
      "-248\n",
      "-251\n",
      "-254\n",
      "-257\n",
      "-260\n",
      "-263\n",
      "-266\n",
      "-269\n",
      "-272\n",
      "-275\n",
      "-278\n",
      "-281\n",
      "-284\n",
      "-287\n",
      "-290\n",
      "-293\n",
      "-296\n",
      "-299\n",
      "-302\n",
      "Конец цикла\n"
     ]
    }
   ],
   "source": [
    "n = 10\n",
    "while True:\n",
    "    print(n)\n",
    "    if n < -300:\n",
    "        break\n",
    "    n -= 3\n",
    "else:\n",
    "    print(\"en by else\")\n",
    "print('Конец цикла')"
   ],
   "metadata": {
    "collapsed": false,
    "ExecuteTime": {
     "end_time": "2024-12-11T18:03:13.226635Z",
     "start_time": "2024-12-11T18:03:13.219802Z"
    }
   },
   "id": "37a0758d26894661",
   "execution_count": 8
  },
  {
   "cell_type": "code",
   "outputs": [],
   "source": [
    "for i in range(0, 5, -1):\n",
    "    print(i)"
   ],
   "metadata": {
    "collapsed": false,
    "ExecuteTime": {
     "end_time": "2024-12-11T18:21:34.686963Z",
     "start_time": "2024-12-11T18:21:34.681916Z"
    }
   },
   "id": "b1486d22817ef05b",
   "execution_count": 10
  },
  {
   "cell_type": "code",
   "outputs": [
    {
     "name": "stdout",
     "output_type": "stream",
     "text": [
      "C on pos 2\n"
     ]
    }
   ],
   "source": [
    "s = 'ABCDEFGHIJ'\n",
    "l = 'C'\n",
    "for i, item in enumerate(s):\n",
    "    if l == item:\n",
    "        print(f'{l} on pos {i}')\n",
    "        break\n",
    "else:\n",
    "    print('not found')"
   ],
   "metadata": {
    "collapsed": false,
    "ExecuteTime": {
     "end_time": "2024-12-11T18:27:25.819770Z",
     "start_time": "2024-12-11T18:27:25.815848Z"
    }
   },
   "id": "cd88cfde3f07d680",
   "execution_count": 13
  },
  {
   "cell_type": "code",
   "outputs": [
    {
     "name": "stdout",
     "output_type": "stream",
     "text": [
      "[1, 2, 3, 4, 5, 6, 7, 8, 9]\n"
     ]
    }
   ],
   "source": [
    "n = [3,2,1,4,7,5,6,8,9]\n",
    "x = []\n",
    "for i in range(len(n) - 1):\n",
    "    for j in range(len(n) - 1- i):\n",
    "        if n[j] > n[j+1]:\n",
    "            n[j], n[j+1] = n[j+1], n[j]\n",
    "            \n",
    "            \n",
    "print(n)\n",
    "            "
   ],
   "metadata": {
    "collapsed": false,
    "ExecuteTime": {
     "end_time": "2024-12-11T19:12:20.853709Z",
     "start_time": "2024-12-11T19:12:20.848160Z"
    }
   },
   "id": "95da648bb6d280eb",
   "execution_count": 23
  },
  {
   "cell_type": "code",
   "outputs": [],
   "source": [],
   "metadata": {
    "collapsed": false
   },
   "id": "ea02a06371eec004"
  },
  {
   "cell_type": "code",
   "outputs": [],
   "source": [],
   "metadata": {
    "collapsed": false
   },
   "id": "8d04064efc72b2fd"
  }
 ],
 "metadata": {
  "kernelspec": {
   "display_name": "Python 3",
   "language": "python",
   "name": "python3"
  },
  "language_info": {
   "codemirror_mode": {
    "name": "ipython",
    "version": 2
   },
   "file_extension": ".py",
   "mimetype": "text/x-python",
   "name": "python",
   "nbconvert_exporter": "python",
   "pygments_lexer": "ipython2",
   "version": "2.7.6"
  }
 },
 "nbformat": 4,
 "nbformat_minor": 5
}
