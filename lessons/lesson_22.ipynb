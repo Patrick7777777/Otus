{
 "cells": [
  {
   "cell_type": "markdown",
   "source": [
    "### Статические методы и классовые методы\n",
    "Статический метод от объекта не зависит\n",
    "В классовый метод передается объект"
   ],
   "metadata": {
    "collapsed": false
   },
   "id": "855c0d175be216c8"
  },
  {
   "cell_type": "code",
   "execution_count": 6,
   "id": "initial_id",
   "metadata": {
    "collapsed": true,
    "ExecuteTime": {
     "end_time": "2025-02-03T06:07:32.063835Z",
     "start_time": "2025-02-03T06:07:32.055478Z"
    }
   },
   "outputs": [
    {
     "data": {
      "text/plain": "[0, 1, 2, 3, 4, 5, 6, 7, 8, 9]"
     },
     "execution_count": 6,
     "metadata": {},
     "output_type": "execute_result"
    }
   ],
   "source": [
    "class CustomRange:\n",
    "    def __init__(self, value):\n",
    "        self.value = value\n",
    "        self.range = self._get_range(self.value)\n",
    "    \n",
    "    @staticmethod\n",
    "    def _get_range(n):\n",
    "        return list(range(n))\n",
    "    \n",
    "    @classmethod\n",
    "    def create_range(cls, value):\n",
    "        return cls(value)\n",
    "    \n",
    "num = CustomRange(10)\n",
    "num.range"
   ]
  },
  {
   "cell_type": "markdown",
   "source": [
    "### Декоратор @property, геттеры и сеттеры"
   ],
   "metadata": {
    "collapsed": false
   },
   "id": "33ecae663c87915b"
  },
  {
   "cell_type": "code",
   "outputs": [
    {
     "name": "stdout",
     "output_type": "stream",
     "text": [
      "Patrick: 49\n",
      "Patrick: 19\n",
      "Возраст должен быть целым числом\n",
      "Patrick: 19\n",
      "Не может быть такого возраста\n",
      "Patrick: 19\n",
      "Возраст удалили\n"
     ]
    }
   ],
   "source": [
    "class Human:\n",
    "    def __init__(self, name, age):\n",
    "        self.name = name\n",
    "        self._age = age\n",
    "    \n",
    "    # геттер\n",
    "    @property\n",
    "    def age(self):\n",
    "        return self._age\n",
    "    \n",
    "    @age.deleter\n",
    "    def age(self):\n",
    "        print('Возраст удалили')\n",
    "    \n",
    "    # сеттер\n",
    "    @age.setter\n",
    "    def age(self, value):\n",
    "        if isinstance(value, int):\n",
    "            if 0 <= value <= 100:\n",
    "                self._age = value\n",
    "            else:\n",
    "                print('Не может быть такого возраста')\n",
    "        else:\n",
    "            print('Возраст должен быть целым числом')\n",
    "        \n",
    "    def __str__(self):\n",
    "        return f'{self.name}: {self._age}'\n",
    "    \n",
    "human = Human('Patrick', 49)\n",
    "print(human)\n",
    "human.age = 19\n",
    "print(human)\n",
    "human.age = 'Very old'\n",
    "print(human)\n",
    "human.age = -4\n",
    "print(human)\n",
    "del human.age"
   ],
   "metadata": {
    "collapsed": false,
    "ExecuteTime": {
     "end_time": "2025-02-03T07:18:13.858028Z",
     "start_time": "2025-02-03T07:18:13.850300Z"
    }
   },
   "id": "d305accf71c6501c",
   "execution_count": 21
  },
  {
   "cell_type": "markdown",
   "source": [
    "### Датакласс"
   ],
   "metadata": {
    "collapsed": false
   },
   "id": "c7d543cf80f6d72e"
  },
  {
   "cell_type": "code",
   "outputs": [
    {
     "ename": "AttributeError",
     "evalue": "'Person' object has no attribute 'work'",
     "output_type": "error",
     "traceback": [
      "\u001B[0;31m---------------------------------------------------------------------------\u001B[0m",
      "\u001B[0;31mAttributeError\u001B[0m                            Traceback (most recent call last)",
      "Cell \u001B[0;32mIn[24], line 12\u001B[0m\n\u001B[1;32m      8\u001B[0m         \u001B[38;5;28;01mreturn\u001B[39;00m \u001B[38;5;124mf\u001B[39m\u001B[38;5;124m'\u001B[39m\u001B[38;5;132;01m{\u001B[39;00m\u001B[38;5;28mself\u001B[39m\u001B[38;5;241m.\u001B[39mname\u001B[38;5;132;01m}\u001B[39;00m\u001B[38;5;124m: \u001B[39m\u001B[38;5;132;01m{\u001B[39;00m\u001B[38;5;28mself\u001B[39m\u001B[38;5;241m.\u001B[39mage\u001B[38;5;132;01m}\u001B[39;00m\u001B[38;5;124m'\u001B[39m\n\u001B[1;32m     11\u001B[0m person \u001B[38;5;241m=\u001B[39m Person(\u001B[38;5;124m'\u001B[39m\u001B[38;5;124mPatrick\u001B[39m\u001B[38;5;124m'\u001B[39m, \u001B[38;5;241m40\u001B[39m)\n\u001B[0;32m---> 12\u001B[0m person\u001B[38;5;241m.\u001B[39mwork \u001B[38;5;241m=\u001B[39m \u001B[38;5;124m'\u001B[39m\u001B[38;5;124mProgrammer\u001B[39m\u001B[38;5;124m'\u001B[39m\n\u001B[1;32m     13\u001B[0m \u001B[38;5;28mprint\u001B[39m(person\u001B[38;5;241m.\u001B[39mwork)\n",
      "\u001B[0;31mAttributeError\u001B[0m: 'Person' object has no attribute 'work'"
     ]
    }
   ],
   "source": [
    "class Person:\n",
    "    __slots__ = ('name', 'age')\n",
    "    def __init__(self, name, age):\n",
    "        self.name = name\n",
    "        self.age = age\n",
    "        \n",
    "    def __str__(self):\n",
    "        return f'{self.name}: {self.age}'\n",
    "    \n",
    "    \n",
    "person = Person('Patrick', 40)\n",
    "person.work = 'Programmer'\n",
    "print(person.work)"
   ],
   "metadata": {
    "collapsed": false,
    "ExecuteTime": {
     "end_time": "2025-02-03T07:53:40.624916Z",
     "start_time": "2025-02-03T07:53:40.609078Z"
    }
   },
   "id": "f2b5b5e7a465c008",
   "execution_count": 24
  },
  {
   "cell_type": "code",
   "outputs": [
    {
     "data": {
      "text/plain": "'programmer'"
     },
     "execution_count": 2,
     "metadata": {},
     "output_type": "execute_result"
    }
   ],
   "source": [
    "from dataclasses import dataclass\n",
    "\n",
    "@dataclass\n",
    "class Employee:\n",
    "    name: str\n",
    "    age: int\n",
    "    speciality: str\n",
    "\n",
    "employee = Employee('Patrick', 40, 'programmer')\n",
    "employee.speciality"
   ],
   "metadata": {
    "collapsed": false,
    "ExecuteTime": {
     "end_time": "2025-02-04T19:33:56.755926Z",
     "start_time": "2025-02-04T19:33:56.752195Z"
    }
   },
   "id": "397f2f3cb0d604d8",
   "execution_count": 2
  },
  {
   "cell_type": "markdown",
   "source": [
    "### Валидация датакласса с pydantic"
   ],
   "metadata": {
    "collapsed": false
   },
   "id": "db0f40706b103a2"
  },
  {
   "cell_type": "code",
   "outputs": [
    {
     "name": "stdout",
     "output_type": "stream",
     "text": [
      "id=1 name='John Doe' email='john@example.com' tags=['admin', 'user'] age=30\n",
      "[{\"type\":\"int_parsing\",\"loc\":[\"id\"],\"msg\":\"Input should be a valid integer, unable to parse string as an integer\",\"input\":\"not_an_int\",\"url\":\"https://errors.pydantic.dev/2.8/v/int_parsing\"}]\n"
     ]
    }
   ],
   "source": [
    "from pydantic import BaseModel, ValidationError\n",
    "from typing import List, Optional\n",
    "\n",
    "# Определяем модель\n",
    "class User(BaseModel):\n",
    "    id: int\n",
    "    name: str\n",
    "    email: str\n",
    "    tags: List[str] = []  # Опциональное поле с резервным значением по умолчанию\n",
    "    age: Optional[int] = None  # Опциональное поле\n",
    "\n",
    "# Пример данных\n",
    "user_data = {\n",
    "    \"id\": 1,\n",
    "    \"name\": \"John Doe\",\n",
    "    \"email\": \"john@example.com\",\n",
    "    \"tags\": [\"admin\", \"user\"],\n",
    "    \"age\": 30\n",
    "}\n",
    "\n",
    "# Создаем экземпляр User\n",
    "try:\n",
    "    user = User(**user_data)\n",
    "    print(user)\n",
    "except ValidationError as e:\n",
    "    print(e.json())\n",
    "\n",
    "# Пример неправильных данных\n",
    "invalid_data = {\n",
    "    \"id\": \"not_an_int\",  # Ошибка: строка вместо целого числа\n",
    "    \"name\": \"Jane Doe\",\n",
    "    \"email\": \"jane@example.com\",\n",
    "}\n",
    "try:\n",
    "    user = User(**invalid_data)\n",
    "except ValidationError as e:\n",
    "    print(e.json())\n"
   ],
   "metadata": {
    "collapsed": false,
    "ExecuteTime": {
     "end_time": "2025-02-04T19:49:33.627312Z",
     "start_time": "2025-02-04T19:49:33.615369Z"
    }
   },
   "id": "f5bb3ecdbbaed90b",
   "execution_count": 4
  },
  {
   "cell_type": "code",
   "outputs": [],
   "source": [],
   "metadata": {
    "collapsed": false
   },
   "id": "28540a32290d0225"
  }
 ],
 "metadata": {
  "kernelspec": {
   "display_name": "Python 3",
   "language": "python",
   "name": "python3"
  },
  "language_info": {
   "codemirror_mode": {
    "name": "ipython",
    "version": 2
   },
   "file_extension": ".py",
   "mimetype": "text/x-python",
   "name": "python",
   "nbconvert_exporter": "python",
   "pygments_lexer": "ipython2",
   "version": "2.7.6"
  }
 },
 "nbformat": 4,
 "nbformat_minor": 5
}
