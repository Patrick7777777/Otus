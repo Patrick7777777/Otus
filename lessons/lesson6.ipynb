{
 "cells": [
  {
   "cell_type": "markdown",
   "source": [
    "nonlocal, global"
   ],
   "metadata": {
    "collapsed": false
   },
   "id": "c1d42be79b87b0ea"
  },
  {
   "cell_type": "markdown",
   "source": [
    "## Замыкания"
   ],
   "metadata": {
    "collapsed": false
   },
   "id": "68a03e53fb910cd3"
  },
  {
   "cell_type": "code",
   "execution_count": 3,
   "id": "initial_id",
   "metadata": {
    "collapsed": true,
    "ExecuteTime": {
     "end_time": "2024-12-20T17:23:35.481006Z",
     "start_time": "2024-12-20T17:23:35.475870Z"
    }
   },
   "outputs": [],
   "source": [
    "def counter():\n",
    "    count = 0\n",
    "    def inner():\n",
    "        nonlocal count\n",
    "        count += 1\n",
    "        return count\n",
    "    return inner"
   ]
  },
  {
   "cell_type": "code",
   "outputs": [
    {
     "name": "stdout",
     "output_type": "stream",
     "text": [
      "1\n",
      "2\n",
      "3\n",
      "4\n",
      "1\n",
      "2\n",
      "3\n",
      "4\n"
     ]
    }
   ],
   "source": [
    "simple_counter = counter()\n",
    "print(simple_counter())\n",
    "print(simple_counter())\n",
    "print(simple_counter())\n",
    "print(simple_counter())\n",
    "another_counter = counter()\n",
    "print(another_counter())\n",
    "print(another_counter())\n",
    "print(another_counter())\n",
    "print(another_counter())"
   ],
   "metadata": {
    "collapsed": false,
    "ExecuteTime": {
     "end_time": "2024-12-20T17:23:36.064207Z",
     "start_time": "2024-12-20T17:23:36.059757Z"
    }
   },
   "id": "47614e5ea15c9681",
   "execution_count": 4
  },
  {
   "cell_type": "markdown",
   "source": [
    "## Декоратор"
   ],
   "metadata": {
    "collapsed": false
   },
   "id": "fab825483254f248"
  },
  {
   "cell_type": "code",
   "outputs": [],
   "source": [
    "def deco_print(func):\n",
    "    def wrapper():\n",
    "        print('!')\n",
    "        func()\n",
    "        print('!')\n",
    "    return wrapper"
   ],
   "metadata": {
    "collapsed": false,
    "ExecuteTime": {
     "end_time": "2024-12-20T17:31:13.437773Z",
     "start_time": "2024-12-20T17:31:13.431667Z"
    }
   },
   "id": "86a0d1a310d3e57d",
   "execution_count": 17
  },
  {
   "cell_type": "code",
   "outputs": [],
   "source": [
    "@deco_print\n",
    "def say_hello():\n",
    "    print(\"Hello\")"
   ],
   "metadata": {
    "collapsed": false,
    "ExecuteTime": {
     "end_time": "2024-12-20T17:31:14.419473Z",
     "start_time": "2024-12-20T17:31:14.415400Z"
    }
   },
   "id": "97bddda87107f581",
   "execution_count": 18
  },
  {
   "cell_type": "code",
   "outputs": [
    {
     "name": "stdout",
     "output_type": "stream",
     "text": [
      "!\n",
      "Hello\n",
      "!\n"
     ]
    }
   ],
   "source": [
    "say_hello()"
   ],
   "metadata": {
    "collapsed": false,
    "ExecuteTime": {
     "end_time": "2024-12-20T17:31:15.818252Z",
     "start_time": "2024-12-20T17:31:15.814641Z"
    }
   },
   "id": "2bfe9a0e6f82ecab",
   "execution_count": 19
  },
  {
   "cell_type": "code",
   "outputs": [
    {
     "name": "stdout",
     "output_type": "stream",
     "text": [
      "!\n",
      "Hello\n",
      "!\n"
     ]
    }
   ],
   "source": [
    "\n",
    "say_hello()"
   ],
   "metadata": {
    "collapsed": false,
    "ExecuteTime": {
     "end_time": "2024-12-20T17:31:17.724632Z",
     "start_time": "2024-12-20T17:31:17.721119Z"
    }
   },
   "id": "1e86b92e62edddb5",
   "execution_count": 20
  },
  {
   "cell_type": "markdown",
   "source": [],
   "metadata": {
    "collapsed": false
   },
   "id": "3efa7ea66269ce16"
  },
  {
   "cell_type": "code",
   "outputs": [],
   "source": [],
   "metadata": {
    "collapsed": false
   },
   "id": "d62ffe97cfdcc805"
  }
 ],
 "metadata": {
  "kernelspec": {
   "display_name": "Python 3",
   "language": "python",
   "name": "python3"
  },
  "language_info": {
   "codemirror_mode": {
    "name": "ipython",
    "version": 2
   },
   "file_extension": ".py",
   "mimetype": "text/x-python",
   "name": "python",
   "nbconvert_exporter": "python",
   "pygments_lexer": "ipython2",
   "version": "2.7.6"
  }
 },
 "nbformat": 4,
 "nbformat_minor": 5
}
