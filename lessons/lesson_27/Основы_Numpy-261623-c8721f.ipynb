{
 "cells": [
  {
   "cell_type": "markdown",
   "metadata": {
    "id": "-OHaR3Y1lTyu"
   },
   "source": [
    "# Основы Numpy"
   ]
  },
  {
   "cell_type": "markdown",
   "metadata": {},
   "source": [
    "## Интро\n",
    "### Зачем нам вообще Numpy?"
   ]
  },
  {
   "cell_type": "code",
   "execution_count": 1,
   "metadata": {
    "ExecuteTime": {
     "end_time": "2025-02-12T05:37:14.307921Z",
     "start_time": "2025-02-12T05:37:14.273837Z"
    }
   },
   "outputs": [],
   "source": [
    "import numpy as np"
   ]
  },
  {
   "cell_type": "code",
   "execution_count": 2,
   "metadata": {
    "ExecuteTime": {
     "end_time": "2025-02-12T05:37:16.033918Z",
     "start_time": "2025-02-12T05:37:16.029989Z"
    }
   },
   "outputs": [],
   "source": [
    "# сделаем две матрицы 300х300\n",
    "n = 300\n",
    "A = np.random.rand(n, n)\n",
    "B = np.random.rand(n, n)"
   ]
  },
  {
   "cell_type": "markdown",
   "metadata": {},
   "source": [
    "А теперь попробуем провести матричное умножение."
   ]
  },
  {
   "cell_type": "code",
   "execution_count": 3,
   "metadata": {
    "ExecuteTime": {
     "end_time": "2025-02-12T05:37:32.994874Z",
     "start_time": "2025-02-12T05:37:26.264085Z"
    }
   },
   "outputs": [
    {
     "name": "stdout",
     "output_type": "stream",
     "text": [
      "CPU times: user 6.71 s, sys: 5.96 ms, total: 6.71 s\n",
      "Wall time: 6.73 s\n"
     ]
    }
   ],
   "source": [
    "%%time\n",
    "C = np.zeros((n, n))\n",
    "for i in range(n):\n",
    "    for j in range(n):\n",
    "        for k in range(n):\n",
    "            C[i, j] += A[i, k] * B[k, j]"
   ]
  },
  {
   "cell_type": "code",
   "execution_count": 4,
   "metadata": {
    "ExecuteTime": {
     "end_time": "2025-02-12T05:44:03.522428Z",
     "start_time": "2025-02-12T05:44:03.504828Z"
    }
   },
   "outputs": [
    {
     "name": "stdout",
     "output_type": "stream",
     "text": [
      "CPU times: user 26.7 ms, sys: 3.51 ms, total: 30.2 ms\n",
      "Wall time: 5.79 ms\n"
     ]
    }
   ],
   "source": [
    "%%time\n",
    "C = A @ B"
   ]
  },
  {
   "cell_type": "markdown",
   "metadata": {},
   "source": [
    "Нумпай быстрее циклов питона во много раз!"
   ]
  },
  {
   "cell_type": "markdown",
   "metadata": {},
   "source": [
    "### Array"
   ]
  },
  {
   "cell_type": "markdown",
   "metadata": {},
   "source": [
    "Как работать с numpy? Создаем numpy.array"
   ]
  },
  {
   "cell_type": "code",
   "execution_count": 5,
   "metadata": {
    "ExecuteTime": {
     "end_time": "2025-02-12T05:46:00.306114Z",
     "start_time": "2025-02-12T05:46:00.300459Z"
    }
   },
   "outputs": [],
   "source": [
    "x1 = [1, 2, 3]\n",
    "x2 = (1, 2, 3)\n",
    "x3 = {1, 2, 3}\n",
    "x4 = 'привет'\n",
    "x5 = 2.5\n",
    "x6 = 1\n",
    "x7 = {'1': 1, '2': 2}\n",
    "x = [x1, x2, x3, x4, x5, x6, x7]"
   ]
  },
  {
   "cell_type": "code",
   "execution_count": 6,
   "metadata": {
    "ExecuteTime": {
     "end_time": "2025-02-12T05:46:01.423459Z",
     "start_time": "2025-02-12T05:46:01.419941Z"
    }
   },
   "outputs": [
    {
     "name": "stdout",
     "output_type": "stream",
     "text": [
      "[1 2 3]\n",
      "[1 2 3]\n",
      "{1, 2, 3}\n",
      "привет\n",
      "2.5\n",
      "1\n",
      "{'1': 1, '2': 2}\n"
     ]
    }
   ],
   "source": [
    "for obj in x:\n",
    "    print(np.array(obj))"
   ]
  },
  {
   "cell_type": "code",
   "execution_count": 7,
   "metadata": {
    "ExecuteTime": {
     "end_time": "2025-02-12T05:46:13.265763Z",
     "start_time": "2025-02-12T05:46:13.261034Z"
    }
   },
   "outputs": [
    {
     "data": {
      "text/plain": "array([1, 2, 3])"
     },
     "execution_count": 7,
     "metadata": {},
     "output_type": "execute_result"
    }
   ],
   "source": [
    "np.array(x1)"
   ]
  },
  {
   "cell_type": "code",
   "execution_count": 8,
   "metadata": {
    "ExecuteTime": {
     "end_time": "2025-02-12T05:46:21.050906Z",
     "start_time": "2025-02-12T05:46:21.048408Z"
    }
   },
   "outputs": [
    {
     "data": {
      "text/plain": "array([1, 2, 3])"
     },
     "execution_count": 8,
     "metadata": {},
     "output_type": "execute_result"
    }
   ],
   "source": [
    "np.array(x2)"
   ]
  },
  {
   "cell_type": "code",
   "execution_count": 9,
   "metadata": {
    "ExecuteTime": {
     "end_time": "2025-02-12T05:46:56.711412Z",
     "start_time": "2025-02-12T05:46:56.707713Z"
    }
   },
   "outputs": [
    {
     "data": {
      "text/plain": "array({1, 2, 3}, dtype=object)"
     },
     "execution_count": 9,
     "metadata": {},
     "output_type": "execute_result"
    }
   ],
   "source": [
    "np.array(x3)  # не делайте так"
   ]
  },
  {
   "cell_type": "code",
   "execution_count": 10,
   "metadata": {
    "ExecuteTime": {
     "end_time": "2025-02-12T05:47:18.439860Z",
     "start_time": "2025-02-12T05:47:18.234909Z"
    }
   },
   "outputs": [
    {
     "ename": "IndexError",
     "evalue": "too many indices for array: array is 0-dimensional, but 1 were indexed",
     "output_type": "error",
     "traceback": [
      "\u001B[0;31m---------------------------------------------------------------------------\u001B[0m",
      "\u001B[0;31mIndexError\u001B[0m                                Traceback (most recent call last)",
      "Cell \u001B[0;32mIn[10], line 1\u001B[0m\n\u001B[0;32m----> 1\u001B[0m np\u001B[38;5;241m.\u001B[39marray(x3)[\u001B[38;5;241m0\u001B[39m]\n",
      "\u001B[0;31mIndexError\u001B[0m: too many indices for array: array is 0-dimensional, but 1 were indexed"
     ]
    }
   ],
   "source": [
    "np.array(x3)[0]  # вот почему"
   ]
  },
  {
   "cell_type": "code",
   "execution_count": 11,
   "metadata": {
    "ExecuteTime": {
     "end_time": "2025-02-12T05:47:19.680931Z",
     "start_time": "2025-02-12T05:47:19.677835Z"
    }
   },
   "outputs": [
    {
     "data": {
      "text/plain": "array('привет', dtype='<U6')"
     },
     "execution_count": 11,
     "metadata": {},
     "output_type": "execute_result"
    }
   ],
   "source": [
    "np.array(x4)"
   ]
  },
  {
   "cell_type": "code",
   "execution_count": 12,
   "metadata": {
    "ExecuteTime": {
     "end_time": "2025-02-12T05:47:29.998329Z",
     "start_time": "2025-02-12T05:47:29.995744Z"
    }
   },
   "outputs": [
    {
     "data": {
      "text/plain": "array(2.5)"
     },
     "execution_count": 12,
     "metadata": {},
     "output_type": "execute_result"
    }
   ],
   "source": [
    "np.array(x5)"
   ]
  },
  {
   "cell_type": "code",
   "execution_count": 13,
   "metadata": {
    "ExecuteTime": {
     "end_time": "2025-02-12T05:47:32.869310Z",
     "start_time": "2025-02-12T05:47:32.866461Z"
    }
   },
   "outputs": [
    {
     "data": {
      "text/plain": "array(1)"
     },
     "execution_count": 13,
     "metadata": {},
     "output_type": "execute_result"
    }
   ],
   "source": [
    "np.array(x6)"
   ]
  },
  {
   "cell_type": "code",
   "execution_count": 14,
   "metadata": {
    "ExecuteTime": {
     "end_time": "2025-02-12T05:48:01.111132Z",
     "start_time": "2025-02-12T05:48:01.106493Z"
    }
   },
   "outputs": [
    {
     "data": {
      "text/plain": "array({'1': 1, '2': 2}, dtype=object)"
     },
     "execution_count": 14,
     "metadata": {},
     "output_type": "execute_result"
    }
   ],
   "source": [
    "np.array(x7)"
   ]
  },
  {
   "cell_type": "markdown",
   "metadata": {},
   "source": [
    "Всегда можно преобразовать в numpy array? Нет!\n",
    "\n",
    "Нужно, чтобы все элементы были одинакового размера и типа (с учетом каста)."
   ]
  },
  {
   "cell_type": "code",
   "execution_count": 15,
   "metadata": {
    "ExecuteTime": {
     "end_time": "2025-02-12T05:48:27.188270Z",
     "start_time": "2025-02-12T05:48:27.178286Z"
    }
   },
   "outputs": [
    {
     "ename": "ValueError",
     "evalue": "setting an array element with a sequence. The requested array has an inhomogeneous shape after 1 dimensions. The detected shape was (2,) + inhomogeneous part.",
     "output_type": "error",
     "traceback": [
      "\u001B[0;31m---------------------------------------------------------------------------\u001B[0m",
      "\u001B[0;31mValueError\u001B[0m                                Traceback (most recent call last)",
      "Cell \u001B[0;32mIn[15], line 2\u001B[0m\n\u001B[1;32m      1\u001B[0m x \u001B[38;5;241m=\u001B[39m [[\u001B[38;5;241m1\u001B[39m, \u001B[38;5;241m2\u001B[39m, \u001B[38;5;241m3\u001B[39m], [\u001B[38;5;241m1\u001B[39m, \u001B[38;5;241m2\u001B[39m]]  \u001B[38;5;66;03m# почему\u001B[39;00m\n\u001B[0;32m----> 2\u001B[0m np\u001B[38;5;241m.\u001B[39marray(x)\n",
      "\u001B[0;31mValueError\u001B[0m: setting an array element with a sequence. The requested array has an inhomogeneous shape after 1 dimensions. The detected shape was (2,) + inhomogeneous part."
     ]
    }
   ],
   "source": [
    "x = [[1, 2, 3], [1, 2]]  # почему\n",
    "np.array(x)"
   ]
  },
  {
   "cell_type": "code",
   "execution_count": 16,
   "metadata": {
    "ExecuteTime": {
     "end_time": "2025-02-12T05:49:14.122102Z",
     "start_time": "2025-02-12T05:49:14.117437Z"
    }
   },
   "outputs": [
    {
     "data": {
      "text/plain": "array([[1, 2, 3],\n       [1, 2, 3]])"
     },
     "execution_count": 16,
     "metadata": {},
     "output_type": "execute_result"
    }
   ],
   "source": [
    "x = [[1, 2, 3], [1, 2, 3]]\n",
    "np.array(x)"
   ]
  },
  {
   "cell_type": "code",
   "execution_count": 17,
   "metadata": {
    "ExecuteTime": {
     "end_time": "2025-02-12T05:50:53.712672Z",
     "start_time": "2025-02-12T05:50:53.709081Z"
    }
   },
   "outputs": [
    {
     "data": {
      "text/plain": "array([[1. , 2. , 3.5],\n       [1. , 2. , 3. ]])"
     },
     "execution_count": 17,
     "metadata": {},
     "output_type": "execute_result"
    }
   ],
   "source": [
    "x = [[1, 2, 3.5], [1, 2, 3]]\n",
    "np.array(x)"
   ]
  },
  {
   "cell_type": "code",
   "execution_count": 18,
   "metadata": {
    "ExecuteTime": {
     "end_time": "2025-02-12T05:50:55.002175Z",
     "start_time": "2025-02-12T05:50:54.996638Z"
    }
   },
   "outputs": [
    {
     "data": {
      "text/plain": "array([['1', '2', '3.5'],\n       ['1', '2', '3']], dtype='<U32')"
     },
     "execution_count": 18,
     "metadata": {},
     "output_type": "execute_result"
    }
   ],
   "source": [
    "x = [[1, '2', 3.5], [1, 2, 3]]\n",
    "np.array(x)"
   ]
  },
  {
   "cell_type": "markdown",
   "metadata": {},
   "source": [
    "**Подсказка:** string > float > int"
   ]
  },
  {
   "cell_type": "markdown",
   "metadata": {},
   "source": [
    "### Специальные массивы"
   ]
  },
  {
   "cell_type": "code",
   "execution_count": 19,
   "metadata": {
    "ExecuteTime": {
     "end_time": "2025-02-12T05:52:55.074409Z",
     "start_time": "2025-02-12T05:52:55.071151Z"
    }
   },
   "outputs": [
    {
     "data": {
      "text/plain": "array([[1., 0., 0., 0., 0.],\n       [0., 1., 0., 0., 0.],\n       [0., 0., 1., 0., 0.],\n       [0., 0., 0., 1., 0.],\n       [0., 0., 0., 0., 1.]])"
     },
     "execution_count": 19,
     "metadata": {},
     "output_type": "execute_result"
    }
   ],
   "source": [
    "np.identity(5)  # диагональная матрица"
   ]
  },
  {
   "cell_type": "code",
   "execution_count": 20,
   "metadata": {
    "ExecuteTime": {
     "end_time": "2025-02-12T05:52:57.267174Z",
     "start_time": "2025-02-12T05:52:57.263567Z"
    }
   },
   "outputs": [
    {
     "data": {
      "text/plain": "array([[0., 0.],\n       [0., 0.],\n       [0., 0.]])"
     },
     "execution_count": 20,
     "metadata": {},
     "output_type": "execute_result"
    }
   ],
   "source": [
    "np.zeros((3, 2))"
   ]
  },
  {
   "cell_type": "code",
   "execution_count": 21,
   "metadata": {
    "ExecuteTime": {
     "end_time": "2025-02-12T05:53:51.568542Z",
     "start_time": "2025-02-12T05:53:51.565236Z"
    }
   },
   "outputs": [
    {
     "data": {
      "text/plain": "array([[1., 1., 1., 1., 1., 1.],\n       [1., 1., 1., 1., 1., 1.],\n       [1., 1., 1., 1., 1., 1.],\n       [1., 1., 1., 1., 1., 1.],\n       [1., 1., 1., 1., 1., 1.]])"
     },
     "execution_count": 21,
     "metadata": {},
     "output_type": "execute_result"
    }
   ],
   "source": [
    "np.ones((5, 6))"
   ]
  },
  {
   "cell_type": "code",
   "execution_count": 22,
   "metadata": {
    "ExecuteTime": {
     "end_time": "2025-02-12T05:53:59.238205Z",
     "start_time": "2025-02-12T05:53:59.234273Z"
    }
   },
   "outputs": [
    {
     "data": {
      "text/plain": "array([[1., 0., 0., 0.],\n       [0., 1., 0., 0.],\n       [0., 0., 1., 0.]])"
     },
     "execution_count": 22,
     "metadata": {},
     "output_type": "execute_result"
    }
   ],
   "source": [
    "np.eye(3, 4) # единичная матрица"
   ]
  },
  {
   "cell_type": "code",
   "execution_count": 23,
   "metadata": {
    "ExecuteTime": {
     "end_time": "2025-02-12T05:54:11.448487Z",
     "start_time": "2025-02-12T05:54:11.444925Z"
    }
   },
   "outputs": [
    {
     "data": {
      "text/plain": "array([[0., 0.],\n       [0., 0.],\n       [0., 0.]])"
     },
     "execution_count": 23,
     "metadata": {},
     "output_type": "execute_result"
    }
   ],
   "source": [
    "a = np.zeros((3, 2))\n",
    "b = np.zeros_like(a) # матрица по образцу \n",
    "b"
   ]
  },
  {
   "cell_type": "markdown",
   "metadata": {},
   "source": [
    "Также специальные матрицы доступны из модулей нумпай"
   ]
  },
  {
   "cell_type": "code",
   "execution_count": 24,
   "metadata": {
    "ExecuteTime": {
     "end_time": "2025-02-12T05:54:24.836178Z",
     "start_time": "2025-02-12T05:54:24.833167Z"
    }
   },
   "outputs": [
    {
     "data": {
      "text/plain": "<module 'numpy.random' from '/opt/anaconda3/lib/python3.12/site-packages/numpy/random/__init__.py'>"
     },
     "execution_count": 24,
     "metadata": {},
     "output_type": "execute_result"
    }
   ],
   "source": [
    "np.random  # module"
   ]
  },
  {
   "cell_type": "code",
   "execution_count": 25,
   "metadata": {
    "scrolled": true,
    "ExecuteTime": {
     "end_time": "2025-02-12T05:56:20.962874Z",
     "start_time": "2025-02-12T05:56:20.959179Z"
    }
   },
   "outputs": [
    {
     "data": {
      "text/plain": "['BitGenerator',\n 'Generator',\n 'MT19937',\n 'PCG64',\n 'PCG64DXSM',\n 'Philox',\n 'RandomState',\n 'SFC64',\n 'SeedSequence',\n '__RandomState_ctor',\n '__all__',\n '__builtins__',\n '__cached__',\n '__doc__',\n '__file__',\n '__loader__',\n '__name__',\n '__package__',\n '__path__',\n '__spec__',\n '_bounded_integers',\n '_common',\n '_generator',\n '_mt19937',\n '_pcg64',\n '_philox',\n '_pickle',\n '_sfc64',\n 'beta',\n 'binomial',\n 'bit_generator',\n 'bytes',\n 'chisquare',\n 'choice',\n 'default_rng',\n 'dirichlet',\n 'exponential',\n 'f',\n 'gamma',\n 'geometric',\n 'get_bit_generator',\n 'get_state',\n 'gumbel',\n 'hypergeometric',\n 'laplace',\n 'logistic',\n 'lognormal',\n 'logseries',\n 'mtrand',\n 'multinomial',\n 'multivariate_normal',\n 'negative_binomial',\n 'noncentral_chisquare',\n 'noncentral_f',\n 'normal',\n 'pareto',\n 'permutation',\n 'poisson',\n 'power',\n 'rand',\n 'randint',\n 'randn',\n 'random',\n 'random_integers',\n 'random_sample',\n 'ranf',\n 'rayleigh',\n 'sample',\n 'seed',\n 'set_bit_generator',\n 'set_state',\n 'shuffle',\n 'standard_cauchy',\n 'standard_exponential',\n 'standard_gamma',\n 'standard_normal',\n 'standard_t',\n 'test',\n 'triangular',\n 'uniform',\n 'vonmises',\n 'wald',\n 'weibull',\n 'zipf']"
     },
     "execution_count": 25,
     "metadata": {},
     "output_type": "execute_result"
    }
   ],
   "source": [
    "dir(np.random)"
   ]
  },
  {
   "cell_type": "code",
   "execution_count": 26,
   "metadata": {
    "ExecuteTime": {
     "end_time": "2025-02-12T05:56:25.610340Z",
     "start_time": "2025-02-12T05:56:25.608015Z"
    }
   },
   "outputs": [
    {
     "data": {
      "text/plain": "array([[0.9839418 , 0.62888579, 0.13569078],\n       [0.7278427 , 0.04771901, 0.45220423]])"
     },
     "execution_count": 26,
     "metadata": {},
     "output_type": "execute_result"
    }
   ],
   "source": [
    "np.random.rand(2, 3)  # uniform distribution"
   ]
  },
  {
   "cell_type": "code",
   "execution_count": 27,
   "metadata": {
    "ExecuteTime": {
     "end_time": "2025-02-12T05:56:33.174895Z",
     "start_time": "2025-02-12T05:56:33.170647Z"
    }
   },
   "outputs": [
    {
     "data": {
      "text/plain": "array([[3, 8, 5, 9],\n       [3, 3, 1, 4],\n       [3, 4, 5, 7]])"
     },
     "execution_count": 27,
     "metadata": {},
     "output_type": "execute_result"
    }
   ],
   "source": [
    "np.random.randint(0, 10, (3, 4))  # random integers"
   ]
  },
  {
   "cell_type": "markdown",
   "metadata": {},
   "source": [
    "Как всегда получать одинаковую случайную матрицу?"
   ]
  },
  {
   "cell_type": "code",
   "execution_count": 28,
   "metadata": {
    "ExecuteTime": {
     "end_time": "2025-02-12T05:56:38.991612Z",
     "start_time": "2025-02-12T05:56:38.989623Z"
    }
   },
   "outputs": [],
   "source": [
    "np.random.seed(42)  # фиксируем ПОРЯДОК случайностей"
   ]
  },
  {
   "cell_type": "code",
   "execution_count": 35,
   "metadata": {
    "ExecuteTime": {
     "end_time": "2025-02-12T05:57:16.121153Z",
     "start_time": "2025-02-12T05:57:16.118809Z"
    }
   },
   "outputs": [
    {
     "data": {
      "text/plain": "array([[0.37454012, 0.95071431, 0.73199394],\n       [0.59865848, 0.15601864, 0.15599452]])"
     },
     "execution_count": 35,
     "metadata": {},
     "output_type": "execute_result"
    }
   ],
   "source": [
    "np.random.seed(42)\n",
    "np.random.rand(2, 3)"
   ]
  },
  {
   "cell_type": "code",
   "execution_count": 36,
   "metadata": {
    "ExecuteTime": {
     "end_time": "2025-02-12T05:57:52.738139Z",
     "start_time": "2025-02-12T05:57:52.731593Z"
    }
   },
   "outputs": [
    {
     "data": {
      "text/plain": "array([[0.37454012, 0.95071431, 0.73199394],\n       [0.59865848, 0.15601864, 0.15599452]])"
     },
     "execution_count": 36,
     "metadata": {},
     "output_type": "execute_result"
    }
   ],
   "source": [
    "np.random.seed(42)\n",
    "np.random.rand(2, 3)"
   ]
  },
  {
   "cell_type": "code",
   "execution_count": 37,
   "metadata": {
    "ExecuteTime": {
     "end_time": "2025-02-12T05:57:55.523491Z",
     "start_time": "2025-02-12T05:57:55.520815Z"
    }
   },
   "outputs": [
    {
     "data": {
      "text/plain": "array([[ True,  True,  True],\n       [ True,  True,  True]])"
     },
     "execution_count": 37,
     "metadata": {},
     "output_type": "execute_result"
    }
   ],
   "source": [
    "np.random.seed(123)\n",
    "x1 = np.random.rand(2, 3)\n",
    "np.random.seed(123)\n",
    "x2 = np.random.rand(2, 3)\n",
    "x1 == x2"
   ]
  },
  {
   "cell_type": "code",
   "execution_count": 38,
   "metadata": {
    "ExecuteTime": {
     "end_time": "2025-02-12T05:58:12.082426Z",
     "start_time": "2025-02-12T05:58:12.079223Z"
    }
   },
   "outputs": [
    {
     "data": {
      "text/plain": "array([[False, False, False],\n       [False, False, False]])"
     },
     "execution_count": 38,
     "metadata": {},
     "output_type": "execute_result"
    }
   ],
   "source": [
    "np.random.seed(123)\n",
    "x1 = np.random.rand(2, 3)  # first random\n",
    "x2 = np.random.rand(2, 3)  # second random\n",
    "x1 == x2"
   ]
  },
  {
   "cell_type": "code",
   "execution_count": 39,
   "metadata": {
    "ExecuteTime": {
     "end_time": "2025-02-12T06:01:32.943728Z",
     "start_time": "2025-02-12T06:01:32.938469Z"
    }
   },
   "outputs": [],
   "source": [
    "np.random.seed(123)\n",
    "x1 = np.random.rand(2, 3)\n",
    "x2 = np.random.rand(2, 3)\n",
    "\n",
    "np.random.seed(123)\n",
    "x3 = np.random.rand(2, 3)\n",
    "x4 = np.random.rand(2, 3)"
   ]
  },
  {
   "cell_type": "code",
   "execution_count": 40,
   "metadata": {
    "ExecuteTime": {
     "end_time": "2025-02-12T06:01:33.833229Z",
     "start_time": "2025-02-12T06:01:33.830436Z"
    }
   },
   "outputs": [
    {
     "data": {
      "text/plain": "array([[ True,  True,  True],\n       [ True,  True,  True]])"
     },
     "execution_count": 40,
     "metadata": {},
     "output_type": "execute_result"
    }
   ],
   "source": [
    "x1 == x3"
   ]
  },
  {
   "cell_type": "code",
   "execution_count": 41,
   "metadata": {
    "ExecuteTime": {
     "end_time": "2025-02-12T06:01:48.311211Z",
     "start_time": "2025-02-12T06:01:48.308797Z"
    }
   },
   "outputs": [
    {
     "data": {
      "text/plain": "array([[ True,  True,  True],\n       [ True,  True,  True]])"
     },
     "execution_count": 41,
     "metadata": {},
     "output_type": "execute_result"
    }
   ],
   "source": [
    "x2 == x4"
   ]
  },
  {
   "cell_type": "code",
   "execution_count": 42,
   "metadata": {
    "ExecuteTime": {
     "end_time": "2025-02-12T06:01:50.803763Z",
     "start_time": "2025-02-12T06:01:50.801398Z"
    }
   },
   "outputs": [
    {
     "data": {
      "text/plain": "array([[False, False, False],\n       [False, False, False]])"
     },
     "execution_count": 42,
     "metadata": {},
     "output_type": "execute_result"
    }
   ],
   "source": [
    "x1 == x4"
   ]
  },
  {
   "cell_type": "markdown",
   "metadata": {},
   "source": [
    "### Специальные массивы из последовательностей"
   ]
  },
  {
   "cell_type": "code",
   "execution_count": 43,
   "metadata": {
    "ExecuteTime": {
     "end_time": "2025-02-12T06:02:05.071806Z",
     "start_time": "2025-02-12T06:02:05.069077Z"
    }
   },
   "outputs": [
    {
     "data": {
      "text/plain": "array([  0.        ,  11.11111111,  22.22222222,  33.33333333,\n        44.44444444,  55.55555556,  66.66666667,  77.77777778,\n        88.88888889, 100.        ])"
     },
     "execution_count": 43,
     "metadata": {},
     "output_type": "execute_result"
    }
   ],
   "source": [
    "np.linspace(0, 100, 10)  # take 10 equal parts from [0, 100]"
   ]
  },
  {
   "cell_type": "code",
   "execution_count": 44,
   "metadata": {
    "ExecuteTime": {
     "end_time": "2025-02-12T06:02:52.179822Z",
     "start_time": "2025-02-12T06:02:52.176027Z"
    }
   },
   "outputs": [
    {
     "data": {
      "text/plain": "array([ 0. ,  9.9, 19.8, 29.7, 39.6, 49.5, 59.4, 69.3, 79.2, 89.1, 99. ])"
     },
     "execution_count": 44,
     "metadata": {},
     "output_type": "execute_result"
    }
   ],
   "source": [
    "np.linspace(0, 99, num=11)"
   ]
  },
  {
   "cell_type": "code",
   "execution_count": 45,
   "metadata": {
    "ExecuteTime": {
     "end_time": "2025-02-12T06:03:12.175438Z",
     "start_time": "2025-02-12T06:03:12.171471Z"
    }
   },
   "outputs": [
    {
     "data": {
      "text/plain": "array([ 0,  9, 19, 29, 39, 49, 59, 69, 79, 89, 99])"
     },
     "execution_count": 45,
     "metadata": {},
     "output_type": "execute_result"
    }
   ],
   "source": [
    "np.linspace(0, 99, num=11, dtype=int)  # явно укажем, что нужны целые числа"
   ]
  },
  {
   "cell_type": "code",
   "execution_count": 46,
   "metadata": {
    "ExecuteTime": {
     "end_time": "2025-02-12T06:03:29.434106Z",
     "start_time": "2025-02-12T06:03:29.431376Z"
    }
   },
   "outputs": [
    {
     "data": {
      "text/plain": "array([ 0,  9, 18, 27, 36, 45, 54, 63, 72, 81, 90])"
     },
     "execution_count": 46,
     "metadata": {},
     "output_type": "execute_result"
    }
   ],
   "source": [
    "np.linspace(0, 99, num=11, dtype=int, endpoint=False)"
   ]
  },
  {
   "cell_type": "code",
   "execution_count": 47,
   "metadata": {
    "ExecuteTime": {
     "end_time": "2025-02-12T06:05:20.170414Z",
     "start_time": "2025-02-12T06:05:20.165357Z"
    }
   },
   "outputs": [
    {
     "data": {
      "text/plain": "array([  10.        ,   31.6227766 ,  100.        ,  316.22776602,\n       1000.        ])"
     },
     "execution_count": 47,
     "metadata": {},
     "output_type": "execute_result"
    }
   ],
   "source": [
    "np.logspace(1, 3, 5, base=10) # начало/конец/кол-во шагов/основание\n",
    "\n",
    "# возводим 10 в стемени между 1 и 3 на 5 равных частей"
   ]
  },
  {
   "cell_type": "code",
   "execution_count": 48,
   "metadata": {
    "ExecuteTime": {
     "end_time": "2025-02-12T06:05:24.203512Z",
     "start_time": "2025-02-12T06:05:24.201015Z"
    }
   },
   "outputs": [
    {
     "data": {
      "text/plain": "array([2.        , 2.82842712, 4.        , 5.65685425, 8.        ])"
     },
     "execution_count": 48,
     "metadata": {},
     "output_type": "execute_result"
    }
   ],
   "source": [
    "np.logspace(1, 3, 5, base=2)"
   ]
  },
  {
   "cell_type": "code",
   "execution_count": 49,
   "metadata": {
    "ExecuteTime": {
     "end_time": "2025-02-12T06:05:27.091770Z",
     "start_time": "2025-02-12T06:05:27.088932Z"
    }
   },
   "outputs": [
    {
     "data": {
      "text/plain": "array([0, 1, 2, 3, 4, 5, 6, 7, 8, 9])"
     },
     "execution_count": 49,
     "metadata": {},
     "output_type": "execute_result"
    }
   ],
   "source": [
    "np.arange(10)"
   ]
  },
  {
   "cell_type": "code",
   "execution_count": 50,
   "metadata": {
    "ExecuteTime": {
     "end_time": "2025-02-12T06:05:31.256437Z",
     "start_time": "2025-02-12T06:05:31.253804Z"
    }
   },
   "outputs": [
    {
     "data": {
      "text/plain": "array([ 1,  8, 15, 22, 29, 36, 43, 50, 57, 64, 71, 78, 85, 92, 99])"
     },
     "execution_count": 50,
     "metadata": {},
     "output_type": "execute_result"
    }
   ],
   "source": [
    "np.arange(1, 100, 7)  # [начало:конец:шаг]"
   ]
  },
  {
   "cell_type": "markdown",
   "metadata": {},
   "source": [
    "### Сравнение по скорости и памяти"
   ]
  },
  {
   "cell_type": "markdown",
   "metadata": {},
   "source": [
    "#### Скорость (время на выполнение операции)"
   ]
  },
  {
   "cell_type": "code",
   "execution_count": 57,
   "metadata": {
    "ExecuteTime": {
     "end_time": "2025-02-12T06:08:42.116862Z",
     "start_time": "2025-02-12T06:08:42.114235Z"
    }
   },
   "outputs": [
    {
     "name": "stdout",
     "output_type": "stream",
     "text": [
      "CPU times: user 55 μs, sys: 18 μs, total: 73 μs\n",
      "Wall time: 75.1 μs\n"
     ]
    }
   ],
   "source": [
    "%%time\n",
    "x1 = [i**2 for i in range(1000)]"
   ]
  },
  {
   "cell_type": "code",
   "execution_count": 58,
   "metadata": {
    "ExecuteTime": {
     "end_time": "2025-02-12T06:08:43.098741Z",
     "start_time": "2025-02-12T06:08:43.095761Z"
    }
   },
   "outputs": [
    {
     "name": "stdout",
     "output_type": "stream",
     "text": [
      "CPU times: user 22 μs, sys: 8 μs, total: 30 μs\n",
      "Wall time: 26 μs\n"
     ]
    }
   ],
   "source": [
    "%%time\n",
    "x2 = np.arange(1000)**2"
   ]
  },
  {
   "cell_type": "markdown",
   "metadata": {},
   "source": [
    "#### Память"
   ]
  },
  {
   "cell_type": "code",
   "execution_count": 59,
   "metadata": {
    "ExecuteTime": {
     "end_time": "2025-02-12T06:09:15.535455Z",
     "start_time": "2025-02-12T06:09:15.533329Z"
    }
   },
   "outputs": [],
   "source": [
    "import sys"
   ]
  },
  {
   "cell_type": "code",
   "execution_count": 60,
   "metadata": {
    "ExecuteTime": {
     "end_time": "2025-02-12T06:09:16.212158Z",
     "start_time": "2025-02-12T06:09:16.209454Z"
    }
   },
   "outputs": [
    {
     "data": {
      "text/plain": "8856"
     },
     "execution_count": 60,
     "metadata": {},
     "output_type": "execute_result"
    }
   ],
   "source": [
    "x1 = [i**2 for i in range(1000)]\n",
    "sys.getsizeof(x1)"
   ]
  },
  {
   "cell_type": "code",
   "execution_count": 61,
   "metadata": {
    "ExecuteTime": {
     "end_time": "2025-02-12T06:09:17.982241Z",
     "start_time": "2025-02-12T06:09:17.979919Z"
    }
   },
   "outputs": [
    {
     "data": {
      "text/plain": "8112"
     },
     "execution_count": 61,
     "metadata": {},
     "output_type": "execute_result"
    }
   ],
   "source": [
    "x2 = np.arange(1000)**2\n",
    "sys.getsizeof(x2)"
   ]
  },
  {
   "cell_type": "markdown",
   "metadata": {},
   "source": [
    "### Функции и атрибуты"
   ]
  },
  {
   "cell_type": "markdown",
   "metadata": {},
   "source": [
    "#### Типы и кастинг"
   ]
  },
  {
   "cell_type": "code",
   "execution_count": 62,
   "metadata": {
    "ExecuteTime": {
     "end_time": "2025-02-12T06:10:08.287930Z",
     "start_time": "2025-02-12T06:10:08.282997Z"
    }
   },
   "outputs": [
    {
     "data": {
      "text/plain": "array([[1, 2, 3],\n       [1, 2, 3]])"
     },
     "execution_count": 62,
     "metadata": {},
     "output_type": "execute_result"
    }
   ],
   "source": [
    "x = [[1, 2, 3], [1, 2, 3]]\n",
    "x = np.array(x)\n",
    "x"
   ]
  },
  {
   "cell_type": "code",
   "execution_count": 63,
   "metadata": {
    "ExecuteTime": {
     "end_time": "2025-02-12T06:10:14.732968Z",
     "start_time": "2025-02-12T06:10:14.729881Z"
    }
   },
   "outputs": [
    {
     "data": {
      "text/plain": "dtype('int64')"
     },
     "execution_count": 63,
     "metadata": {},
     "output_type": "execute_result"
    }
   ],
   "source": [
    "x.dtype  # тип всех элементов"
   ]
  },
  {
   "cell_type": "code",
   "execution_count": 64,
   "metadata": {
    "ExecuteTime": {
     "end_time": "2025-02-12T06:10:26.323043Z",
     "start_time": "2025-02-12T06:10:26.320784Z"
    }
   },
   "outputs": [
    {
     "data": {
      "text/plain": "array([[1. , 2. , 3.5],\n       [1. , 2. , 3. ]])"
     },
     "execution_count": 64,
     "metadata": {},
     "output_type": "execute_result"
    }
   ],
   "source": [
    "x = [[1, 2, 3.5], [1, 2, 3]]\n",
    "x = np.array(x)\n",
    "x"
   ]
  },
  {
   "cell_type": "code",
   "execution_count": 65,
   "metadata": {
    "ExecuteTime": {
     "end_time": "2025-02-12T06:10:51.059658Z",
     "start_time": "2025-02-12T06:10:51.055182Z"
    }
   },
   "outputs": [
    {
     "data": {
      "text/plain": "dtype('float64')"
     },
     "execution_count": 65,
     "metadata": {},
     "output_type": "execute_result"
    }
   ],
   "source": [
    "x.dtype  # тип всех элементов"
   ]
  },
  {
   "cell_type": "code",
   "execution_count": 66,
   "metadata": {
    "ExecuteTime": {
     "end_time": "2025-02-12T06:10:52.684752Z",
     "start_time": "2025-02-12T06:10:52.682383Z"
    }
   },
   "outputs": [
    {
     "data": {
      "text/plain": "array([['1', '2', '3.5'],\n       ['1', '2', '3']], dtype='<U32')"
     },
     "execution_count": 66,
     "metadata": {},
     "output_type": "execute_result"
    }
   ],
   "source": [
    "x = [[1, '2', 3.5], [1, 2, 3]]\n",
    "x = np.array(x)\n",
    "x"
   ]
  },
  {
   "cell_type": "code",
   "execution_count": 67,
   "metadata": {
    "ExecuteTime": {
     "end_time": "2025-02-12T06:11:33.092030Z",
     "start_time": "2025-02-12T06:11:33.089512Z"
    }
   },
   "outputs": [
    {
     "data": {
      "text/plain": "dtype('<U32')"
     },
     "execution_count": 67,
     "metadata": {},
     "output_type": "execute_result"
    }
   ],
   "source": [
    "x.dtype  # тип всех элементов"
   ]
  },
  {
   "cell_type": "code",
   "execution_count": 68,
   "metadata": {
    "ExecuteTime": {
     "end_time": "2025-02-12T06:11:34.206427Z",
     "start_time": "2025-02-12T06:11:34.204161Z"
    }
   },
   "outputs": [
    {
     "data": {
      "text/plain": "'1'"
     },
     "execution_count": 68,
     "metadata": {},
     "output_type": "execute_result"
    }
   ],
   "source": [
    "x[0][0]"
   ]
  },
  {
   "cell_type": "code",
   "execution_count": 69,
   "metadata": {
    "ExecuteTime": {
     "end_time": "2025-02-12T06:11:37.201393Z",
     "start_time": "2025-02-12T06:11:37.199119Z"
    }
   },
   "outputs": [
    {
     "data": {
      "text/plain": "dtype('<U1')"
     },
     "execution_count": 69,
     "metadata": {},
     "output_type": "execute_result"
    }
   ],
   "source": [
    "x[0][0].dtype"
   ]
  },
  {
   "cell_type": "markdown",
   "metadata": {},
   "source": [
    "#### Shape и reshape"
   ]
  },
  {
   "cell_type": "code",
   "execution_count": 70,
   "metadata": {
    "ExecuteTime": {
     "end_time": "2025-02-12T06:12:08.354515Z",
     "start_time": "2025-02-12T06:12:08.351807Z"
    }
   },
   "outputs": [
    {
     "data": {
      "text/plain": "array([ 1,  2,  3,  4,  5,  6,  7,  8,  9, 10, 11, 12, 13, 14, 15, 16, 17,\n       18, 19, 20])"
     },
     "execution_count": 70,
     "metadata": {},
     "output_type": "execute_result"
    }
   ],
   "source": [
    "x = np.arange(1, 21)  # 1d array\n",
    "x"
   ]
  },
  {
   "cell_type": "code",
   "execution_count": 71,
   "metadata": {
    "ExecuteTime": {
     "end_time": "2025-02-12T06:12:11.374810Z",
     "start_time": "2025-02-12T06:12:11.371858Z"
    }
   },
   "outputs": [
    {
     "data": {
      "text/plain": "(20,)"
     },
     "execution_count": 71,
     "metadata": {},
     "output_type": "execute_result"
    }
   ],
   "source": [
    "x.shape  # 20 строк"
   ]
  },
  {
   "cell_type": "code",
   "execution_count": 72,
   "metadata": {
    "ExecuteTime": {
     "end_time": "2025-02-12T06:12:45.649814Z",
     "start_time": "2025-02-12T06:12:45.645608Z"
    }
   },
   "outputs": [
    {
     "data": {
      "text/plain": "1"
     },
     "execution_count": 72,
     "metadata": {},
     "output_type": "execute_result"
    }
   ],
   "source": [
    "x.ndim  # только одна размерность == 1d array"
   ]
  },
  {
   "cell_type": "code",
   "execution_count": 73,
   "metadata": {
    "ExecuteTime": {
     "end_time": "2025-02-12T06:13:10.116677Z",
     "start_time": "2025-02-12T06:13:10.113781Z"
    }
   },
   "outputs": [
    {
     "data": {
      "text/plain": "array([[ 1,  2,  3,  4,  5,  6,  7,  8,  9, 10],\n       [11, 12, 13, 14, 15, 16, 17, 18, 19, 20]])"
     },
     "execution_count": 73,
     "metadata": {},
     "output_type": "execute_result"
    }
   ],
   "source": [
    "x = x.reshape((2, 10))  # меняем размерность, теперь 2 строки и 10 столбцов\n",
    "x"
   ]
  },
  {
   "cell_type": "code",
   "execution_count": 74,
   "metadata": {
    "ExecuteTime": {
     "end_time": "2025-02-12T06:13:20.603870Z",
     "start_time": "2025-02-12T06:13:20.599893Z"
    }
   },
   "outputs": [
    {
     "data": {
      "text/plain": "(2, 10)"
     },
     "execution_count": 74,
     "metadata": {},
     "output_type": "execute_result"
    }
   ],
   "source": [
    "x.shape"
   ]
  },
  {
   "cell_type": "code",
   "execution_count": 75,
   "metadata": {
    "ExecuteTime": {
     "end_time": "2025-02-12T06:13:32.524769Z",
     "start_time": "2025-02-12T06:13:32.522248Z"
    }
   },
   "outputs": [
    {
     "data": {
      "text/plain": "2"
     },
     "execution_count": 75,
     "metadata": {},
     "output_type": "execute_result"
    }
   ],
   "source": [
    "x.ndim"
   ]
  },
  {
   "cell_type": "code",
   "execution_count": 76,
   "metadata": {
    "ExecuteTime": {
     "end_time": "2025-02-12T06:15:58.706626Z",
     "start_time": "2025-02-12T06:15:58.701209Z"
    }
   },
   "outputs": [
    {
     "data": {
      "text/plain": "array([ 1,  2,  3,  4,  5,  6,  7,  8,  9, 10, 11, 12, 13, 14, 15, 16, 17,\n       18, 19, 20])"
     },
     "execution_count": 76,
     "metadata": {},
     "output_type": "execute_result"
    }
   ],
   "source": [
    "x.reshape((-1,))  # а теперь вернем все назад, \"вытянем\" в вектор"
   ]
  },
  {
   "cell_type": "code",
   "execution_count": 77,
   "metadata": {
    "ExecuteTime": {
     "end_time": "2025-02-12T06:16:11.586147Z",
     "start_time": "2025-02-12T06:16:11.584203Z"
    }
   },
   "outputs": [],
   "source": [
    "x = x.reshape((-1,))  # не забываем присвоить значение"
   ]
  },
  {
   "cell_type": "code",
   "execution_count": 78,
   "metadata": {
    "ExecuteTime": {
     "end_time": "2025-02-12T06:16:20.899053Z",
     "start_time": "2025-02-12T06:16:20.896377Z"
    }
   },
   "outputs": [
    {
     "data": {
      "text/plain": "array([[ 1,  2,  3,  4,  5,  6,  7,  8,  9, 10],\n       [11, 12, 13, 14, 15, 16, 17, 18, 19, 20]])"
     },
     "execution_count": 78,
     "metadata": {},
     "output_type": "execute_result"
    }
   ],
   "source": [
    "x.reshape((2, -1))  # вдруг вы не знаеете, сколько колонок должно быть"
   ]
  },
  {
   "cell_type": "code",
   "execution_count": 79,
   "metadata": {
    "ExecuteTime": {
     "end_time": "2025-02-12T06:17:00.388776Z",
     "start_time": "2025-02-12T06:17:00.385046Z"
    }
   },
   "outputs": [
    {
     "data": {
      "text/plain": "array([[[ 1,  2],\n        [ 3,  4],\n        [ 5,  6],\n        [ 7,  8],\n        [ 9, 10]],\n\n       [[11, 12],\n        [13, 14],\n        [15, 16],\n        [17, 18],\n        [19, 20]]])"
     },
     "execution_count": 79,
     "metadata": {},
     "output_type": "execute_result"
    }
   ],
   "source": [
    "x.reshape((2, 5, 2))  # можно и 3d array сделать"
   ]
  },
  {
   "cell_type": "code",
   "execution_count": 80,
   "metadata": {
    "ExecuteTime": {
     "end_time": "2025-02-12T06:17:49.160280Z",
     "start_time": "2025-02-12T06:17:49.155247Z"
    }
   },
   "outputs": [
    {
     "data": {
      "text/plain": "((2, 5, 2), 3)"
     },
     "execution_count": 80,
     "metadata": {},
     "output_type": "execute_result"
    }
   ],
   "source": [
    "x.reshape((2, 5, 2)).shape, x.reshape((2, 5, 2)).ndim"
   ]
  },
  {
   "cell_type": "code",
   "execution_count": 81,
   "metadata": {
    "ExecuteTime": {
     "end_time": "2025-02-12T06:17:52.513034Z",
     "start_time": "2025-02-12T06:17:52.499812Z"
    }
   },
   "outputs": [
    {
     "ename": "ValueError",
     "evalue": "can only specify one unknown dimension",
     "output_type": "error",
     "traceback": [
      "\u001B[0;31m---------------------------------------------------------------------------\u001B[0m",
      "\u001B[0;31mValueError\u001B[0m                                Traceback (most recent call last)",
      "Cell \u001B[0;32mIn[81], line 1\u001B[0m\n\u001B[0;32m----> 1\u001B[0m x\u001B[38;5;241m.\u001B[39mreshape((\u001B[38;5;241m2\u001B[39m, \u001B[38;5;241m-\u001B[39m\u001B[38;5;241m1\u001B[39m, \u001B[38;5;241m-\u001B[39m\u001B[38;5;241m1\u001B[39m))\n",
      "\u001B[0;31mValueError\u001B[0m: can only specify one unknown dimension"
     ]
    }
   ],
   "source": [
    "x.reshape((2, -1, -1))  # только один раз можно поставить \"-1\""
   ]
  },
  {
   "cell_type": "code",
   "execution_count": 82,
   "metadata": {
    "ExecuteTime": {
     "end_time": "2025-02-12T06:17:58.833606Z",
     "start_time": "2025-02-12T06:17:58.831105Z"
    }
   },
   "outputs": [
    {
     "data": {
      "text/plain": "((2, 5, 2), (2, 10), (20,))"
     },
     "execution_count": 82,
     "metadata": {},
     "output_type": "execute_result"
    }
   ],
   "source": [
    "# почему?\n",
    "x.reshape((2, 5, 2)).shape, x.reshape(2, 10).shape, x.shape"
   ]
  },
  {
   "cell_type": "markdown",
   "metadata": {},
   "source": [
    "#### Задача 2"
   ]
  },
  {
   "cell_type": "markdown",
   "metadata": {},
   "source": [
    "Имеющийся двумерный список X нужно сделать (1) одномерным, (2) трехмерным"
   ]
  },
  {
   "cell_type": "code",
   "execution_count": 83,
   "metadata": {
    "ExecuteTime": {
     "end_time": "2025-02-12T06:19:49.205048Z",
     "start_time": "2025-02-12T06:19:49.199631Z"
    }
   },
   "outputs": [
    {
     "data": {
      "text/plain": "[[1, 2, 3], [2, 3, 4], [3, 4, 5]]"
     },
     "execution_count": 83,
     "metadata": {},
     "output_type": "execute_result"
    }
   ],
   "source": [
    "lst = [[1, 2, 3], [2, 3, 4], [3, 4, 5]]\n",
    "lst"
   ]
  },
  {
   "cell_type": "code",
   "execution_count": 84,
   "metadata": {
    "ExecuteTime": {
     "end_time": "2025-02-12T06:19:51.769622Z",
     "start_time": "2025-02-12T06:19:51.766612Z"
    }
   },
   "outputs": [
    {
     "data": {
      "text/plain": "[1, 2, 3, 2, 3, 4, 3, 4, 5]"
     },
     "execution_count": 84,
     "metadata": {},
     "output_type": "execute_result"
    }
   ],
   "source": [
    "[elem for pack in lst for elem in pack]"
   ]
  },
  {
   "cell_type": "code",
   "execution_count": 86,
   "metadata": {
    "ExecuteTime": {
     "end_time": "2025-02-12T06:20:19.330769Z",
     "start_time": "2025-02-12T06:20:19.326533Z"
    }
   },
   "outputs": [
    {
     "name": "stdout",
     "output_type": "stream",
     "text": [
      "CPU times: user 4 μs, sys: 1 μs, total: 5 μs\n",
      "Wall time: 6.91 μs\n"
     ]
    },
    {
     "data": {
      "text/plain": "[1, 2, 3, 2, 3, 4, 3, 4, 5]"
     },
     "execution_count": 86,
     "metadata": {},
     "output_type": "execute_result"
    }
   ],
   "source": [
    "%%time\n",
    "[elem for pack in lst for elem in pack]  # сложно, долго, неуниверсально"
   ]
  },
  {
   "cell_type": "code",
   "execution_count": 87,
   "metadata": {
    "ExecuteTime": {
     "end_time": "2025-02-12T06:20:33.152273Z",
     "start_time": "2025-02-12T06:20:33.148596Z"
    }
   },
   "outputs": [
    {
     "data": {
      "text/plain": "array([1, 2, 3, 2, 3, 4, 3, 4, 5])"
     },
     "execution_count": 87,
     "metadata": {},
     "output_type": "execute_result"
    }
   ],
   "source": [
    "np.array(lst).reshape((-1,))"
   ]
  },
  {
   "cell_type": "code",
   "execution_count": 88,
   "metadata": {
    "ExecuteTime": {
     "end_time": "2025-02-12T06:21:02.390884Z",
     "start_time": "2025-02-12T06:21:02.387743Z"
    }
   },
   "outputs": [
    {
     "name": "stdout",
     "output_type": "stream",
     "text": [
      "CPU times: user 33 μs, sys: 11 μs, total: 44 μs\n",
      "Wall time: 46 μs\n"
     ]
    },
    {
     "data": {
      "text/plain": "array([1, 2, 3, 2, 3, 4, 3, 4, 5])"
     },
     "execution_count": 88,
     "metadata": {},
     "output_type": "execute_result"
    }
   ],
   "source": [
    "%%time\n",
    "np.array(lst).reshape((-1,))"
   ]
  },
  {
   "cell_type": "code",
   "execution_count": 89,
   "metadata": {
    "ExecuteTime": {
     "end_time": "2025-02-12T06:21:28.160004Z",
     "start_time": "2025-02-12T06:21:28.158238Z"
    }
   },
   "outputs": [],
   "source": [
    "lst_new = np.array(lst)"
   ]
  },
  {
   "cell_type": "code",
   "execution_count": 90,
   "metadata": {
    "ExecuteTime": {
     "end_time": "2025-02-12T06:21:33.993968Z",
     "start_time": "2025-02-12T06:21:33.991437Z"
    }
   },
   "outputs": [
    {
     "name": "stdout",
     "output_type": "stream",
     "text": [
      "CPU times: user 4 μs, sys: 1e+03 ns, total: 5 μs\n",
      "Wall time: 6.91 μs\n"
     ]
    },
    {
     "data": {
      "text/plain": "array([1, 2, 3, 2, 3, 4, 3, 4, 5])"
     },
     "execution_count": 90,
     "metadata": {},
     "output_type": "execute_result"
    }
   ],
   "source": [
    "%%time\n",
    "lst_new.reshape((-1,))"
   ]
  },
  {
   "cell_type": "markdown",
   "metadata": {},
   "source": [
    "#### Функции и методы"
   ]
  },
  {
   "cell_type": "code",
   "execution_count": 91,
   "metadata": {
    "ExecuteTime": {
     "end_time": "2025-02-12T06:22:41.271549Z",
     "start_time": "2025-02-12T06:22:41.260094Z"
    }
   },
   "outputs": [
    {
     "data": {
      "text/plain": "array([[ 1,  2,  3,  4],\n       [ 5,  6,  7,  8],\n       [ 9, 10, 11, 12],\n       [13, 14, 15, 16],\n       [17, 18, 19, 20]])"
     },
     "execution_count": 91,
     "metadata": {},
     "output_type": "execute_result"
    }
   ],
   "source": [
    "x = np.arange(1, 21)\n",
    "x = x.reshape((5, 4))\n",
    "x"
   ]
  },
  {
   "cell_type": "code",
   "execution_count": 92,
   "metadata": {
    "ExecuteTime": {
     "end_time": "2025-02-12T06:22:45.360124Z",
     "start_time": "2025-02-12T06:22:45.356955Z"
    }
   },
   "outputs": [
    {
     "data": {
      "text/plain": "10.5"
     },
     "execution_count": 92,
     "metadata": {},
     "output_type": "execute_result"
    }
   ],
   "source": [
    "x.mean()  # среднее массива"
   ]
  },
  {
   "cell_type": "code",
   "execution_count": 93,
   "metadata": {
    "ExecuteTime": {
     "end_time": "2025-02-12T06:22:51.478305Z",
     "start_time": "2025-02-12T06:22:51.475183Z"
    }
   },
   "outputs": [
    {
     "data": {
      "text/plain": "array([ 9., 10., 11., 12.])"
     },
     "execution_count": 93,
     "metadata": {},
     "output_type": "execute_result"
    }
   ],
   "source": [
    "x.mean(axis=0)  # среднее по размерностям (столбцы)"
   ]
  },
  {
   "cell_type": "code",
   "execution_count": 94,
   "metadata": {
    "ExecuteTime": {
     "end_time": "2025-02-12T06:22:54.439937Z",
     "start_time": "2025-02-12T06:22:54.436941Z"
    }
   },
   "outputs": [
    {
     "data": {
      "text/plain": "array([ 2.5,  6.5, 10.5, 14.5, 18.5])"
     },
     "execution_count": 94,
     "metadata": {},
     "output_type": "execute_result"
    }
   ],
   "source": [
    "x.mean(axis=1)  # среднее по строкам"
   ]
  },
  {
   "cell_type": "code",
   "execution_count": 95,
   "metadata": {
    "ExecuteTime": {
     "end_time": "2025-02-12T06:22:58.846664Z",
     "start_time": "2025-02-12T06:22:58.816905Z"
    }
   },
   "outputs": [
    {
     "ename": "AxisError",
     "evalue": "axis 2 is out of bounds for array of dimension 2",
     "output_type": "error",
     "traceback": [
      "\u001B[0;31m---------------------------------------------------------------------------\u001B[0m",
      "\u001B[0;31mAxisError\u001B[0m                                 Traceback (most recent call last)",
      "Cell \u001B[0;32mIn[95], line 1\u001B[0m\n\u001B[0;32m----> 1\u001B[0m x\u001B[38;5;241m.\u001B[39mmean(axis\u001B[38;5;241m=\u001B[39m\u001B[38;5;241m2\u001B[39m)\n",
      "File \u001B[0;32m/opt/anaconda3/lib/python3.12/site-packages/numpy/core/_methods.py:106\u001B[0m, in \u001B[0;36m_mean\u001B[0;34m(a, axis, dtype, out, keepdims, where)\u001B[0m\n\u001B[1;32m    102\u001B[0m arr \u001B[38;5;241m=\u001B[39m asanyarray(a)\n\u001B[1;32m    104\u001B[0m is_float16_result \u001B[38;5;241m=\u001B[39m \u001B[38;5;28;01mFalse\u001B[39;00m\n\u001B[0;32m--> 106\u001B[0m rcount \u001B[38;5;241m=\u001B[39m _count_reduce_items(arr, axis, keepdims\u001B[38;5;241m=\u001B[39mkeepdims, where\u001B[38;5;241m=\u001B[39mwhere)\n\u001B[1;32m    107\u001B[0m \u001B[38;5;28;01mif\u001B[39;00m rcount \u001B[38;5;241m==\u001B[39m \u001B[38;5;241m0\u001B[39m \u001B[38;5;28;01mif\u001B[39;00m where \u001B[38;5;129;01mis\u001B[39;00m \u001B[38;5;28;01mTrue\u001B[39;00m \u001B[38;5;28;01melse\u001B[39;00m umr_any(rcount \u001B[38;5;241m==\u001B[39m \u001B[38;5;241m0\u001B[39m, axis\u001B[38;5;241m=\u001B[39m\u001B[38;5;28;01mNone\u001B[39;00m):\n\u001B[1;32m    108\u001B[0m     warnings\u001B[38;5;241m.\u001B[39mwarn(\u001B[38;5;124m\"\u001B[39m\u001B[38;5;124mMean of empty slice.\u001B[39m\u001B[38;5;124m\"\u001B[39m, \u001B[38;5;167;01mRuntimeWarning\u001B[39;00m, stacklevel\u001B[38;5;241m=\u001B[39m\u001B[38;5;241m2\u001B[39m)\n",
      "File \u001B[0;32m/opt/anaconda3/lib/python3.12/site-packages/numpy/core/_methods.py:77\u001B[0m, in \u001B[0;36m_count_reduce_items\u001B[0;34m(arr, axis, keepdims, where)\u001B[0m\n\u001B[1;32m     75\u001B[0m     items \u001B[38;5;241m=\u001B[39m \u001B[38;5;241m1\u001B[39m\n\u001B[1;32m     76\u001B[0m     \u001B[38;5;28;01mfor\u001B[39;00m ax \u001B[38;5;129;01min\u001B[39;00m axis:\n\u001B[0;32m---> 77\u001B[0m         items \u001B[38;5;241m*\u001B[39m\u001B[38;5;241m=\u001B[39m arr\u001B[38;5;241m.\u001B[39mshape[mu\u001B[38;5;241m.\u001B[39mnormalize_axis_index(ax, arr\u001B[38;5;241m.\u001B[39mndim)]\n\u001B[1;32m     78\u001B[0m     items \u001B[38;5;241m=\u001B[39m nt\u001B[38;5;241m.\u001B[39mintp(items)\n\u001B[1;32m     79\u001B[0m \u001B[38;5;28;01melse\u001B[39;00m:\n\u001B[1;32m     80\u001B[0m     \u001B[38;5;66;03m# TODO: Optimize case when `where` is broadcast along a non-reduction\u001B[39;00m\n\u001B[1;32m     81\u001B[0m     \u001B[38;5;66;03m# axis and full sum is more excessive than needed.\u001B[39;00m\n\u001B[1;32m     82\u001B[0m \n\u001B[1;32m     83\u001B[0m     \u001B[38;5;66;03m# guarded to protect circular imports\u001B[39;00m\n",
      "\u001B[0;31mAxisError\u001B[0m: axis 2 is out of bounds for array of dimension 2"
     ]
    }
   ],
   "source": [
    "x.mean(axis=2)  # а нету 3 размерности, их всего 2 штуки"
   ]
  },
  {
   "cell_type": "code",
   "execution_count": 96,
   "metadata": {
    "ExecuteTime": {
     "end_time": "2025-02-12T06:23:10.569310Z",
     "start_time": "2025-02-12T06:23:10.566737Z"
    }
   },
   "outputs": [
    {
     "data": {
      "text/plain": "True"
     },
     "execution_count": 96,
     "metadata": {},
     "output_type": "execute_result"
    }
   ],
   "source": [
    "np.mean(x) == x.mean()  # функции numpy дают тот же результат, что и методы"
   ]
  },
  {
   "cell_type": "code",
   "execution_count": 97,
   "metadata": {
    "ExecuteTime": {
     "end_time": "2025-02-12T06:24:23.619060Z",
     "start_time": "2025-02-12T06:24:23.611279Z"
    }
   },
   "outputs": [
    {
     "data": {
      "text/plain": "2.0"
     },
     "execution_count": 97,
     "metadata": {},
     "output_type": "execute_result"
    }
   ],
   "source": [
    "np.mean([1, 2, 3])  # но функциям можно давать не только numpy.array на вход"
   ]
  },
  {
   "cell_type": "code",
   "execution_count": 98,
   "metadata": {
    "ExecuteTime": {
     "end_time": "2025-02-12T06:24:27.992931Z",
     "start_time": "2025-02-12T06:24:27.990158Z"
    }
   },
   "outputs": [
    {
     "data": {
      "text/plain": "array([1.11803399, 1.11803399, 1.11803399, 1.11803399, 1.11803399])"
     },
     "execution_count": 98,
     "metadata": {},
     "output_type": "execute_result"
    }
   ],
   "source": [
    "np.std(x, axis=1)"
   ]
  },
  {
   "cell_type": "code",
   "execution_count": 99,
   "metadata": {
    "ExecuteTime": {
     "end_time": "2025-02-12T06:24:39.290883Z",
     "start_time": "2025-02-12T06:24:39.286278Z"
    }
   },
   "outputs": [
    {
     "data": {
      "text/plain": "array([ 9., 10., 11., 12.])"
     },
     "execution_count": 99,
     "metadata": {},
     "output_type": "execute_result"
    }
   ],
   "source": [
    "np.median(x, axis=0)"
   ]
  },
  {
   "cell_type": "code",
   "execution_count": 100,
   "metadata": {
    "ExecuteTime": {
     "end_time": "2025-02-12T06:25:26.624932Z",
     "start_time": "2025-02-12T06:25:26.622423Z"
    }
   },
   "outputs": [
    {
     "data": {
      "text/plain": "53.5723809439155"
     },
     "execution_count": 100,
     "metadata": {},
     "output_type": "execute_result"
    }
   ],
   "source": [
    "np.linalg.norm(x)"
   ]
  },
  {
   "cell_type": "code",
   "execution_count": 101,
   "metadata": {
    "ExecuteTime": {
     "end_time": "2025-02-12T06:25:32.238970Z",
     "start_time": "2025-02-12T06:25:32.236412Z"
    }
   },
   "outputs": [
    {
     "data": {
      "text/plain": "array([[ 1,  2,  3,  4],\n       [ 5,  6,  7,  8],\n       [ 9, 10, 11, 12],\n       [13, 14, 15, 16],\n       [17, 18, 19, 20]])"
     },
     "execution_count": 101,
     "metadata": {},
     "output_type": "execute_result"
    }
   ],
   "source": [
    "x"
   ]
  },
  {
   "cell_type": "code",
   "execution_count": 102,
   "metadata": {
    "ExecuteTime": {
     "end_time": "2025-02-12T06:25:47.078945Z",
     "start_time": "2025-02-12T06:25:47.075438Z"
    }
   },
   "outputs": [
    {
     "data": {
      "text/plain": "array([[ 1,  5,  9, 13, 17],\n       [ 2,  6, 10, 14, 18],\n       [ 3,  7, 11, 15, 19],\n       [ 4,  8, 12, 16, 20]])"
     },
     "execution_count": 102,
     "metadata": {},
     "output_type": "execute_result"
    }
   ],
   "source": [
    "x.transpose()"
   ]
  },
  {
   "cell_type": "code",
   "execution_count": 103,
   "metadata": {
    "ExecuteTime": {
     "end_time": "2025-02-12T06:26:48.083628Z",
     "start_time": "2025-02-12T06:26:48.078763Z"
    }
   },
   "outputs": [
    {
     "data": {
      "text/plain": "array([[ 1,  5,  9, 13, 17],\n       [ 2,  6, 10, 14, 18],\n       [ 3,  7, 11, 15, 19],\n       [ 4,  8, 12, 16, 20]])"
     },
     "execution_count": 103,
     "metadata": {},
     "output_type": "execute_result"
    }
   ],
   "source": [
    "x.T"
   ]
  },
  {
   "cell_type": "code",
   "execution_count": 104,
   "metadata": {
    "ExecuteTime": {
     "end_time": "2025-02-12T06:26:52.460590Z",
     "start_time": "2025-02-12T06:26:52.457675Z"
    }
   },
   "outputs": [
    {
     "data": {
      "text/plain": "array([[ True,  True,  True,  True,  True],\n       [ True,  True,  True,  True,  True],\n       [ True,  True,  True,  True,  True],\n       [ True,  True,  True,  True,  True]])"
     },
     "execution_count": 104,
     "metadata": {},
     "output_type": "execute_result"
    }
   ],
   "source": [
    "x.T == x.transpose()"
   ]
  },
  {
   "cell_type": "code",
   "execution_count": 105,
   "metadata": {
    "ExecuteTime": {
     "end_time": "2025-02-12T06:27:03.087017Z",
     "start_time": "2025-02-12T06:27:03.083831Z"
    }
   },
   "outputs": [
    {
     "data": {
      "text/plain": "array([[0.43857224, 0.0596779 , 0.39804426, 0.73799541, 0.18249173],\n       [0.17545176, 0.53155137, 0.53182759, 0.63440096, 0.84943179],\n       [0.72445532, 0.61102351, 0.72244338, 0.32295891, 0.36178866],\n       [0.22826323, 0.29371405, 0.63097612, 0.09210494, 0.43370117],\n       [0.43086276, 0.4936851 , 0.42583029, 0.31226122, 0.42635131]])"
     },
     "execution_count": 105,
     "metadata": {},
     "output_type": "execute_result"
    }
   ],
   "source": [
    "x = np.random.rand(5, 5)  # квадратная матрица\n",
    "x"
   ]
  },
  {
   "cell_type": "code",
   "execution_count": 106,
   "metadata": {
    "ExecuteTime": {
     "end_time": "2025-02-12T06:27:44.276258Z",
     "start_time": "2025-02-12T06:27:44.273025Z"
    }
   },
   "outputs": [
    {
     "data": {
      "text/plain": "0.005529177094692626"
     },
     "execution_count": 106,
     "metadata": {},
     "output_type": "execute_result"
    }
   ],
   "source": [
    "np.linalg.det(x)"
   ]
  },
  {
   "cell_type": "code",
   "execution_count": 107,
   "metadata": {
    "ExecuteTime": {
     "end_time": "2025-02-12T06:27:49.214849Z",
     "start_time": "2025-02-12T06:27:49.213215Z"
    }
   },
   "outputs": [],
   "source": [
    "b = np.array([1, 2, 7, 4, 5])"
   ]
  },
  {
   "cell_type": "code",
   "execution_count": 108,
   "metadata": {
    "ExecuteTime": {
     "end_time": "2025-02-12T06:27:58.250179Z",
     "start_time": "2025-02-12T06:27:58.246256Z"
    }
   },
   "outputs": [
    {
     "data": {
      "text/plain": "array([ 20.50625459,  -9.47885566,  -5.97272384, -10.75618172,\n        15.82332068])"
     },
     "execution_count": 108,
     "metadata": {},
     "output_type": "execute_result"
    }
   ],
   "source": [
    "np.linalg.solve(x, b)  # решить, как систему линейных уравнений Ax=b"
   ]
  },
  {
   "cell_type": "markdown",
   "metadata": {},
   "source": [
    "### Операции"
   ]
  },
  {
   "cell_type": "code",
   "execution_count": 109,
   "metadata": {
    "ExecuteTime": {
     "end_time": "2025-02-12T06:30:00.940929Z",
     "start_time": "2025-02-12T06:30:00.937384Z"
    }
   },
   "outputs": [],
   "source": [
    "x = np.random.rand(5)\n",
    "y = np.random.rand(5)"
   ]
  },
  {
   "cell_type": "code",
   "execution_count": 110,
   "metadata": {
    "ExecuteTime": {
     "end_time": "2025-02-12T06:30:02.420790Z",
     "start_time": "2025-02-12T06:30:02.417934Z"
    }
   },
   "outputs": [
    {
     "data": {
      "text/plain": "array([0.89338916, 0.94416002, 0.50183668, 0.62395295, 0.1156184 ])"
     },
     "execution_count": 110,
     "metadata": {},
     "output_type": "execute_result"
    }
   ],
   "source": [
    "x"
   ]
  },
  {
   "cell_type": "code",
   "execution_count": 111,
   "metadata": {
    "ExecuteTime": {
     "end_time": "2025-02-12T06:30:03.376489Z",
     "start_time": "2025-02-12T06:30:03.373060Z"
    }
   },
   "outputs": [
    {
     "data": {
      "text/plain": "array([0.31728548, 0.41482621, 0.86630916, 0.25045537, 0.48303426])"
     },
     "execution_count": 111,
     "metadata": {},
     "output_type": "execute_result"
    }
   ],
   "source": [
    "y"
   ]
  },
  {
   "cell_type": "markdown",
   "metadata": {},
   "source": [
    "Обычно для операций необходимо, чтобы совпадали (1) типы и (2) размеры массивов"
   ]
  },
  {
   "cell_type": "code",
   "execution_count": 112,
   "metadata": {
    "ExecuteTime": {
     "end_time": "2025-02-12T06:30:08.240110Z",
     "start_time": "2025-02-12T06:30:08.237666Z"
    }
   },
   "outputs": [
    {
     "data": {
      "text/plain": "array([False, False, False, False, False])"
     },
     "execution_count": 112,
     "metadata": {},
     "output_type": "execute_result"
    }
   ],
   "source": [
    "x == y"
   ]
  },
  {
   "cell_type": "markdown",
   "metadata": {},
   "source": [
    "Операции выполняются по умолчанию поэлементно"
   ]
  },
  {
   "cell_type": "code",
   "execution_count": 113,
   "metadata": {
    "ExecuteTime": {
     "end_time": "2025-02-12T06:30:16.310967Z",
     "start_time": "2025-02-12T06:30:16.307317Z"
    }
   },
   "outputs": [
    {
     "data": {
      "text/plain": "array([1.21067464, 1.35898623, 1.36814583, 0.87440832, 0.59865266])"
     },
     "execution_count": 113,
     "metadata": {},
     "output_type": "execute_result"
    }
   ],
   "source": [
    "x + y"
   ]
  },
  {
   "cell_type": "code",
   "execution_count": 114,
   "metadata": {
    "ExecuteTime": {
     "end_time": "2025-02-12T06:30:18.206646Z",
     "start_time": "2025-02-12T06:30:18.203436Z"
    }
   },
   "outputs": [
    {
     "data": {
      "text/plain": "array([0.28345941, 0.39166232, 0.43474571, 0.15627236, 0.05584765])"
     },
     "execution_count": 114,
     "metadata": {},
     "output_type": "execute_result"
    }
   ],
   "source": [
    "x * y"
   ]
  },
  {
   "cell_type": "code",
   "execution_count": 115,
   "metadata": {
    "ExecuteTime": {
     "end_time": "2025-02-12T06:30:19.371167Z",
     "start_time": "2025-02-12T06:30:19.368121Z"
    }
   },
   "outputs": [
    {
     "data": {
      "text/plain": "array([0.96486359, 0.97644607, 0.5502936 , 0.88857621, 0.35270361])"
     },
     "execution_count": 115,
     "metadata": {},
     "output_type": "execute_result"
    }
   ],
   "source": [
    "x ** y"
   ]
  },
  {
   "cell_type": "code",
   "execution_count": 116,
   "metadata": {
    "ExecuteTime": {
     "end_time": "2025-02-12T06:30:20.856974Z",
     "start_time": "2025-02-12T06:30:20.854370Z"
    }
   },
   "outputs": [
    {
     "data": {
      "text/plain": "array([0., 0., 0., 0., 0.])"
     },
     "execution_count": 116,
     "metadata": {},
     "output_type": "execute_result"
    }
   ],
   "source": [
    "x - x"
   ]
  },
  {
   "cell_type": "code",
   "execution_count": 117,
   "metadata": {
    "ExecuteTime": {
     "end_time": "2025-02-12T06:30:27.660049Z",
     "start_time": "2025-02-12T06:30:27.657298Z"
    }
   },
   "outputs": [
    {
     "data": {
      "text/plain": "array([0.50559203, 0.55476249, 0.646891  , 0.42497274, 0.41633738])"
     },
     "execution_count": 117,
     "metadata": {},
     "output_type": "execute_result"
    }
   ],
   "source": [
    "(x + 1 + y * 2) / 5"
   ]
  },
  {
   "cell_type": "markdown",
   "metadata": {},
   "source": [
    "$\\frac{1}{N}\\sum_{i=1}^{N}(x-y)^2$"
   ]
  },
  {
   "cell_type": "code",
   "execution_count": 118,
   "metadata": {
    "ExecuteTime": {
     "end_time": "2025-02-12T06:30:40.363328Z",
     "start_time": "2025-02-12T06:30:40.359891Z"
    }
   },
   "outputs": [
    {
     "data": {
      "text/plain": "0.20388495762975806"
     },
     "execution_count": 118,
     "metadata": {},
     "output_type": "execute_result"
    }
   ],
   "source": [
    "((x - y) ** 2).mean()"
   ]
  },
  {
   "cell_type": "markdown",
   "metadata": {},
   "source": [
    "Есть и непоэлементные операции"
   ]
  },
  {
   "cell_type": "code",
   "execution_count": 119,
   "metadata": {
    "ExecuteTime": {
     "end_time": "2025-02-12T06:30:55.137115Z",
     "start_time": "2025-02-12T06:30:55.133373Z"
    }
   },
   "outputs": [
    {
     "data": {
      "text/plain": "1.3219874539162924"
     },
     "execution_count": 119,
     "metadata": {},
     "output_type": "execute_result"
    }
   ],
   "source": [
    "x.dot(y)  # матричное множение"
   ]
  },
  {
   "cell_type": "code",
   "execution_count": 120,
   "metadata": {
    "ExecuteTime": {
     "end_time": "2025-02-12T06:31:01.511954Z",
     "start_time": "2025-02-12T06:31:01.509535Z"
    }
   },
   "outputs": [
    {
     "data": {
      "text/plain": "1.3219874539162924"
     },
     "execution_count": 120,
     "metadata": {},
     "output_type": "execute_result"
    }
   ],
   "source": [
    "x.dot(y.T)"
   ]
  },
  {
   "cell_type": "code",
   "execution_count": 121,
   "metadata": {
    "ExecuteTime": {
     "end_time": "2025-02-12T06:31:07.407136Z",
     "start_time": "2025-02-12T06:31:07.404592Z"
    }
   },
   "outputs": [
    {
     "data": {
      "text/plain": "1.3219874539162926"
     },
     "execution_count": 121,
     "metadata": {},
     "output_type": "execute_result"
    }
   ],
   "source": [
    "(x * y).sum()"
   ]
  },
  {
   "cell_type": "code",
   "execution_count": 122,
   "metadata": {
    "ExecuteTime": {
     "end_time": "2025-02-12T06:31:12.043238Z",
     "start_time": "2025-02-12T06:31:12.041139Z"
    }
   },
   "outputs": [],
   "source": [
    "x = np.random.rand(3, 4)\n",
    "y = np.random.rand(7, 4)"
   ]
  },
  {
   "cell_type": "code",
   "execution_count": 123,
   "metadata": {
    "ExecuteTime": {
     "end_time": "2025-02-12T06:31:18.678980Z",
     "start_time": "2025-02-12T06:31:18.667047Z"
    }
   },
   "outputs": [
    {
     "ename": "ValueError",
     "evalue": "shapes (3,4) and (7,4) not aligned: 4 (dim 1) != 7 (dim 0)",
     "output_type": "error",
     "traceback": [
      "\u001B[0;31m---------------------------------------------------------------------------\u001B[0m",
      "\u001B[0;31mValueError\u001B[0m                                Traceback (most recent call last)",
      "Cell \u001B[0;32mIn[123], line 1\u001B[0m\n\u001B[0;32m----> 1\u001B[0m x\u001B[38;5;241m.\u001B[39mdot(y)\n",
      "\u001B[0;31mValueError\u001B[0m: shapes (3,4) and (7,4) not aligned: 4 (dim 1) != 7 (dim 0)"
     ]
    }
   ],
   "source": [
    "x.dot(y)  # общая размерность должна совпадать"
   ]
  },
  {
   "cell_type": "code",
   "execution_count": 124,
   "metadata": {
    "ExecuteTime": {
     "end_time": "2025-02-12T06:31:22.867920Z",
     "start_time": "2025-02-12T06:31:22.865349Z"
    }
   },
   "outputs": [
    {
     "data": {
      "text/plain": "((3, 4), (7, 4))"
     },
     "execution_count": 124,
     "metadata": {},
     "output_type": "execute_result"
    }
   ],
   "source": [
    "x.shape, y.shape"
   ]
  },
  {
   "cell_type": "code",
   "execution_count": 125,
   "metadata": {
    "ExecuteTime": {
     "end_time": "2025-02-12T06:31:25.304068Z",
     "start_time": "2025-02-12T06:31:25.301519Z"
    }
   },
   "outputs": [
    {
     "data": {
      "text/plain": "((3, 4), (4, 7))"
     },
     "execution_count": 125,
     "metadata": {},
     "output_type": "execute_result"
    }
   ],
   "source": [
    "x.shape, y.T.shape"
   ]
  },
  {
   "cell_type": "markdown",
   "metadata": {},
   "source": [
    "Порядок умножения матриц имеет значение!"
   ]
  },
  {
   "cell_type": "code",
   "execution_count": 126,
   "metadata": {
    "ExecuteTime": {
     "end_time": "2025-02-12T06:35:04.666163Z",
     "start_time": "2025-02-12T06:35:04.647177Z"
    }
   },
   "outputs": [
    {
     "data": {
      "text/plain": "(array([[1.28524886, 1.24564255, 0.70344513, 1.64371259, 0.99097997,\n         1.34205967, 1.42289393],\n        [1.35898885, 1.37261601, 0.66331435, 1.50969014, 0.96608912,\n         1.33417315, 1.46058659],\n        [1.38062383, 1.28171465, 0.62890684, 1.03780759, 0.65527684,\n         1.30123617, 1.39040531]]),\n (3, 7))"
     },
     "execution_count": 126,
     "metadata": {},
     "output_type": "execute_result"
    }
   ],
   "source": [
    "x.dot(y.T), x.dot(y.T).shape"
   ]
  },
  {
   "cell_type": "code",
   "execution_count": 127,
   "metadata": {
    "ExecuteTime": {
     "end_time": "2025-02-12T06:35:06.862173Z",
     "start_time": "2025-02-12T06:35:06.859692Z"
    }
   },
   "outputs": [
    {
     "data": {
      "text/plain": "(array([[1.28524886, 1.35898885, 1.38062383],\n        [1.24564255, 1.37261601, 1.28171465],\n        [0.70344513, 0.66331435, 0.62890684],\n        [1.64371259, 1.50969014, 1.03780759],\n        [0.99097997, 0.96608912, 0.65527684],\n        [1.34205967, 1.33417315, 1.30123617],\n        [1.42289393, 1.46058659, 1.39040531]]),\n (7, 3))"
     },
     "execution_count": 127,
     "metadata": {},
     "output_type": "execute_result"
    }
   ],
   "source": [
    "y.dot(x.T), y.dot(x.T).shape"
   ]
  },
  {
   "cell_type": "markdown",
   "metadata": {},
   "source": [
    "Еще немного магии с индексами и операциями"
   ]
  },
  {
   "cell_type": "code",
   "execution_count": 128,
   "metadata": {
    "ExecuteTime": {
     "end_time": "2025-02-12T06:35:08.820319Z",
     "start_time": "2025-02-12T06:35:08.817863Z"
    }
   },
   "outputs": [
    {
     "data": {
      "text/plain": "array([[0.98555979, 0.51948512, 0.61289453, 0.12062867],\n       [0.8263408 , 0.60306013, 0.54506801, 0.34276383],\n       [0.30412079, 0.41702221, 0.68130077, 0.87545684]])"
     },
     "execution_count": 128,
     "metadata": {},
     "output_type": "execute_result"
    }
   ],
   "source": [
    "x"
   ]
  },
  {
   "cell_type": "code",
   "execution_count": 129,
   "metadata": {
    "ExecuteTime": {
     "end_time": "2025-02-12T06:35:11.635024Z",
     "start_time": "2025-02-12T06:35:11.632313Z"
    }
   },
   "outputs": [
    {
     "data": {
      "text/plain": "array([0.98555979, 0.51948512, 0.61289453, 0.12062867])"
     },
     "execution_count": 129,
     "metadata": {},
     "output_type": "execute_result"
    }
   ],
   "source": [
    "x[0]  # первая строка"
   ]
  },
  {
   "cell_type": "code",
   "execution_count": 130,
   "metadata": {
    "ExecuteTime": {
     "end_time": "2025-02-12T06:35:16.406550Z",
     "start_time": "2025-02-12T06:35:16.403430Z"
    }
   },
   "outputs": [
    {
     "data": {
      "text/plain": "array([0.98555979, 0.8263408 , 0.30412079])"
     },
     "execution_count": 130,
     "metadata": {},
     "output_type": "execute_result"
    }
   ],
   "source": [
    "x[:, 0]  # первая колонка"
   ]
  },
  {
   "cell_type": "code",
   "execution_count": 131,
   "metadata": {
    "ExecuteTime": {
     "end_time": "2025-02-12T06:36:00.390972Z",
     "start_time": "2025-02-12T06:36:00.385651Z"
    }
   },
   "outputs": [
    {
     "data": {
      "text/plain": "0.985559785610705"
     },
     "execution_count": 131,
     "metadata": {},
     "output_type": "execute_result"
    }
   ],
   "source": [
    "x[0, 0]  # элемент из первой строки и первого столбца"
   ]
  },
  {
   "cell_type": "code",
   "execution_count": 132,
   "metadata": {
    "ExecuteTime": {
     "end_time": "2025-02-12T06:36:45.970216Z",
     "start_time": "2025-02-12T06:36:45.966790Z"
    }
   },
   "outputs": [
    {
     "data": {
      "text/plain": "array([0.8263408 , 0.30412079])"
     },
     "execution_count": 132,
     "metadata": {},
     "output_type": "execute_result"
    }
   ],
   "source": [
    "x[[1, 2], 0]  # 1 и 2 строки, но только 0 столбец"
   ]
  },
  {
   "cell_type": "code",
   "execution_count": 133,
   "metadata": {
    "ExecuteTime": {
     "end_time": "2025-02-12T06:37:13.225738Z",
     "start_time": "2025-02-12T06:37:13.222643Z"
    }
   },
   "outputs": [
    {
     "data": {
      "text/plain": "array([0.30412079, 0.87545684])"
     },
     "execution_count": 133,
     "metadata": {},
     "output_type": "execute_result"
    }
   ],
   "source": [
    "x[-1, [0, -1]]  # последняя строка, но только первый и последний столбцы"
   ]
  },
  {
   "cell_type": "code",
   "execution_count": 134,
   "metadata": {
    "ExecuteTime": {
     "end_time": "2025-02-12T06:39:25.394497Z",
     "start_time": "2025-02-12T06:39:25.381783Z"
    }
   },
   "outputs": [
    {
     "data": {
      "text/plain": "array([[0.98555979, 0.51948512, 0.61289453, 0.12062867],\n       [0.8263408 , 0.60306013, 0.54506801, 0.34276383],\n       [0.30412079, 0.41702221, 0.68130077, 0.87545684]])"
     },
     "execution_count": 134,
     "metadata": {},
     "output_type": "execute_result"
    }
   ],
   "source": [
    "x[:, :]"
   ]
  },
  {
   "cell_type": "code",
   "execution_count": 135,
   "metadata": {
    "ExecuteTime": {
     "end_time": "2025-02-12T06:39:27.401060Z",
     "start_time": "2025-02-12T06:39:27.398319Z"
    }
   },
   "outputs": [
    {
     "data": {
      "text/plain": "array([[0.61289453, 0.12062867],\n       [0.54506801, 0.34276383]])"
     },
     "execution_count": 135,
     "metadata": {},
     "output_type": "execute_result"
    }
   ],
   "source": [
    "x[0:2, 2:]"
   ]
  },
  {
   "cell_type": "code",
   "execution_count": 136,
   "metadata": {
    "ExecuteTime": {
     "end_time": "2025-02-12T06:39:29.947728Z",
     "start_time": "2025-02-12T06:39:29.945039Z"
    }
   },
   "outputs": [
    {
     "data": {
      "text/plain": "array([[0.98555979, 0.51948512, 0.61289453, 0.12062867],\n       [0.8263408 , 0.60306013, 0.54506801, 0.34276383],\n       [0.30412079, 0.41702221, 0.68130077, 0.87545684]])"
     },
     "execution_count": 136,
     "metadata": {},
     "output_type": "execute_result"
    }
   ],
   "source": [
    "x"
   ]
  },
  {
   "cell_type": "code",
   "execution_count": 137,
   "metadata": {
    "ExecuteTime": {
     "end_time": "2025-02-12T06:39:37.532701Z",
     "start_time": "2025-02-12T06:39:37.529918Z"
    }
   },
   "outputs": [
    {
     "data": {
      "text/plain": "array([0.98555979, 1.5050449 , 2.11793943, 2.2385681 , 3.0649089 ,\n       3.66796903, 4.21303703, 4.55580087, 4.85992165, 5.27694387,\n       5.95824463, 6.83370147])"
     },
     "execution_count": 137,
     "metadata": {},
     "output_type": "execute_result"
    }
   ],
   "source": [
    "x.cumsum()"
   ]
  },
  {
   "cell_type": "code",
   "execution_count": 138,
   "metadata": {
    "ExecuteTime": {
     "end_time": "2025-02-12T06:39:40.978144Z",
     "start_time": "2025-02-12T06:39:40.975004Z"
    }
   },
   "outputs": [
    {
     "data": {
      "text/plain": "array([[0.98555979, 1.5050449 , 2.11793943, 2.2385681 ],\n       [0.8263408 , 1.42940093, 1.97446894, 2.31723277],\n       [0.30412079, 0.721143  , 1.40244377, 2.27790061]])"
     },
     "execution_count": 138,
     "metadata": {},
     "output_type": "execute_result"
    }
   ],
   "source": [
    "x.cumsum(axis=1)"
   ]
  },
  {
   "cell_type": "code",
   "execution_count": 139,
   "metadata": {
    "ExecuteTime": {
     "end_time": "2025-02-12T06:39:42.789911Z",
     "start_time": "2025-02-12T06:39:42.787350Z"
    }
   },
   "outputs": [
    {
     "data": {
      "text/plain": "array([[0.98555979, 0.51948512, 0.61289453, 0.12062867],\n       [1.81190059, 1.12254525, 1.15796253, 0.4633925 ],\n       [2.11602138, 1.53956746, 1.8392633 , 1.33884934]])"
     },
     "execution_count": 139,
     "metadata": {},
     "output_type": "execute_result"
    }
   ],
   "source": [
    "x.cumsum(axis=0)"
   ]
  },
  {
   "cell_type": "code",
   "execution_count": 140,
   "metadata": {
    "ExecuteTime": {
     "end_time": "2025-02-12T06:40:36.899284Z",
     "start_time": "2025-02-12T06:40:36.893169Z"
    }
   },
   "outputs": [
    {
     "data": {
      "text/plain": "array([[-0.15921899,  0.08357501, -0.06782652,  0.22213517],\n       [-0.52222001, -0.18603792,  0.13623276,  0.53269301]])"
     },
     "execution_count": 140,
     "metadata": {},
     "output_type": "execute_result"
    }
   ],
   "source": [
    "np.diff(x, axis=0)"
   ]
  },
  {
   "cell_type": "code",
   "execution_count": 141,
   "metadata": {
    "ExecuteTime": {
     "end_time": "2025-02-12T06:40:38.592555Z",
     "start_time": "2025-02-12T06:40:38.589722Z"
    }
   },
   "outputs": [
    {
     "data": {
      "text/plain": "array([[0.98555979, 0.51948512, 0.61289453, 0.12062867],\n       [0.8263408 , 0.60306013, 0.54506801, 0.34276383],\n       [0.30412079, 0.41702221, 0.68130077, 0.87545684]])"
     },
     "execution_count": 141,
     "metadata": {},
     "output_type": "execute_result"
    }
   ],
   "source": [
    "x"
   ]
  },
  {
   "cell_type": "code",
   "execution_count": 142,
   "metadata": {
    "ExecuteTime": {
     "end_time": "2025-02-12T06:40:39.877494Z",
     "start_time": "2025-02-12T06:40:39.874958Z"
    }
   },
   "outputs": [
    {
     "data": {
      "text/plain": "array([0.98555979, 0.51948512, 0.61289453, 0.12062867])"
     },
     "execution_count": 142,
     "metadata": {},
     "output_type": "execute_result"
    }
   ],
   "source": [
    "x[0]"
   ]
  },
  {
   "cell_type": "code",
   "execution_count": 143,
   "metadata": {
    "ExecuteTime": {
     "end_time": "2025-02-12T06:40:41.246551Z",
     "start_time": "2025-02-12T06:40:41.244396Z"
    }
   },
   "outputs": [
    {
     "data": {
      "text/plain": "array([[ 0.        ,  0.        ,  0.        ,  0.        ],\n       [-0.15921899,  0.08357501, -0.06782652,  0.22213517],\n       [-0.681439  , -0.10246291,  0.06840624,  0.75482818]])"
     },
     "execution_count": 143,
     "metadata": {},
     "output_type": "execute_result"
    }
   ],
   "source": [
    "x - x[0]"
   ]
  },
  {
   "cell_type": "code",
   "execution_count": 144,
   "metadata": {
    "ExecuteTime": {
     "end_time": "2025-02-12T06:40:43.742892Z",
     "start_time": "2025-02-12T06:40:43.739982Z"
    }
   },
   "outputs": [
    {
     "data": {
      "text/plain": "array([0.98555979, 0.8263408 , 0.30412079])"
     },
     "execution_count": 144,
     "metadata": {},
     "output_type": "execute_result"
    }
   ],
   "source": [
    "x[:, 0]"
   ]
  },
  {
   "cell_type": "code",
   "execution_count": 145,
   "metadata": {
    "ExecuteTime": {
     "end_time": "2025-02-12T06:40:50.105628Z",
     "start_time": "2025-02-12T06:40:50.096698Z"
    }
   },
   "outputs": [
    {
     "ename": "ValueError",
     "evalue": "operands could not be broadcast together with shapes (3,4) (3,) ",
     "output_type": "error",
     "traceback": [
      "\u001B[0;31m---------------------------------------------------------------------------\u001B[0m",
      "\u001B[0;31mValueError\u001B[0m                                Traceback (most recent call last)",
      "Cell \u001B[0;32mIn[145], line 1\u001B[0m\n\u001B[0;32m----> 1\u001B[0m x \u001B[38;5;241m-\u001B[39m x[:, \u001B[38;5;241m0\u001B[39m]\n",
      "\u001B[0;31mValueError\u001B[0m: operands could not be broadcast together with shapes (3,4) (3,) "
     ]
    }
   ],
   "source": [
    "x - x[:, 0]"
   ]
  },
  {
   "cell_type": "code",
   "execution_count": 146,
   "metadata": {
    "ExecuteTime": {
     "end_time": "2025-02-12T06:40:57.343515Z",
     "start_time": "2025-02-12T06:40:57.339864Z"
    }
   },
   "outputs": [
    {
     "data": {
      "text/plain": "array([[0.98555979],\n       [0.8263408 ],\n       [0.30412079]])"
     },
     "execution_count": 146,
     "metadata": {},
     "output_type": "execute_result"
    }
   ],
   "source": [
    "x[:, 0].reshape(-1, 1)"
   ]
  },
  {
   "cell_type": "code",
   "execution_count": 147,
   "metadata": {
    "ExecuteTime": {
     "end_time": "2025-02-12T06:41:00.211827Z",
     "start_time": "2025-02-12T06:41:00.209249Z"
    }
   },
   "outputs": [
    {
     "data": {
      "text/plain": "array([[ 0.        , -0.46607467, -0.37266526, -0.86493112],\n       [ 0.        , -0.22328067, -0.28127279, -0.48357697],\n       [ 0.        ,  0.11290142,  0.37717998,  0.57133605]])"
     },
     "execution_count": 147,
     "metadata": {},
     "output_type": "execute_result"
    }
   ],
   "source": [
    "x - x[:, 0].reshape(-1, 1)"
   ]
  },
  {
   "cell_type": "code",
   "execution_count": 148,
   "metadata": {
    "ExecuteTime": {
     "end_time": "2025-02-12T06:41:02.515244Z",
     "start_time": "2025-02-12T06:41:02.512202Z"
    }
   },
   "outputs": [
    {
     "data": {
      "text/plain": "array([[0.04359146, 0.30476807, 0.39818568, 0.70495883, 0.99535848],\n       [0.35591487, 0.76254781, 0.59317692, 0.6917018 , 0.15112745],\n       [0.39887629, 0.2408559 , 0.34345601, 0.51312815, 0.66662455],\n       [0.10590849, 0.13089495, 0.32198061, 0.66156434, 0.84650623],\n       [0.55325734, 0.85445249, 0.38483781, 0.3167879 , 0.35426468]])"
     },
     "execution_count": 148,
     "metadata": {},
     "output_type": "execute_result"
    }
   ],
   "source": [
    "x = np.random.rand(5, 5)\n",
    "x"
   ]
  },
  {
   "cell_type": "code",
   "execution_count": 149,
   "metadata": {
    "ExecuteTime": {
     "end_time": "2025-02-12T06:41:04.689977Z",
     "start_time": "2025-02-12T06:41:04.687129Z"
    }
   },
   "outputs": [
    {
     "data": {
      "text/plain": "array([[ 0.        ,  0.        ,  0.        ,  0.        ,  0.        ],\n       [ 0.3123234 ,  0.45777974,  0.19499123, -0.01325703, -0.84423103],\n       [ 0.35528483, -0.06391218, -0.05472967, -0.19183068, -0.32873393],\n       [ 0.06231702, -0.17387312, -0.07620508, -0.04339449, -0.14885226],\n       [ 0.50966588,  0.54968441, -0.01334787, -0.38817093, -0.64109381]])"
     },
     "execution_count": 149,
     "metadata": {},
     "output_type": "execute_result"
    }
   ],
   "source": [
    "x - x[0]"
   ]
  },
  {
   "cell_type": "code",
   "execution_count": 150,
   "metadata": {
    "ExecuteTime": {
     "end_time": "2025-02-12T06:43:02.068240Z",
     "start_time": "2025-02-12T06:43:02.063507Z"
    }
   },
   "outputs": [
    {
     "data": {
      "text/plain": "(5,)"
     },
     "execution_count": 150,
     "metadata": {},
     "output_type": "execute_result"
    }
   ],
   "source": [
    "x[0].shape"
   ]
  },
  {
   "cell_type": "code",
   "execution_count": 151,
   "metadata": {
    "ExecuteTime": {
     "end_time": "2025-02-12T06:43:03.473014Z",
     "start_time": "2025-02-12T06:43:03.470778Z"
    }
   },
   "outputs": [
    {
     "data": {
      "text/plain": "array([[ 0.        ,  0.26117661,  0.35459422,  0.66136737,  0.95176702],\n       [ 0.        ,  0.40663295,  0.23726205,  0.33578693, -0.20478741],\n       [ 0.        , -0.1580204 , -0.05542028,  0.11425186,  0.26774826],\n       [ 0.        ,  0.02498647,  0.21607212,  0.55565585,  0.74059774],\n       [ 0.        ,  0.30119514, -0.16841953, -0.23646945, -0.19899267]])"
     },
     "execution_count": 151,
     "metadata": {},
     "output_type": "execute_result"
    }
   ],
   "source": [
    "x - x[:, 0].reshape(-1, 1)"
   ]
  },
  {
   "cell_type": "code",
   "execution_count": 152,
   "metadata": {
    "ExecuteTime": {
     "end_time": "2025-02-12T06:43:05.569803Z",
     "start_time": "2025-02-12T06:43:05.567485Z"
    }
   },
   "outputs": [
    {
     "data": {
      "text/plain": "(5, 1)"
     },
     "execution_count": 152,
     "metadata": {},
     "output_type": "execute_result"
    }
   ],
   "source": [
    "x[0].reshape(-1, 1).shape"
   ]
  },
  {
   "cell_type": "markdown",
   "metadata": {},
   "source": [
    "#### Задача 1"
   ]
  },
  {
   "cell_type": "markdown",
   "metadata": {},
   "source": [
    "Для матриц X, y найти решение уравнения:\n",
    "\n",
    "$w^*=(X^TX)^{-1}X^Ty$"
   ]
  },
  {
   "cell_type": "code",
   "execution_count": 153,
   "metadata": {
    "ExecuteTime": {
     "end_time": "2025-02-12T06:43:10.950332Z",
     "start_time": "2025-02-12T06:43:10.948353Z"
    }
   },
   "outputs": [],
   "source": [
    "X = np.random.rand(1000, 50)\n",
    "w = np.random.rand(1, 50)\n",
    "y = np.random.rand(1000)"
   ]
  },
  {
   "cell_type": "code",
   "execution_count": 154,
   "metadata": {
    "ExecuteTime": {
     "end_time": "2025-02-12T06:43:12.177805Z",
     "start_time": "2025-02-12T06:43:12.097673Z"
    }
   },
   "outputs": [
    {
     "data": {
      "text/plain": "array([ 0.02354687,  0.03110352,  0.02058427, -0.02022969,  0.02684826,\n       -0.01339881, -0.01318748,  0.03879555,  0.020293  , -0.04680459,\n        0.04726195,  0.03277751, -0.02967827,  0.00705627,  0.03113329,\n        0.02198161,  0.05436436,  0.04700948,  0.0513079 ,  0.04062085,\n        0.00461909,  0.03495919, -0.02151262, -0.01027008,  0.04303963,\n        0.00064856,  0.04817401,  0.01157623,  0.01626079,  0.02691385,\n       -0.00501596,  0.04647491,  0.00507442,  0.00150233,  0.04204268,\n       -0.03158302,  0.05224077,  0.05999739,  0.02393494,  0.00122547,\n       -0.03709705,  0.04853034, -0.05229851,  0.02420731,  0.01700915,\n        0.05067865,  0.04360238,  0.07862687,  0.03891173,  0.02401918])"
     },
     "execution_count": 154,
     "metadata": {},
     "output_type": "execute_result"
    }
   ],
   "source": [
    "np.linalg.inv(np.dot(X.T, X)).dot(X.T).dot(y)"
   ]
  },
  {
   "cell_type": "markdown",
   "metadata": {},
   "source": [
    "#### Соединение массивов"
   ]
  },
  {
   "cell_type": "code",
   "execution_count": 155,
   "metadata": {
    "ExecuteTime": {
     "end_time": "2025-02-12T06:44:16.408588Z",
     "start_time": "2025-02-12T06:44:16.403135Z"
    }
   },
   "outputs": [
    {
     "data": {
      "text/plain": "array([1, 2, 3])"
     },
     "execution_count": 155,
     "metadata": {},
     "output_type": "execute_result"
    }
   ],
   "source": [
    "x = np.array([1, 2, 3])\n",
    "x"
   ]
  },
  {
   "cell_type": "code",
   "execution_count": 156,
   "metadata": {
    "ExecuteTime": {
     "end_time": "2025-02-12T06:44:22.653716Z",
     "start_time": "2025-02-12T06:44:22.651151Z"
    }
   },
   "outputs": [
    {
     "data": {
      "text/plain": "array([[1, 2, 3],\n       [2, 4, 6],\n       [3, 6, 9]])"
     },
     "execution_count": 156,
     "metadata": {},
     "output_type": "execute_result"
    }
   ],
   "source": [
    "np.vstack([x, 2 * x, 3 * x])"
   ]
  },
  {
   "cell_type": "code",
   "execution_count": 157,
   "metadata": {
    "ExecuteTime": {
     "end_time": "2025-02-12T06:44:54.320749Z",
     "start_time": "2025-02-12T06:44:54.317941Z"
    }
   },
   "outputs": [
    {
     "data": {
      "text/plain": "array([1, 2, 3, 2, 4, 6, 3, 6, 9])"
     },
     "execution_count": 157,
     "metadata": {},
     "output_type": "execute_result"
    }
   ],
   "source": [
    "np.hstack([x, 2 * x, 3 * x])"
   ]
  },
  {
   "cell_type": "code",
   "execution_count": 158,
   "metadata": {
    "ExecuteTime": {
     "end_time": "2025-02-12T06:44:58.072264Z",
     "start_time": "2025-02-12T06:44:58.069230Z"
    }
   },
   "outputs": [
    {
     "data": {
      "text/plain": "array([[1],\n       [2],\n       [3]])"
     },
     "execution_count": 158,
     "metadata": {},
     "output_type": "execute_result"
    }
   ],
   "source": [
    "x = x.reshape((3, 1))\n",
    "x"
   ]
  },
  {
   "cell_type": "code",
   "execution_count": 159,
   "metadata": {
    "ExecuteTime": {
     "end_time": "2025-02-12T06:52:39.993510Z",
     "start_time": "2025-02-12T06:52:39.988752Z"
    }
   },
   "outputs": [
    {
     "data": {
      "text/plain": "array([[1],\n       [2],\n       [3],\n       [2],\n       [4],\n       [6],\n       [3],\n       [6],\n       [9]])"
     },
     "execution_count": 159,
     "metadata": {},
     "output_type": "execute_result"
    }
   ],
   "source": [
    "np.vstack([x, 2 * x, 3 * x])"
   ]
  },
  {
   "cell_type": "code",
   "execution_count": 160,
   "metadata": {
    "ExecuteTime": {
     "end_time": "2025-02-12T06:52:42.814972Z",
     "start_time": "2025-02-12T06:52:42.811913Z"
    }
   },
   "outputs": [
    {
     "data": {
      "text/plain": "array([[1, 2, 3],\n       [2, 4, 6],\n       [3, 6, 9]])"
     },
     "execution_count": 160,
     "metadata": {},
     "output_type": "execute_result"
    }
   ],
   "source": [
    "np.hstack([x, 2 * x, 3 * x])"
   ]
  },
  {
   "cell_type": "code",
   "execution_count": 161,
   "metadata": {
    "ExecuteTime": {
     "end_time": "2025-02-12T06:52:47.779647Z",
     "start_time": "2025-02-12T06:52:47.776665Z"
    }
   },
   "outputs": [
    {
     "data": {
      "text/plain": "array([[[1, 2]],\n\n       [[2, 4]],\n\n       [[3, 6]]])"
     },
     "execution_count": 161,
     "metadata": {},
     "output_type": "execute_result"
    }
   ],
   "source": [
    "np.stack([x, 2 * x], axis=2)"
   ]
  },
  {
   "cell_type": "code",
   "execution_count": 162,
   "metadata": {
    "ExecuteTime": {
     "end_time": "2025-02-12T06:52:51.645057Z",
     "start_time": "2025-02-12T06:52:51.642248Z"
    }
   },
   "outputs": [
    {
     "data": {
      "text/plain": "array([1, 2, 3])"
     },
     "execution_count": 162,
     "metadata": {},
     "output_type": "execute_result"
    }
   ],
   "source": [
    "x = x.reshape((-1,))\n",
    "x"
   ]
  },
  {
   "cell_type": "code",
   "execution_count": 163,
   "metadata": {
    "ExecuteTime": {
     "end_time": "2025-02-12T06:52:56.907357Z",
     "start_time": "2025-02-12T06:52:56.904975Z"
    }
   },
   "outputs": [
    {
     "data": {
      "text/plain": "array([1, 2, 3])"
     },
     "execution_count": 163,
     "metadata": {},
     "output_type": "execute_result"
    }
   ],
   "source": [
    "np.tile(x, 1) # повторение массива"
   ]
  },
  {
   "cell_type": "code",
   "execution_count": 164,
   "metadata": {
    "ExecuteTime": {
     "end_time": "2025-02-12T06:53:34.084309Z",
     "start_time": "2025-02-12T06:53:34.079310Z"
    }
   },
   "outputs": [
    {
     "data": {
      "text/plain": "array([1, 2, 3, 1, 2, 3])"
     },
     "execution_count": 164,
     "metadata": {},
     "output_type": "execute_result"
    }
   ],
   "source": [
    "np.tile(x, 2)"
   ]
  },
  {
   "cell_type": "code",
   "execution_count": 165,
   "metadata": {
    "ExecuteTime": {
     "end_time": "2025-02-12T06:53:43.087729Z",
     "start_time": "2025-02-12T06:53:43.085347Z"
    }
   },
   "outputs": [
    {
     "data": {
      "text/plain": "array([[1, 2, 3, 1, 2, 3]])"
     },
     "execution_count": 165,
     "metadata": {},
     "output_type": "execute_result"
    }
   ],
   "source": [
    "np.tile(x, (1, 2))"
   ]
  },
  {
   "cell_type": "code",
   "execution_count": 166,
   "metadata": {
    "ExecuteTime": {
     "end_time": "2025-02-12T06:54:04.367370Z",
     "start_time": "2025-02-12T06:54:04.364585Z"
    }
   },
   "outputs": [
    {
     "data": {
      "text/plain": "array([[1, 2, 3, 1, 2, 3],\n       [1, 2, 3, 1, 2, 3]])"
     },
     "execution_count": 166,
     "metadata": {},
     "output_type": "execute_result"
    }
   ],
   "source": [
    "np.tile(x, (2, 2))"
   ]
  },
  {
   "cell_type": "code",
   "execution_count": 167,
   "metadata": {
    "ExecuteTime": {
     "end_time": "2025-02-12T06:54:06.572037Z",
     "start_time": "2025-02-12T06:54:06.568930Z"
    }
   },
   "outputs": [
    {
     "data": {
      "text/plain": "array([[[1, 2, 3, 1, 2, 3],\n        [1, 2, 3, 1, 2, 3]],\n\n       [[1, 2, 3, 1, 2, 3],\n        [1, 2, 3, 1, 2, 3]]])"
     },
     "execution_count": 167,
     "metadata": {},
     "output_type": "execute_result"
    }
   ],
   "source": [
    "np.tile(x, (2, 2, 2))"
   ]
  },
  {
   "cell_type": "markdown",
   "metadata": {},
   "source": [
    "### Логические маски"
   ]
  },
  {
   "cell_type": "code",
   "execution_count": 168,
   "metadata": {
    "ExecuteTime": {
     "end_time": "2025-02-12T06:54:16.252172Z",
     "start_time": "2025-02-12T06:54:16.249353Z"
    }
   },
   "outputs": [
    {
     "data": {
      "text/plain": "array([[ 1,  2,  3,  4],\n       [ 5,  6,  7,  8],\n       [ 9, 10, 11, 12],\n       [13, 14, 15, 16],\n       [17, 18, 19, 20]])"
     },
     "execution_count": 168,
     "metadata": {},
     "output_type": "execute_result"
    }
   ],
   "source": [
    "x = np.arange(1, 21).reshape(5, 4)\n",
    "x"
   ]
  },
  {
   "cell_type": "code",
   "execution_count": 169,
   "metadata": {
    "ExecuteTime": {
     "end_time": "2025-02-12T06:54:17.878809Z",
     "start_time": "2025-02-12T06:54:17.875284Z"
    }
   },
   "outputs": [
    {
     "data": {
      "text/plain": "array([[False, False, False, False],\n       [False,  True,  True,  True],\n       [ True,  True,  True,  True],\n       [ True,  True,  True,  True],\n       [ True,  True,  True,  True]])"
     },
     "execution_count": 169,
     "metadata": {},
     "output_type": "execute_result"
    }
   ],
   "source": [
    "x > 5"
   ]
  },
  {
   "cell_type": "code",
   "execution_count": 170,
   "metadata": {
    "ExecuteTime": {
     "end_time": "2025-02-12T06:54:20.863657Z",
     "start_time": "2025-02-12T06:54:20.860799Z"
    }
   },
   "outputs": [
    {
     "data": {
      "text/plain": "array([ 6,  7,  8,  9, 10, 11, 12, 13, 14, 15, 16, 17, 18, 19, 20])"
     },
     "execution_count": 170,
     "metadata": {},
     "output_type": "execute_result"
    }
   ],
   "source": [
    "x[x > 5]"
   ]
  },
  {
   "cell_type": "code",
   "execution_count": 171,
   "metadata": {
    "ExecuteTime": {
     "end_time": "2025-02-12T06:54:26.055532Z",
     "start_time": "2025-02-12T06:54:26.051990Z"
    }
   },
   "outputs": [
    {
     "data": {
      "text/plain": "array([ 1,  2,  3,  4,  5,  6,  7,  8,  9, 10])"
     },
     "execution_count": 171,
     "metadata": {},
     "output_type": "execute_result"
    }
   ],
   "source": [
    "x[x < np.median(x)]"
   ]
  },
  {
   "cell_type": "code",
   "execution_count": 172,
   "metadata": {
    "ExecuteTime": {
     "end_time": "2025-02-12T06:54:32.925182Z",
     "start_time": "2025-02-12T06:54:32.923286Z"
    }
   },
   "outputs": [
    {
     "data": {
      "text/plain": "array([[False,  True, False,  True],\n       [False,  True, False,  True],\n       [False,  True, False,  True],\n       [False,  True, False,  True],\n       [False,  True, False,  True]])"
     },
     "execution_count": 172,
     "metadata": {},
     "output_type": "execute_result"
    }
   ],
   "source": [
    "x % 2 == 0"
   ]
  },
  {
   "cell_type": "code",
   "execution_count": 173,
   "metadata": {
    "ExecuteTime": {
     "end_time": "2025-02-12T06:54:41.106588Z",
     "start_time": "2025-02-12T06:54:41.104385Z"
    }
   },
   "outputs": [
    {
     "data": {
      "text/plain": "array([ 2,  4,  6,  8, 10, 12, 14, 16, 18, 20])"
     },
     "execution_count": 173,
     "metadata": {},
     "output_type": "execute_result"
    }
   ],
   "source": [
    "x[x % 2 == 0]"
   ]
  },
  {
   "cell_type": "code",
   "execution_count": 174,
   "metadata": {
    "ExecuteTime": {
     "end_time": "2025-02-12T06:55:03.865311Z",
     "start_time": "2025-02-12T06:55:03.859806Z"
    }
   },
   "outputs": [
    {
     "data": {
      "text/plain": "array([[False,  True, False,  True],\n       [False,  True, False,  True],\n       [False,  True, False,  True],\n       [False,  True, False,  True],\n       [False,  True, False,  True]])"
     },
     "execution_count": 174,
     "metadata": {},
     "output_type": "execute_result"
    }
   ],
   "source": [
    "np.where(x % 2 == 0, True, False)"
   ]
  },
  {
   "cell_type": "code",
   "execution_count": 175,
   "metadata": {
    "ExecuteTime": {
     "end_time": "2025-02-12T06:57:33.267739Z",
     "start_time": "2025-02-12T06:57:33.261017Z"
    }
   },
   "outputs": [
    {
     "data": {
      "text/plain": "array([[ -1, 555,  -1, 555],\n       [ -1, 555,  -1, 555],\n       [ -1, 555,  -1, 555],\n       [ -1, 555,  -1, 555],\n       [ -1, 555,  -1, 555]])"
     },
     "execution_count": 175,
     "metadata": {},
     "output_type": "execute_result"
    }
   ],
   "source": [
    "np.where(x % 2 == 0, 555, -1)"
   ]
  },
  {
   "cell_type": "code",
   "execution_count": 176,
   "metadata": {
    "ExecuteTime": {
     "end_time": "2025-02-12T06:57:34.712537Z",
     "start_time": "2025-02-12T06:57:34.709237Z"
    }
   },
   "outputs": [
    {
     "data": {
      "text/plain": "array([[ 1,  2,  3,  4],\n       [ 5,  6,  7,  8],\n       [ 9, 10, 11, 12],\n       [13, 14, 15, 16],\n       [17, 18, 19, 20]])"
     },
     "execution_count": 176,
     "metadata": {},
     "output_type": "execute_result"
    }
   ],
   "source": [
    "x"
   ]
  },
  {
   "cell_type": "code",
   "execution_count": 177,
   "metadata": {
    "ExecuteTime": {
     "end_time": "2025-02-12T06:57:35.879994Z",
     "start_time": "2025-02-12T06:57:35.877351Z"
    }
   },
   "outputs": [
    {
     "data": {
      "text/plain": "array([[0.35367043, 0.33971447, 0.27794901, 0.18419148],\n       [0.4976427 , 0.55819281, 0.16468474, 0.94668832],\n       [0.89064907, 0.51435425, 0.49685212, 0.08219071],\n       [0.06199571, 0.26524419, 0.52917482, 0.07788871],\n       [0.74588171, 0.24262903, 0.49722214, 0.56908817]])"
     },
     "execution_count": 177,
     "metadata": {},
     "output_type": "execute_result"
    }
   ],
   "source": [
    "y = np.random.rand(5, 4)\n",
    "y"
   ]
  },
  {
   "cell_type": "code",
   "execution_count": 178,
   "metadata": {
    "ExecuteTime": {
     "end_time": "2025-02-12T06:57:36.918551Z",
     "start_time": "2025-02-12T06:57:36.915609Z"
    }
   },
   "outputs": [
    {
     "data": {
      "text/plain": "array([[ 0.35367043,  2.        ,  0.27794901,  4.        ],\n       [ 0.4976427 ,  6.        ,  0.16468474,  8.        ],\n       [ 0.89064907, 10.        ,  0.49685212, 12.        ],\n       [ 0.06199571, 14.        ,  0.52917482, 16.        ],\n       [ 0.74588171, 18.        ,  0.49722214, 20.        ]])"
     },
     "execution_count": 178,
     "metadata": {},
     "output_type": "execute_result"
    }
   ],
   "source": [
    "np.where(x % 2 == 0, x, y)"
   ]
  },
  {
   "cell_type": "markdown",
   "metadata": {},
   "source": [
    "#### Задача 3"
   ]
  },
  {
   "cell_type": "markdown",
   "metadata": {},
   "source": [
    "В матрице X вместо элементов, делящихся на 7, оставить их квадрат, вместо остальных - корень"
   ]
  },
  {
   "cell_type": "code",
   "execution_count": 179,
   "metadata": {
    "ExecuteTime": {
     "end_time": "2025-02-12T06:57:40.817259Z",
     "start_time": "2025-02-12T06:57:40.814721Z"
    }
   },
   "outputs": [
    {
     "data": {
      "text/plain": "array([[10, 19, 11, 20,  1, 21,  6,  8, 20, 16],\n       [ 9,  2, 14, 10, 10, 18,  4, 21, 10,  3],\n       [11, 10,  8,  3, 17, 17,  4, 18, 18,  5],\n       [ 1,  5,  7,  2, 17, 15, 16, 14,  9,  3],\n       [ 3, 12,  2,  7, 16, 11, 21,  3, 14, 16],\n       [10,  2, 13, 11, 21, 15, 19, 14,  2, 12],\n       [16, 13,  2, 17,  5, 10, 18, 15, 13,  7],\n       [13,  8,  2,  3, 16,  9,  9, 16, 18, 17],\n       [18,  2,  2, 15, 18,  3, 12, 10, 12, 17],\n       [ 6,  2, 21, 13,  2, 21, 13, 12,  3,  9]])"
     },
     "execution_count": 179,
     "metadata": {},
     "output_type": "execute_result"
    }
   ],
   "source": [
    "x = np.random.randint(1, 22, (10, 10))\n",
    "x"
   ]
  },
  {
   "cell_type": "code",
   "execution_count": 180,
   "metadata": {
    "ExecuteTime": {
     "end_time": "2025-02-12T06:57:42.023214Z",
     "start_time": "2025-02-12T06:57:42.019575Z"
    }
   },
   "outputs": [
    {
     "data": {
      "text/plain": "array([[  3.16227766,   4.35889894,   3.31662479,   4.47213595,\n          1.        , 441.        ,   2.44948974,   2.82842712,\n          4.47213595,   4.        ],\n       [  3.        ,   1.41421356, 196.        ,   3.16227766,\n          3.16227766,   4.24264069,   2.        , 441.        ,\n          3.16227766,   1.73205081],\n       [  3.31662479,   3.16227766,   2.82842712,   1.73205081,\n          4.12310563,   4.12310563,   2.        ,   4.24264069,\n          4.24264069,   2.23606798],\n       [  1.        ,   2.23606798,  49.        ,   1.41421356,\n          4.12310563,   3.87298335,   4.        , 196.        ,\n          3.        ,   1.73205081],\n       [  1.73205081,   3.46410162,   1.41421356,  49.        ,\n          4.        ,   3.31662479, 441.        ,   1.73205081,\n        196.        ,   4.        ],\n       [  3.16227766,   1.41421356,   3.60555128,   3.31662479,\n        441.        ,   3.87298335,   4.35889894, 196.        ,\n          1.41421356,   3.46410162],\n       [  4.        ,   3.60555128,   1.41421356,   4.12310563,\n          2.23606798,   3.16227766,   4.24264069,   3.87298335,\n          3.60555128,  49.        ],\n       [  3.60555128,   2.82842712,   1.41421356,   1.73205081,\n          4.        ,   3.        ,   3.        ,   4.        ,\n          4.24264069,   4.12310563],\n       [  4.24264069,   1.41421356,   1.41421356,   3.87298335,\n          4.24264069,   1.73205081,   3.46410162,   3.16227766,\n          3.46410162,   4.12310563],\n       [  2.44948974,   1.41421356, 441.        ,   3.60555128,\n          1.41421356, 441.        ,   3.60555128,   3.46410162,\n          1.73205081,   3.        ]])"
     },
     "execution_count": 180,
     "metadata": {},
     "output_type": "execute_result"
    }
   ],
   "source": [
    "np.where(x % 7 == 0, x ** 2, np.sqrt(x))"
   ]
  },
  {
   "cell_type": "code",
   "execution_count": 180,
   "metadata": {
    "ExecuteTime": {
     "end_time": "2025-02-12T06:57:43.525170Z",
     "start_time": "2025-02-12T06:57:43.523870Z"
    }
   },
   "outputs": [],
   "source": []
  },
  {
   "cell_type": "code",
   "outputs": [],
   "source": [],
   "metadata": {
    "collapsed": false
   }
  }
 ],
 "metadata": {
  "colab": {
   "provenance": [
    {
     "file_id": "1VCf18GN1UEsCTPWTACtuPw1siQgX0e0j",
     "timestamp": 1707305789824
    }
   ]
  },
  "kernelspec": {
   "display_name": "Python 3 (ipykernel)",
   "language": "python",
   "name": "python3"
  },
  "language_info": {
   "codemirror_mode": {
    "name": "ipython",
    "version": 3
   },
   "file_extension": ".py",
   "mimetype": "text/x-python",
   "name": "python",
   "nbconvert_exporter": "python",
   "pygments_lexer": "ipython3",
   "version": "3.11.5"
  }
 },
 "nbformat": 4,
 "nbformat_minor": 4
}
