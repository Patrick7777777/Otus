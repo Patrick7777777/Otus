{
 "cells": [
  {
   "cell_type": "markdown",
   "source": [
    "bash zsh sh Команды для работы в терминалах"
   ],
   "metadata": {
    "collapsed": false
   },
   "id": "c759ef86c2dbff65"
  },
  {
   "cell_type": "markdown",
   "source": [
    "ls -a просмотр всех файлов, включая скрытые\n",
    "ls .. просмотр файлов снаружи\n",
    "ls -l просмотр в виде списка\n",
    "ls -l -a список всех файлов\n",
    "ls -la тоже самое что и ls -l -a (можно склеивать)\n",
    "ls -lap (p - идентификация директории, добавляет /)\n",
    "ls -lah - просмотр с размерами файлов\n",
    "man - показать мануал (q - выход из man)\n",
    "tldr - быстрые подсказки\n",
    "tldr ls - справка по ls\n",
    "pwd - печать рабочей директории\n",
    "readlink -f lesson5.ipynb - печать полного пути\n",
    "cd - смена директории\n",
    "touch - создать файл, если его нет\n",
    "echo qwerty > text.txt запись qwerty в text.txt (файл полностью перезаписывается)\n",
    "echo qwerty >> text.txt запись qwerty в text.txt (запись добавляется в конец файла)\n",
    "rm - удаление файла\n",
    "mkdir - создание папки\n",
    "mkdir -p notes/personal (создание папки с учетом вложенности)\n",
    "echo qwerty > notes/text.txt (создание и запись qwerty в notes/text.txt)\n",
    "rm -r notes - удаление папки notes (-r рекурсивно, rf - принудительно)\n",
    "grep - поиск по тексту\n",
    "grep cd lesson5.ipynb (поиск строки cd в lesson5.ipynb)\n",
    "cat - конкатенация файлов\n",
    "head lesson5.ipynb  -  вывод начала файла\n",
    "tail lesson5.ipynb  -  вывод конца файла"
   ],
   "metadata": {
    "collapsed": false
   },
   "id": "c29cc983baa684cc"
  },
  {
   "cell_type": "markdown",
   "source": [
    "GIT\n",
    "\n",
    "git init - инициализация репозитория git"
   ],
   "metadata": {
    "collapsed": false
   },
   "id": "2bc09c56d11440ef"
  }
 ],
 "metadata": {
  "kernelspec": {
   "display_name": "Python 3",
   "language": "python",
   "name": "python3"
  },
  "language_info": {
   "codemirror_mode": {
    "name": "ipython",
    "version": 2
   },
   "file_extension": ".py",
   "mimetype": "text/x-python",
   "name": "python",
   "nbconvert_exporter": "python",
   "pygments_lexer": "ipython2",
   "version": "2.7.6"
  }
 },
 "nbformat": 4,
 "nbformat_minor": 5
}
