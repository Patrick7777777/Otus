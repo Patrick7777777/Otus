{
 "cells": [
  {
   "cell_type": "code",
   "execution_count": 23,
   "id": "initial_id",
   "metadata": {
    "collapsed": true,
    "ExecuteTime": {
     "end_time": "2025-01-10T17:36:44.836929Z",
     "start_time": "2025-01-10T17:36:44.832465Z"
    }
   },
   "outputs": [],
   "source": [
    "class Human:\n",
    "    def __init__(self, name, age):\n",
    "        self.name = name\n",
    "        self.age = age\n",
    "    def greetengs(self):\n",
    "        print(f'Привет{self.name}')\n",
    "\n",
    "human = Human('STONE', 40)"
   ]
  },
  {
   "cell_type": "code",
   "outputs": [
    {
     "data": {
      "text/plain": "{'name': 'STONE', 'age': 40, 'work': 'OTUS'}"
     },
     "execution_count": 24,
     "metadata": {},
     "output_type": "execute_result"
    }
   ],
   "source": [
    "human.__dict__"
   ],
   "metadata": {
    "collapsed": false,
    "ExecuteTime": {
     "end_time": "2025-01-10T17:36:46.258469Z",
     "start_time": "2025-01-10T17:36:46.253673Z"
    }
   },
   "id": "722fc95cf58bec6a",
   "execution_count": 24
  },
  {
   "cell_type": "code",
   "outputs": [
    {
     "name": "stdout",
     "output_type": "stream",
     "text": [
      "Привет\n"
     ]
    }
   ],
   "source": [
    "human.greetengs()"
   ],
   "metadata": {
    "collapsed": false,
    "ExecuteTime": {
     "end_time": "2025-01-10T17:50:34.418611Z",
     "start_time": "2025-01-10T17:50:34.412621Z"
    }
   },
   "id": "2fbf1a8f9d53e24d",
   "execution_count": 26
  },
  {
   "cell_type": "code",
   "outputs": [],
   "source": [
    "class Worker(Human):\n",
    "    def __init__(self, name, age, work):\n",
    "        super().__init__(name, age)"
   ],
   "metadata": {
    "collapsed": false
   },
   "id": "79ce5c7a4a9e2c3f"
  }
 ],
 "metadata": {
  "kernelspec": {
   "display_name": "Python 3",
   "language": "python",
   "name": "python3"
  },
  "language_info": {
   "codemirror_mode": {
    "name": "ipython",
    "version": 2
   },
   "file_extension": ".py",
   "mimetype": "text/x-python",
   "name": "python",
   "nbconvert_exporter": "python",
   "pygments_lexer": "ipython2",
   "version": "2.7.6"
  }
 },
 "nbformat": 4,
 "nbformat_minor": 5
}
