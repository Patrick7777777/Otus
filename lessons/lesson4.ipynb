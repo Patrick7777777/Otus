{
 "cells": [
  {
   "cell_type": "markdown",
   "source": [
    "from copy import deepcopy"
   ],
   "metadata": {
    "collapsed": false
   },
   "id": "63185257bd20143a"
  },
  {
   "cell_type": "code",
   "outputs": [],
   "source": [
    "l = [1,2,3,[1,2,3]]"
   ],
   "metadata": {
    "collapsed": false,
    "ExecuteTime": {
     "end_time": "2024-12-13T17:47:22.076306Z",
     "start_time": "2024-12-13T17:47:22.072895Z"
    }
   },
   "id": "f5680e444b17973c",
   "execution_count": 1
  },
  {
   "cell_type": "code",
   "execution_count": 2,
   "id": "initial_id",
   "metadata": {
    "collapsed": true,
    "ExecuteTime": {
     "end_time": "2024-12-13T17:47:22.078666Z",
     "start_time": "2024-12-13T17:47:22.077320Z"
    }
   },
   "outputs": [],
   "source": [
    "# Кортеж - неизменяемый тип данных как строка int итд"
   ]
  },
  {
   "cell_type": "code",
   "outputs": [],
   "source": [
    "tpl = (1,2,3,'4')"
   ],
   "metadata": {
    "collapsed": false,
    "ExecuteTime": {
     "end_time": "2024-12-13T17:47:22.080557Z",
     "start_time": "2024-12-13T17:47:22.079145Z"
    }
   },
   "id": "88e29165cc724652",
   "execution_count": 3
  },
  {
   "cell_type": "code",
   "outputs": [],
   "source": [
    "a, b, *_ = tpl"
   ],
   "metadata": {
    "collapsed": false,
    "ExecuteTime": {
     "end_time": "2024-12-13T17:47:22.082430Z",
     "start_time": "2024-12-13T17:47:22.081063Z"
    }
   },
   "id": "12b45e1ce051b9fb",
   "execution_count": 4
  },
  {
   "cell_type": "code",
   "outputs": [
    {
     "data": {
      "text/plain": "1"
     },
     "execution_count": 5,
     "metadata": {},
     "output_type": "execute_result"
    }
   ],
   "source": [
    "a"
   ],
   "metadata": {
    "collapsed": false,
    "ExecuteTime": {
     "end_time": "2024-12-13T17:47:22.086826Z",
     "start_time": "2024-12-13T17:47:22.083661Z"
    }
   },
   "id": "51024830e3ae7a28",
   "execution_count": 5
  },
  {
   "cell_type": "code",
   "outputs": [
    {
     "data": {
      "text/plain": "2"
     },
     "execution_count": 6,
     "metadata": {},
     "output_type": "execute_result"
    }
   ],
   "source": [
    "b"
   ],
   "metadata": {
    "collapsed": false,
    "ExecuteTime": {
     "end_time": "2024-12-13T17:47:22.090383Z",
     "start_time": "2024-12-13T17:47:22.087901Z"
    }
   },
   "id": "d29ba6eb65b3c265",
   "execution_count": 6
  },
  {
   "cell_type": "code",
   "outputs": [
    {
     "ename": "SyntaxError",
     "evalue": "can't use starred expression here (549464345.py, line 1)",
     "output_type": "error",
     "traceback": [
      "\u001B[0;36m  Cell \u001B[0;32mIn[7], line 1\u001B[0;36m\u001B[0m\n\u001B[0;31m    *_\u001B[0m\n\u001B[0m    ^\u001B[0m\n\u001B[0;31mSyntaxError\u001B[0m\u001B[0;31m:\u001B[0m can't use starred expression here\n"
     ]
    }
   ],
   "source": [],
   "metadata": {
    "collapsed": false,
    "ExecuteTime": {
     "end_time": "2024-12-13T19:07:43.314111Z",
     "start_time": "2024-12-13T19:07:43.303548Z"
    }
   },
   "id": "821596c6271711cd",
   "execution_count": 7
  },
  {
   "cell_type": "code",
   "outputs": [],
   "source": [],
   "metadata": {
    "collapsed": false
   },
   "id": "cffb8e6f61562d36"
  }
 ],
 "metadata": {
  "kernelspec": {
   "display_name": "Python 3",
   "language": "python",
   "name": "python3"
  },
  "language_info": {
   "codemirror_mode": {
    "name": "ipython",
    "version": 2
   },
   "file_extension": ".py",
   "mimetype": "text/x-python",
   "name": "python",
   "nbconvert_exporter": "python",
   "pygments_lexer": "ipython2",
   "version": "2.7.6"
  }
 },
 "nbformat": 4,
 "nbformat_minor": 5
}
