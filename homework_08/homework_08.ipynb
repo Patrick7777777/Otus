{
 "cells": [
  {
   "cell_type": "markdown",
   "source": [
    "# 1 Линейная алгебра\n",
    "\n",
    "Даны матрицы: $ A = \\begin{bmatrix}2&-4\\\\3&5\\\\-1&0\\end{bmatrix} $, $ B = \\begin{bmatrix}1 & 2 & 7 \\\\-3&-4&0\\\\5&2&1\\end{bmatrix} $, $ C = \\begin{bmatrix}6 & -3 & 9 \\\\4 & -5 & 2\\\\8 & 1 & 5\\end{bmatrix}$.\n",
    "Посчитайте матрицу $ D = A^TC - 2A^TB^T $. Приведите полную последовательность вычислений. <br>\n",
    "Решение:\n",
    "$ A^T = \\begin{bmatrix}2 & 3 & -1 \\\\-4 & 5 & 0\\end{bmatrix} $\n",
    "$ B^T = \\begin{bmatrix}1 & -3 & 5 \\\\ 2 & -4 & 2 \\\\ 7 & 0 & 1\\end{bmatrix} $\n",
    "$ A^T C = \\begin{bmatrix}2 & 3 & -1 \\\\-4 & 5 & 0\\end{bmatrix} \\begin{bmatrix}6 & -3 & 9 \\\\4 & -5 & 2 \\\\8 & 1 & 5\\end{bmatrix} $\n",
    "Умножим строки матрицы $ A^T $ на столбцы матрицы $ C $:\n",
    "$ 2 \\cdot 6 + 3 \\cdot 4 + (-1) \\cdot 8 = 12 + 12 - 8 = 16 $\n",
    "$ 2 \\cdot -3 + 3 \\cdot -5 + (-1) \\cdot 1 = -6 - 15 - 1 = -22 $\n",
    "$ 2 \\cdot 9 + 3 \\cdot 2 + (-1) \\cdot 51 = 18 + 6 - 5 = 19 $\n",
    "$ -4 \\cdot 6 + 5 \\cdot 4 + 0 \\cdot 8 = -24 + 20 + 0 = -4 $\n",
    "$ -4 \\cdot -3 + 5 \\cdot -5 + 0 \\cdot 1 = 12 - 25 + 0 = -13 $\n",
    "$ -4 \\cdot 9 + 5 \\cdot 2 + 0 \\cdot 51 = -36 + 10 + 0 = -26 $\n",
    "\n",
    "$ A^T C = \\begin{bmatrix}16 & -22 & 19 \\\\-4 & -13 & -26\\end{bmatrix} $\n",
    "\n",
    "Находим $ A^T B^T $\n",
    "$ A^T B^T = \\begin{bmatrix}2 & 3 & -1 \\\\-4 & 5 & 0\\end{bmatrix} \\begin{bmatrix}1 & -3 & 5 \\\\ 2 & -4 & 2 \\\\ 7 & 0 & 1\\end{bmatrix} $\n",
    "Умножим строки матрицы $ A^T $ на столбцы матрицы $ B^T $:\n",
    "$2\\cdot1 + 3\\cdot2 - 1\\cdot7 = 2 + 6 - 7 = 1$\n",
    "$2\\cdot(−3)+3\\cdot(−4)+(−1)\\cdot0=−6−12+0=−18$\n",
    "$2\\cdot5+3\\cdot2+(−1)\\cdot1=10+6−1=15$\n",
    "$−4\\cdot1+5\\cdot2+0\\cdot7=−4+10+0=6$\n",
    "$−4\\cdot(−3)+5\\cdot(−4)+0\\cdot0=12−20+0=−8$\n",
    "$−4\\cdot5+5\\cdot2+0\\cdot1=−20+10+0=−10$\n",
    "$ A^T B^T = \\begin{bmatrix}1 & -18 & 15 \\\\6 & -8 & -10\\end{bmatrix}$\n",
    "Умножаем на скаляр 2\n",
    "$2A^TB^T=\\begin{bmatrix}2 & -36 & 30 \\\\ 12 & -16 & -20\\end{bmatrix}$\n",
    "Вычитаем $A^TC-2A^TB^T$\n",
    "$D = A^TC-2A^TB^T = \\begin{bmatrix}16 & -22 & -19 \\\\-4 & -13 & -26\\end{bmatrix} - \\begin{bmatrix}2 & -36 & 30 \\\\12 & -16 & -20\\end{bmatrix} = \\begin{bmatrix}14 & 14 & -11 \\\\-16 & 3 & -6\\end{bmatrix}$ \n"
   ],
   "metadata": {
    "collapsed": false
   },
   "id": "939447edffc0b79e"
  },
  {
   "cell_type": "markdown",
   "source": [
    "Проверяем в numpy:"
   ],
   "metadata": {
    "collapsed": false
   },
   "id": "de1698d5a5740a9b"
  },
  {
   "cell_type": "code",
   "outputs": [
    {
     "name": "stdout",
     "output_type": "stream",
     "text": [
      "[[ 16 -22  19]\n",
      " [ -4 -13 -26]]\n",
      "[[  2 -36  30]\n",
      " [ 12 -16 -20]]\n",
      "D = [[ 14  14 -11]\n",
      " [-16   3  -6]]\n"
     ]
    }
   ],
   "source": [
    "import numpy as np\n",
    "\n",
    "A = np.array([[2, -4], [3, 5], [-1, 0]])\n",
    "B = np.array([[1, 2, 7], [-3, -4, 0], [5, 2, 1]])\n",
    "C = np.array([[6, -3, 9], [4, -5, 2], [8, 1, 5]])\n",
    "A_T = A.transpose()\n",
    "B_T = B.transpose()\n",
    "A_TC = np.dot(A_T, C)\n",
    "print(A_TC)\n",
    "A_T_B_T = np.dot(A_T, B_T)\n",
    "A_T_B_T_mul2 = A_T_B_T*2\n",
    "print(A_T_B_T_mul2)\n",
    "print(f'D = {A_TC - A_T_B_T_mul2}')"
   ],
   "metadata": {
    "collapsed": false,
    "ExecuteTime": {
     "end_time": "2025-04-23T14:30:04.827368Z",
     "start_time": "2025-04-23T14:30:04.821825Z"
    }
   },
   "id": "a03889ace3c3bb9e",
   "execution_count": 157
  },
  {
   "cell_type": "markdown",
   "source": [
    "Дано выражение: $$ 3\\cdot\\begin{bmatrix}x & 2 & 3 \\\\ -1 & y & 4\\end{bmatrix}+2\\cdot\\begin{bmatrix}1 & 2 & -1 \\\\ 2 & -6 & z\\end{bmatrix} = \\begin{bmatrix}8 & v & -1 \\\\ 1 & 6 & 4\\end{bmatrix} $$\n",
    "Найдите значения $ x, y, z $ и $ v $, при которых выражение верно. <br>\n",
    "Решение:\n",
    "\n",
    "Умножим матрицы на скаляры:\n",
    "$$ \\begin{bmatrix}3x & 6 & 9 \\\\ -3 & 3y & 12\\end{bmatrix} + \\begin{bmatrix}2 & 4 & -2 \\\\ 4 & -12 & 2z\\end{bmatrix} = \\begin{bmatrix}8 & v & -1 \\\\ 1 & 6 & 4\\end{bmatrix}$$\n",
    "Складываем:\n",
    "$$ \\begin{bmatrix}3x+2 & 10 & 7 \\\\ 1 & 3y - 12 & 12 + 2z\\end{bmatrix} = \\begin{bmatrix}8 & v & -1 \\\\ 1 & 6 & 4\\end{bmatrix}$$\n",
    "Получаем: <br>\n",
    "$ 3x + 2 = 8 $\n",
    "$ 10 = v $\n",
    "$ 3y−12=6 $\n",
    "$ 12 + 2z = 4 $ <br>\n",
    "В итоге: <br>\n",
    "$ x = 2 $\n",
    "$ v = 10 $\n",
    "$ y = 6 $\n",
    "$ z = -4 $"
   ],
   "metadata": {
    "collapsed": false
   },
   "id": "3648ec08647367e1"
  },
  {
   "cell_type": "markdown",
   "source": [
    "Относительно канонического (стандартного) базиса в $\\mathbb R^2$ даны три вектора $ a_1 = (2, −5)^⊤ $, $ a_2 = (−1, 3)^⊤ $, и $ x = (1,−4)^⊤ $. Примите векторы $ a1 $, $ a2 $ за новый базис $ B $, предварительно проверив, что они линейно независимы.\n",
    "(a) Найдите координаты $ [x]_B $ вектора $x$ в новом базисе.\n",
    "(b) Предположим, что координаты вектора $ y $ в базисе $ B $ заданы $ [y]_B = (1, 1)^T $ . Найдите координаты\n",
    "вектора $y$ в стандартном базисе.\n",
    "Решение (a):\n",
    "$ a_1 = \\begin{bmatrix}2\\\\-5\\end{bmatrix}$, $ a_2 = \\begin{bmatrix}-1\\\\3\\end{bmatrix}$ \n",
    "Так как $ a_1 $ и $ a_2 $ лежат в одной плоскости и не лежат на одной прямой, можно считать, что они линейно независимы.\n",
    "Находим координаты $ [x]_B $ вектора $x$ в новом базисе:\n",
    "Вектор $ x $ представим в виде линейной комбинации векторов базиса $a_1$ и $a_2$\n",
    "$$ x=c_1a_1 + c_2a_2 $$\n",
    "$$ \\begin{bmatrix}1\\\\-4\\end{bmatrix} =  c_1\\begin{bmatrix}2\\\\-5\\end{bmatrix} + c_2\\begin{bmatrix}-1\\\\3\\end{bmatrix} $$\n",
    "Это приводит к системе уравнений:\n",
    "$$\\begin{cases}2c_1 -  c_2 = 1 \\\\ -5c_1 + 3c_2 = -4 \\end{cases} $$\n",
    "$$ c_2 = 2c_1 - 1 $$\n",
    "$$ -5c_1 + 3(2c_1 - 1) = -4$$ \n",
    "$$ -5c_1 + 6c_1 - 3 = -4$$ \n",
    "$$ c_1 - 3 = -4$$ \n",
    "$$ c_1 = -1$$ \n",
    "$$ c_2 = 2(-1)-1=-2-1=-3$$ \n",
    "Получаем $ [x]_B =  \\begin{bmatrix}-1\\\\-3\\end{bmatrix}$\n",
    "Решение (b):\n",
    "$$[y]_b = \\begin{bmatrix}1\\\\1\\end{bmatrix}$$\n",
    "$$1a_1 + 1a_2 = a_1 + a_2$$\n",
    "$$y = \\begin{bmatrix}2\\\\-5\\end{bmatrix} + \\begin{bmatrix}-1\\\\3\\end{bmatrix} = \\begin{bmatrix}1\\\\-2\\end{bmatrix}$$\n",
    "$$y = \\begin{bmatrix}1\\\\-2\\end{bmatrix}$$\n"
   ],
   "metadata": {
    "collapsed": false
   },
   "id": "11735ecfdfe9aab7"
  },
  {
   "cell_type": "code",
   "outputs": [
    {
     "name": "stdout",
     "output_type": "stream",
     "text": [
      "Вектор x в базисе B:\n",
      " [[-1.]\n",
      " [-3.]]\n",
      "Вектор y в стандартном базисе:\n",
      " [[ 1]\n",
      " [-2]]\n"
     ]
    }
   ],
   "source": [
    "import numpy as np\n",
    "a1 = np.array([[2], [-5]])\n",
    "a2 = np.array([[-1], [3]])\n",
    "x = np.array([[1], [-4]])\n",
    "B = np.hstack((a1, a2))\n",
    "coordinates = np.linalg.solve(B, x)\n",
    "print(f\"Вектор x в базисе B:\\n {coordinates}\")\n",
    "y_B = np.array([[1], [1]])\n",
    "y = B.dot(y_B)\n",
    "print(f\"Вектор y в стандартном базисе:\\n {y}\")"
   ],
   "metadata": {
    "collapsed": false,
    "ExecuteTime": {
     "end_time": "2025-04-23T14:30:04.832181Z",
     "start_time": "2025-04-23T14:30:04.829521Z"
    }
   },
   "id": "58e8ca12864f46a3",
   "execution_count": 158
  },
  {
   "cell_type": "markdown",
   "source": [
    "Исследовательское задание: малоранговая аппроксимация матрицы. Сгенерируйте случайную квадратную матрицу $ A \\in \\mathbb R^{n×n}, n ≥ 100 $. Выполните сингулярное разложение этой матрицы, и получите три матрицы: $U, S, V^⊤$. Выполняйте аппроксимацию матрицы $A$ с рангом $r$, меняя его значение, например, от 2 до $n$:\n",
    "\n",
    "$ \\tilde{A} = U[:,:r] S[:r, :r] V^{\\top} [:r, :] $,\n",
    "\n",
    "и каждый раз считайте ошибку апроксимации (как восстановленная матрица отличается от исходной):\n",
    "\n",
    "$$ E(r) = ||A - \\tilde{A}||_F = \\sqrt{\\sum_{i = 1}^{n}\\sum_{j = 1}^{n}(a_{ij} - \\tilde{a_{ij}})^2} $$\n",
    "\n",
    "Используя библиотеку $matplotlib$, постройте график зависимости ошибки аппроксимации матрицы от ранга $r$."
   ],
   "metadata": {
    "collapsed": false
   },
   "id": "3318627a96321d1d"
  },
  {
   "cell_type": "code",
   "outputs": [
    {
     "data": {
      "text/plain": "<Figure size 800x800 with 1 Axes>",
      "image/png": "[encoded data removed]"
     },
     "metadata": {},
     "output_type": "display_data"
    }
   ],
   "source": [
    "import numpy as np\n",
    "import numpy.linalg as la\n",
    "import matplotlib.pyplot as plt\n",
    "%matplotlib inline\n",
    "\n",
    "n = 100\n",
    "mat = np.random.rand(n, n)\n",
    "errors = []\n",
    "U, s, VT = la.svd(mat)\n",
    "for r in range(2, n+1):\n",
    "    Sigma = np.zeros((n, n))\n",
    "    np.fill_diagonal(Sigma, s[:r])\n",
    "    mat_approx = U[:, :r] @ Sigma[:r, :r] @ VT[:r, :]\n",
    "    error = np.linalg.norm(mat - mat_approx, 'fro')\n",
    "    errors.append(error)\n",
    "    \n",
    "plt.figure(figsize=(8, 8))\n",
    "plt.plot(range(2, n + 1), errors)\n",
    "plt.title('Ошибка аппроксимации от ранга r')\n",
    "plt.xlabel('r')\n",
    "plt.ylabel('E(r)')\n",
    "plt.grid()\n",
    "plt.show()"
   ],
   "metadata": {
    "collapsed": false,
    "ExecuteTime": {
     "end_time": "2025-04-23T14:30:05.033665Z",
     "start_time": "2025-04-23T14:30:04.833091Z"
    }
   },
   "id": "44ed230ada7c6018",
   "execution_count": 159
  },
  {
   "cell_type": "markdown",
   "source": [
    "# 2 Начала мат.анализа и оптимизации\n",
    "\n",
    "Посчитайте градиент следующей функции: $ f(x)=x_1^3 - 2x_1x_2 + x_2^2 - 3x_1 - 2_x_2$, $x \\in \\mathbb R^2 $\n",
    "Найдите критические точки $ x_c $, такие, что $\\nabla F(x_с) = 0$ <br>\n",
    "Решение: <br>\n",
    "Производная по $ x1 $: $$ \\frac{\\partial f}{\\partial x_1} = 3x_1^2 - 2x_2 - 3 $$\n",
    "Производная по $ x2 $: $$ \\frac{\\partial f}{\\partial x_2} = -2x_1 + 2x_2 - 2 $$\n",
    "Градиент функции будет $ \\nabla f(x) = \\left( 3x_1^2 - 2x_2 - 3, -2x_1 + 2x_2 - 2 \\right) $\n",
    "Находим критические точки $\\nabla f(x_c) = 0$:\n",
    "Решим систему уравнений:\n",
    "$$ \\begin{cases}3x_1^2 - 2x_2 - 3 = 0 \\\\ -2x_1 + 2x_2 - 2 = 0 \\end{cases} $$\n",
    "Из второго уравнения получаем $ 2x_2 = 2x_1 + 2 $\n",
    "Подставляем в первое и получаем $ 3x_1^2 - 2x_1 - 5 = 0 $\n",
    "Решая первое уравнение получаем:\n",
    "$$ x_{11} = \\frac{5}{3} $$\n",
    "$$ x_{12} = -1 $$\n",
    "Для $ \\frac{5}{3} $, $ x_2 = \\frac{8}{3} $\n",
    "Для $ x_1 = -1, x_2 = -1 + 1 = 0 $\n",
    "Итого получаем: $$ x_{c_1} = \\left( \\frac{5}{3}, \\frac{8}{3} \\right) \\quad \\text{и} \\quad x_{c_2} = (-1, 0) $$"
   ],
   "metadata": {
    "collapsed": false
   },
   "id": "6d4a2da0116d9b4a"
  },
  {
   "cell_type": "markdown",
   "source": [
    "Проверьте, что функция $f = ln(\\sqrt{x_1} + \\sqrt{x_2})$ удовлетворяет уравнению:\n",
    "$$ x_1\\frac{\\partial f}{\\partial x_1} + x_2\\frac{\\partial f}{\\partial x_2} = \\frac{1}{2}$$\n",
    "Решение:\n",
    "Находим производную по $x_1$:\n",
    "$$ \\frac{\\partial f}{\\partial x_1} = \\frac{1}{\\sqrt{x_1} + \\sqrt{x_2}}  \\cdot \\frac{\\partial f}{\\partial x_1} (\\sqrt{x_1} + \\sqrt{x_2}) $$\n",
    "Так как $ \\sqrt{x_2} $ не зависит от $ x_1 $, его производная по $ x_1 $ равна нулю, а производная $ \\sqrt{x_1} $ равна $ \\frac{1}{2\\sqrt{x_1}} $\n",
    "$$ \\frac{\\partial f}{\\partial x_1} = \\frac{1}{\\sqrt{x_1} + \\sqrt{x_2}} \\cdot \\frac{1}{2\\sqrt{x_1}} = \\frac{1}{2\\sqrt{x_1}(\\sqrt{x_1} + \\sqrt{x_2})}$$\n",
    "Аналогично по $ x_2 $:\n",
    "$$ \\frac{\\partial f}{\\partial x_2} = \\frac{1}{\\sqrt{x_1} + \\sqrt{x_2}} \\cdot \\frac{1}{2\\sqrt{x_2}} =  \\frac{1}{2\\sqrt{x_2}(\\sqrt{x_1} + \\sqrt{x_2})}$$\n",
    "Далее получаем:\n",
    "\n",
    "$$  x_1\\frac{\\partial f}{\\partial x_1} +  x_2\\frac{\\partial f}{\\partial x_2} =  \\frac{x_1}{2\\sqrt{x_1}(\\sqrt{x_1} + \\sqrt{x_2})} + \\frac{x_2}{2\\sqrt{x_2}(\\sqrt{x_1} + \\sqrt{x_2})} = \\frac{\\sqrt{x_1}}{2(\\sqrt{x_1} + \\sqrt{x_2})} + \\frac{\\sqrt{x_2}}{2(\\sqrt{x_1} + \\sqrt{x_2})} = \\frac{\\sqrt{x_1} + \\sqrt{x_2}}{2(\\sqrt{x_1} + \\sqrt{x_2})} = \\frac{1}{2}$$"
   ],
   "metadata": {
    "collapsed": false
   },
   "id": "fb8257ac681c7e11"
  },
  {
   "cell_type": "markdown",
   "source": [
    "Предположим, что задана функция $ f: \\mathbb R^3 \\to \\mathbb R $:\n",
    "$$ f(x, y, z) = x + y + z + (xyz)^2 $$\n",
    "Найдите вектор градиента функции $f$ , и его численное значение в точке $v = (1, 2, 3)^⊤$.\n",
    "Решение:\n",
    "$$ f(x,y,z) = x + y + z + (xyz)^2 = x + y + z + x^2y^2z^2 $$\n",
    "$$ \\nabla F(x, y, z) = (\\frac{\\partial f}{\\partial x}, \\frac{\\partial f}{\\partial y}, \\frac{\\partial f}{\\partial z})$$\n",
    "$$ \\frac{\\partial f}{\\partial x} = 1 + 0 + 0 + 2xy^2z^2 = 1 + 2xy^2z^2 $$\n",
    "$$ \\frac{\\partial f}{\\partial y} = 1 + 2yx^2z^2 $$\n",
    "$$ \\frac{\\partial f}{\\partial z} = 1 + 2zx^2y^2 $$\n",
    "$$ \\nabla F(x, y, z) = ( 1 + 2xy^2z^2 ,  1 + 2yx^2z^2, 1 + 2zx^2y^2) $$\n",
    "$$ x = 1, y = 2, z = 3 $$\n",
    "$$ \\nabla F(1, 2, 3) = \\begin{bmatrix}1 + 2\\cdot1\\cdot2^2\\cdot3^2\\\\ 1 + 2\\cdot2\\cdot1^2\\cdot3^2 \\\\ 1 + 2\\cdot3\\cdot1^2\\cdot2^2\\end{bmatrix} = \\begin{bmatrix}73\\\\37\\\\25\\end{bmatrix} $$"
   ],
   "metadata": {
    "collapsed": false
   },
   "id": "3cb150eac512c887"
  },
  {
   "cell_type": "markdown",
   "source": [
    "(Куб Евклидовой нормы). Найти первый дифференциал $df(x)$, а также градиент $\\nabla f(x)$ функции:\n",
    "$$ f(x) = \\frac{1}{3}||x||_2^3, x \\in \\mathbb R^n \\setminus \\{0\\} $$\n",
    "\n",
    "Решение:\n",
    "Обозначим $ r=||x||_2 $, тогда $ f(x)=\\frac{1}{3}r^3 $\n",
    "Вычислим производную по $ x_j $:\n",
    "$$ \\frac{\\partial f}{\\partial x_j} = \\frac{1}{3}3r^2\\frac{\\partial r}{\\partial x_j} =  r^2\\frac{\\partial r}{\\partial x_j} $$\n",
    "$$ \\frac{\\partial r}{\\partial x_j} = \\frac{\\partial\\sqrt{x_1^2 + ... + x_n^2}}{\\partial x_j} = \\frac{1}{2}(x_1^2 + ... + x_n^2)2x_j  = \\frac{x_j}{\\sqrt{x_1^2 + ... + x_n^2}} = \\frac{x_j}{r} $$\n",
    "Значит $$ \\frac{\\partial f}{\\partial x_j} = r^2\\frac{x_j}{r} = rx_j = ||x||_2x_j$$\n",
    "Следовательно первый дифференциал будет $$ df(x) = \\sum_{j = 1}^{n} ||x||_2x_jdx_j = ||x||_2<x, d_x>$$\n",
    "Градиент будет: $$ \\nabla F(x) = (\\frac{\\partial f}{\\partial x_1}, ... , \\frac{\\partial f}{\\partial x_n}) = ||x||_2(x1, ..., x_n) = ||x||_2x $$\n",
    "\n",
    "\n",
    "\n",
    "\n"
   ],
   "metadata": {
    "collapsed": false
   },
   "id": "1f3ddcacbb56ba2b"
  },
  {
   "cell_type": "markdown",
   "source": [
    "(Квадрат Евклидовой нормы). Найдите первый дифференциал $df(x)$, и градиент $\\nabla f(x)$ функции:\n",
    "$$ f(x) = ||A_x||_2^2, x \\in  \\mathbb R^n \\setminus \\{0\\}, A \\in  \\mathbb R^{m \\times n}$$\n",
    "Решение:\n",
    "$f(x) = |A x|_2^2 = (A x)^T (A x) = x^T A^T A x$\n",
    "\n",
    "Найдем градиент $\\nabla f(x)$\n",
    "\n",
    "Чтобы найти градиент функции $ f $, воспользуемся правилом дифференцирования для квадратичных форм. Если $ f(x) = x^T B x $, где $B$ — это симметрическая матрица, то:\n",
    "\n",
    "$\\nabla f(x) = (B + B^T)x$\n",
    "\n",
    "В нашем случае $ B = A^T A $ — это симметричная матрица, поэтому:\n",
    "\n",
    "$\\nabla f(x) = 2 A^T A x$\n",
    "\n",
    "Теперь найдем первый дифференциал $ df(x) $:\n",
    "Первый дифференциал $df(x)$ относительно изменения $ dx $ можно записать как:\n",
    "\n",
    "$$df(x) = \\nabla f(x)^T dx$$\n",
    "Подставляя найденный градиент в выражение, получим:\n",
    "$$ df(x) = (2 A^T A x)^T dx = 2 x^T A^T Adx $$\n",
    "Таким образом, результаты можно подвести в следующем виде:\n",
    "$ \\nabla f(x) = 2 A^T A x $\n",
    "$ df(x) = 2 x^T A^T Adx $\n",
    "\n",
    "\n",
    "\n",
    "\n",
    "\n",
    "\n"
   ],
   "metadata": {
    "collapsed": false
   },
   "id": "f9e16be17d1937f5"
  }
 ],
 "metadata": {
  "kernelspec": {
   "display_name": "Python 3",
   "language": "python",
   "name": "python3"
  },
  "language_info": {
   "codemirror_mode": {
    "name": "ipython",
    "version": 2
   },
   "file_extension": ".py",
   "mimetype": "text/x-python",
   "name": "python",
   "nbconvert_exporter": "python",
   "pygments_lexer": "ipython2",
   "version": "2.7.6"
  }
 },
 "nbformat": 4,
 "nbformat_minor": 5
}
