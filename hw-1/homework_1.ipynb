{
 "cells": [
  {
   "cell_type": "markdown",
   "metadata": {
    "id": "rL70m2sic0jV"
   },
   "source": [
    "# <center> Homework 1 </center>"
   ]
  },
  {
   "cell_type": "markdown",
   "metadata": {
    "id": "JVd5jRlPc0jY"
   },
   "source": [
    "# 0. Где мы сейчас?\n",
    "<img src=\"https://upload.wikimedia.org/wikipedia/commons/thumb/3/38/Jupyter_logo.svg/1200px-Jupyter_logo.svg.png\" width=\"150\">\n",
    "\n",
    "[Jupyter Notebook](https://jupyter.org/) - интерактивная среда для запуска программного кода в браузере. Удобный инструмент для анализа данных, который используется многими специалистами по data science. Позволяет выполнять отдельные ячейки с кодом, а не всю программу сразу, что очень удобно при знакомстве с данными."
   ]
  },
  {
   "cell_type": "markdown",
   "metadata": {
    "id": "k8hj3Kdvc0jZ"
   },
   "source": [
    "# 1. Python\n",
    "> Python - это свободный интерпретируемый объектно-ориентированный расширяемый встраиваемый язык программирования очень высокого уровня\n",
    "\n",
    ">*(Г.Россум, Ф.Л.Дж.Дрейк, Д.С.Откидач \"Язык программирования Python\").*\n",
    "\n",
    "А если без цитат, то питон - это просто очень крутой язык, созданный в 1991 году [Великодушным пожизненным диктатором](https://ru.wikipedia.org/wiki/%D0%92%D0%B5%D0%BB%D0%B8%D0%BA%D0%BE%D0%B4%D1%83%D1%88%D0%BD%D1%8B%D0%B9_%D0%BF%D0%BE%D0%B6%D0%B8%D0%B7%D0%BD%D0%B5%D0%BD%D0%BD%D1%8B%D0%B9_%D0%B4%D0%B8%D0%BA%D1%82%D0%B0%D1%82%D0%BE%D1%80) Гвидо ван Россумом и названный в честь любимого им шоу [Monty Python's Flying Circus](https://en.wikipedia.org/wiki/Monty_Python%27s_Flying_Circus)\n",
    "\n",
    "<img src=\"https://advancelocal-adapter-image-uploads.s3.amazonaws.com/image.oregonlive.com/home/olive-media/width2048/img/tv/photo/2018/10/10/montycastjpg-7ef393e2355a42aa.jpg\" width=\"300\">"
   ]
  },
  {
   "cell_type": "markdown",
   "metadata": {
    "id": "llQ9RXHfc0ja"
   },
   "source": [
    "# 2. Anaconda\n",
    "\n",
    "[Сборка Anaconda](https://www.anaconda.com/products/individual) включает очень много полезных библиотек для анализа данных.\n",
    "\n",
    "Среди наиболее популярных библиотек:\n",
    " - <a href=\"http://numpy.org\">Numpy</a> - это один из основных пакетов для математических вычислений. Он содержит средства для работы с многомерными массивами и высокоуровневыми математическими функциями\n",
    " - <a href=\"https://www.scipy.org/\">SciPy</a> - научные вычисления. Методы оптимизации, интегрирования, модули обработки сигналов и изображений, статистика, линейная алгебра, сплайны, кластеризация и многое другое\n",
    " -  <a href=\"http://pandas.pydata.org/\">Pandas</a> - основная библиотека для обработки и анализа данных. Предназначена для данных разной природы - матричных, панельных данных, временных рядов. Претендует на звание самого мощного и гибкого средства для анализа данных с открытым исходным кодом\n",
    " - <a href=\"http://scikit-learn.org/stable/\">Scikit-learn</a> - реализация очень многих методов машинного обучения с отличной документацией.\n",
    " - <a href=\"http://http://matplotlib.org/\">matplotlib</a> - хорошая библиотека для визуализации данных\n",
    "\n",
    " С этими библиотеками вы будете знакомится дальше на курсе, а пока давайте попрактикуемся в решении базовых задач на  чистом Python."
   ]
  },
  {
   "cell_type": "markdown",
   "metadata": {
    "id": "rfAcLe-Tc0ja"
   },
   "source": [
    "# 3. Задачки"
   ]
  },
  {
   "cell_type": "markdown",
   "metadata": {
    "id": "y7gWqyZpc0jb"
   },
   "source": [
    "## Задача 1\n",
    "$N$ хоббитов делят $K$ кусков эльфийского хлеба поровну, не делящийся нацело остаток остается в корзинке у Сэма. Напишите функцию, которая принимает на вход параметры $N$ и $K$ и возвращает два числа: $x$ - cколько кусков эльфиского хлеба достанется каждому хоббиту, и $y$ - сколько кусков остаётся в корзинке."
   ]
  },
  {
   "cell_type": "code",
   "execution_count": 22,
   "metadata": {
    "id": "m9mteFtwc0jb",
    "ExecuteTime": {
     "end_time": "2025-01-21T10:00:05.667759Z",
     "start_time": "2025-01-21T10:00:05.663927Z"
    }
   },
   "outputs": [],
   "source": [
    "import math\n",
    "\n",
    "\n",
    "def share_bread(N, K):\n",
    "    # your code here\n",
    "    if N <= 0:\n",
    "        raise ValueError(\"Количество хоббитов должно быть больше 0.\")\n",
    "    if K < 0:\n",
    "        raise ValueError(\"Количество кусков хлеба не может быть отрицательным.\")\n",
    "    x = K // N\n",
    "    y = K % N\n",
    "    return x, y\n",
    "\n",
    "# если в функции всё верно, то после выполнения этой строчки, не должно выскакивать ошибок\n",
    "assert share_bread(N=3, K=14) == (4, 2)"
   ]
  },
  {
   "cell_type": "markdown",
   "metadata": {
    "id": "i24Th8I7c0jc"
   },
   "source": [
    "## Задача 2\n",
    "\n",
    "В копях Мории хоббиты нашли стену, на которой высечены разные натуральные числа. Согласно древним сказаниям, это даты сражений. Хоббиты знают, что сражения происходили только по високосным годам. Помогите хоббитам определить, является ли год с данным числом датой великого сражения. Если это так, то верните строку \"YOU SHALL PASS\", иначе верните \"YOU SHALL NOT PASS\". Напомним, что в соответствии с хоббитским календарем, год является високосным, если его номер кратен 4, но не кратен 100, а также если он кратен 400."
   ]
  },
  {
   "cell_type": "code",
   "execution_count": 23,
   "metadata": {
    "id": "3SnU33pPc0jc",
    "ExecuteTime": {
     "end_time": "2025-01-21T10:00:05.678256Z",
     "start_time": "2025-01-21T10:00:05.675553Z"
    }
   },
   "outputs": [],
   "source": [
    "def leap_year(year):\n",
    "    if (year % 4 == 0 and year % 100 != 0) or (year % 400 == 0):\n",
    "        text_result = \"YOU SHALL PASS\"\n",
    "    else:\n",
    "        text_result = \"YOU SHALL NOT PASS\"\n",
    "    return text_result\n",
    "\n",
    "assert leap_year(5) == 'YOU SHALL NOT PASS'"
   ]
  },
  {
   "cell_type": "markdown",
   "metadata": {
    "id": "-oibBIG4c0jd"
   },
   "source": [
    "## Задача 3\n",
    "<img src=\"http://i0.kym-cdn.com/photos/images/original/001/187/255/5e9.gif\" width=300>\n",
    "\n",
    "\n",
    "Для могущественного магического ритуала Гендальфу необходимо быстро подсчитывать площадь своего амулета, который умеет менять размеры. Известно, что амулет имеет форму треугольника и Гендальф знает длину каждой из сторон. Напишите функцию, которая считает площадь амулета по трем сторонам.  \n",
    "\n",
    "**Подсказка:** используйте формулу Герона\n",
    "$$ S = \\sqrt{p(p-a)(p-b)(p-c)} $$\n",
    "$$ p = \\frac{a + b + c}{2}$$\n"
   ]
  },
  {
   "cell_type": "code",
   "execution_count": 24,
   "metadata": {
    "id": "Uln7wcTVc0jd",
    "ExecuteTime": {
     "end_time": "2025-01-21T10:00:05.682571Z",
     "start_time": "2025-01-21T10:00:05.679739Z"
    }
   },
   "outputs": [],
   "source": [
    "import math\n",
    "def amulet_area(a, b, c):\n",
    "    # your code here\n",
    "    if a <= 0 or b <= 0 or c <= 0:\n",
    "        raise ValueError(\"Длины сторон должны быть положительными.\")\n",
    "    if a + b <= c or a + c <= b or b + c <= a:\n",
    "        raise ValueError(\"Указанные длины не могут образовать треугольник.\")\n",
    "    p = (a + b + c)/2\n",
    "    S = math.sqrt(p*(p-a)*(p-b)*(p-c))\n",
    "    return S\n",
    "\n",
    "assert amulet_area(3, 4, 5) == 6"
   ]
  },
  {
   "cell_type": "markdown",
   "metadata": {
    "id": "Os5KM6bQc0jd"
   },
   "source": [
    "## Задача 4\n",
    "\n",
    "Хоббиты собираются пешком идти до Мордора и им нужно подсчитать расстояние, которое им предстоит пройти. Хоббиты смогли вспомнить сразу несколько метрик расстояния: евклидово, манхэттена и косинусное, так что ваша задача - написать функцию под каждую из них. Важное условие - используйте только базовые функции для решения.\n",
    "\n",
    "\n",
    "* Евклидово расстояние\n",
    "$$ d(a, b) = \\sqrt{\\sum_i (a_i - b_i)^2} $$\n",
    "* Расстояние Манхэттена\n",
    "$$ d(a, b) = \\sum_i |a_i - b_i| $$\n",
    "* Косинусное расстояние\n",
    "$$ d(a, b) = 1 - \\frac{a^\\top b}{||a||_2\\cdot||b||_2}$$"
   ]
  },
  {
   "cell_type": "code",
   "execution_count": 30,
   "metadata": {
    "id": "_21LOuZRc0jd",
    "ExecuteTime": {
     "end_time": "2025-01-21T10:08:51.070226Z",
     "start_time": "2025-01-21T10:08:51.063013Z"
    }
   },
   "outputs": [],
   "source": [
    "import numpy as np\n",
    "import math\n",
    "\n",
    "def cal_euclidean(a, b):\n",
    "    a, b = a.tolist(), b.tolist()\n",
    "    if len(a) != len(b):\n",
    "        raise ValueError('Неодинаковая размерность')\n",
    "    \n",
    "    s = 0\n",
    "    for i in range(len(a)):\n",
    "        s += (a[i] - b[i]) ** 2\n",
    "    distance = math.sqrt(s)\n",
    "    return distance\n",
    "\n",
    "def cal_manhattan(a, b):\n",
    "    a, b = a.tolist(), b.tolist()\n",
    "    if len(a) != len(b):\n",
    "        raise ValueError('Неодинаковая размерность')\n",
    "    distance = 0\n",
    "    for i in range(len(a)):\n",
    "        distance += abs(a[i] - b[i])\n",
    "    return distance\n",
    "\n",
    "def cal_cosine(a, b):\n",
    "    a, b = a.tolist(), b.tolist()\n",
    "    if len(a) != len(b):\n",
    "        raise ValueError('Неодинаковая размерность')\n",
    "    scal_product = 0\n",
    "    mean_a = 0\n",
    "    mean_b = 0\n",
    "    \n",
    "    for i in range(len(a)):\n",
    "        scal_product += a[i] * b[i]\n",
    "        mean_a += a[i] ** 2\n",
    "        mean_b += b[i] ** 2\n",
    "        \n",
    "    mean_a = math.sqrt(mean_a)\n",
    "    mean_b = math.sqrt(mean_b)\n",
    "    \n",
    "    if mean_a == 0 or mean_b == 0:\n",
    "        raise ValueError(\"Деление на ноль\")\n",
    "    \n",
    "    distance =  1 - (scal_product / (mean_a * mean_b))\n",
    "    return distance"
   ]
  },
  {
   "cell_type": "code",
   "execution_count": 31,
   "metadata": {
    "id": "fvyqAKchc0je",
    "ExecuteTime": {
     "end_time": "2025-01-21T10:08:51.630604Z",
     "start_time": "2025-01-21T10:08:51.627505Z"
    }
   },
   "outputs": [
    {
     "name": "stdout",
     "output_type": "stream",
     "text": [
      "28.284271247461902\n",
      "76\n",
      "1.369897721437054\n"
     ]
    }
   ],
   "source": [
    "a = np.random.randint(-10, 10, size=10)\n",
    "b = np.random.randint(-10, 10, size=10)\n",
    "print(cal_euclidean(a, b))\n",
    "print(cal_manhattan(a, b))\n",
    "print(cal_cosine(a, b))"
   ]
  },
  {
   "cell_type": "markdown",
   "metadata": {
    "id": "w1L3GDw3c0je"
   },
   "source": [
    "## Задача 5* (бонусное неоцениваемое задание)\n",
    "\n",
    "**Замечание:** Поскольку библиотеку numpy мы будем подробно разбирать дальше, то это задание является бонусным, его выполнение необязательно для сдачи ДЗ и не влияет на итоговый балл. Как вариант, можете вернуться к нему после прохождения numpy ;)\n",
    "\n"
   ]
  },
  {
   "cell_type": "markdown",
   "metadata": {
    "id": "aEDIBiRpc0je"
   },
   "source": [
    "Создайте случайный array (`np.random.rand()`) длинной 100. Преобразуйте его так, чтобы\n",
    "* Максимальный элемент(ы) был равен 1\n",
    "* Минимальный элемент(ы) был равен 0\n",
    "* Остальные элементы в интервале от 0 до 1 остаются прежними"
   ]
  },
  {
   "cell_type": "code",
   "execution_count": 58,
   "metadata": {
    "id": "AFye6XzXc0je",
    "ExecuteTime": {
     "end_time": "2025-01-21T10:42:15.926210Z",
     "start_time": "2025-01-21T10:42:15.919696Z"
    }
   },
   "outputs": [
    {
     "name": "stdout",
     "output_type": "stream",
     "text": [
      "1.0 0.0\n",
      "[0.46179768 0.40730132 0.84505223 0.18854247 0.31389888 0.69068215\n",
      " 0.07193207 0.44216947 0.94339871 0.24983529 0.17998886 0.47003588\n",
      " 0.57854699 0.5722954  0.07396937 0.52455679 0.85933965 0.7960391\n",
      " 0.11905561 0.3388541  1.         0.15495909 0.50255485 0.58239933\n",
      " 0.3966665  0.34629314 0.31102328 0.6397246  0.1069482  0.43577575\n",
      " 0.3561334  0.84332313 0.23498028 0.63806681 0.74302941 0.22537046\n",
      " 0.20680276 0.59750119 0.34900472 0.         0.68682674 0.95200867\n",
      " 0.39911175 0.89252207 0.57096467 0.69909295 0.66076337 0.13873061\n",
      " 0.81809449 0.47769585 0.11657739 0.83009589 0.76781747 0.8012605\n",
      " 0.77429832 0.48679355 0.19273472 0.32123681 0.50864499 0.24024501\n",
      " 0.33154651 0.37067709 0.50462545 0.57678903 0.8888822  0.4670535\n",
      " 0.95915371 0.34943604 0.72771323 0.11175433 0.12142635 0.12619436\n",
      " 0.27995581 0.5832252  0.50764414 0.61399225 0.72692653 0.49148642\n",
      " 0.57643278 0.94684296 0.79306635 0.8583133  0.17056239 0.19740274\n",
      " 0.48310851 0.11004965 0.32287464 0.5140544  0.85810463 0.4357821\n",
      " 0.14997868 0.06946303 0.78287414 0.91384234 0.54986767 0.47070459\n",
      " 0.36092509 0.10928935 0.56398738 0.37196787]\n"
     ]
    }
   ],
   "source": [
    "my_array = np.random.rand(100)\n",
    "my_array = np.where(my_array == np.min(my_array), 0, my_array)\n",
    "my_array = np.where(my_array == np.max(my_array), 1, my_array)\n",
    "print(np.max(my_array), np.min(my_array))\n",
    "print(my_array)"
   ]
  },
  {
   "cell_type": "markdown",
   "metadata": {
    "id": "D84Jpwmmc0je"
   },
   "source": [
    "Создайте array размером $5 \\times 6$ с целыми числами в интервале [0,50]. Напечатайте колонку, которая содержит максимальный элемент полученной матрицы"
   ]
  },
  {
   "cell_type": "code",
   "execution_count": 73,
   "metadata": {
    "id": "SXaKW9bec0je",
    "ExecuteTime": {
     "end_time": "2025-01-21T10:56:22.831636Z",
     "start_time": "2025-01-21T10:56:22.828269Z"
    }
   },
   "outputs": [
    {
     "name": "stdout",
     "output_type": "stream",
     "text": [
      "Shape:  (5, 6)\n",
      "Array\n",
      "[[43 21 26 19 45 42]\n",
      " [ 0 36 10 31 11 47]\n",
      " [12 50  5 19 34 17]\n",
      " [50 20 10 48 19  6]\n",
      " [24 22 32 20 16 44]]\n",
      "[21 36 50 20 22]\n"
     ]
    }
   ],
   "source": [
    "my_array = np.random.randint(0, 51, size=(5, 6))\n",
    "selected_column = my_array[:, np.unravel_index(np.argmax(my_array), my_array.shape)[1]]\n",
    "print('Shape: ',my_array.shape)\n",
    "print('Array')\n",
    "print(my_array)\n",
    "print(selected_column)"
   ]
  },
  {
   "cell_type": "markdown",
   "metadata": {
    "id": "g3scUf0_c0je"
   },
   "source": [
    "Напишите функцию, которая принимает на вход матрицу (array) X и возвращает все её уникальные строки в виде новой матрицы."
   ]
  },
  {
   "cell_type": "code",
   "execution_count": 74,
   "metadata": {
    "id": "75j1Kyzvc0je",
    "ExecuteTime": {
     "end_time": "2025-01-21T11:00:24.942550Z",
     "start_time": "2025-01-21T11:00:24.938666Z"
    }
   },
   "outputs": [],
   "source": [
    "def get_unique_rows(X):\n",
    "    X_unique = np.unique(X, axis=0)\n",
    "    return X_unique"
   ]
  },
  {
   "cell_type": "code",
   "execution_count": 75,
   "metadata": {
    "id": "HzY-9KwGc0je",
    "ExecuteTime": {
     "end_time": "2025-01-21T11:00:26.765843Z",
     "start_time": "2025-01-21T11:00:26.761193Z"
    }
   },
   "outputs": [
    {
     "name": "stdout",
     "output_type": "stream",
     "text": [
      "[[5 4 4]\n",
      " [4 5 5]\n",
      " [5 5 4]\n",
      " [4 5 5]\n",
      " [4 4 4]\n",
      " [4 4 4]\n",
      " [5 4 4]\n",
      " [5 4 4]\n",
      " [4 4 5]\n",
      " [5 4 5]]\n"
     ]
    }
   ],
   "source": [
    "X = np.random.randint(4, 6, size=(10,3))\n",
    "print(X)"
   ]
  },
  {
   "cell_type": "code",
   "execution_count": 76,
   "metadata": {
    "id": "UiAM62AGc0jf",
    "ExecuteTime": {
     "end_time": "2025-01-21T11:00:33.843202Z",
     "start_time": "2025-01-21T11:00:33.836294Z"
    }
   },
   "outputs": [
    {
     "data": {
      "text/plain": "array([[4, 4, 4],\n       [4, 4, 5],\n       [4, 5, 5],\n       [5, 4, 4],\n       [5, 4, 5],\n       [5, 5, 4]])"
     },
     "execution_count": 76,
     "metadata": {},
     "output_type": "execute_result"
    }
   ],
   "source": [
    "get_unique_rows(X)"
   ]
  },
  {
   "cell_type": "code",
   "outputs": [],
   "source": [],
   "metadata": {
    "collapsed": false
   }
  }
 ],
 "metadata": {
  "kernelspec": {
   "display_name": "Python 3",
   "language": "python",
   "name": "python3"
  },
  "language_info": {
   "codemirror_mode": {
    "name": "ipython",
    "version": 3
   },
   "file_extension": ".py",
   "mimetype": "text/x-python",
   "name": "python",
   "nbconvert_exporter": "python",
   "pygments_lexer": "ipython3",
   "version": "3.7.6"
  },
  "varInspector": {
   "cols": {
    "lenName": 16,
    "lenType": 16,
    "lenVar": 40
   },
   "kernels_config": {
    "python": {
     "delete_cmd_postfix": "",
     "delete_cmd_prefix": "del ",
     "library": "var_list.py",
     "varRefreshCmd": "print(var_dic_list())"
    },
    "r": {
     "delete_cmd_postfix": ") ",
     "delete_cmd_prefix": "rm(",
     "library": "var_list.r",
     "varRefreshCmd": "cat(var_dic_list()) "
    }
   },
   "types_to_exclude": [
    "module",
    "function",
    "builtin_function_or_method",
    "instance",
    "_Feature"
   ],
   "window_display": false
  },
  "colab": {
   "provenance": []
  }
 },
 "nbformat": 4,
 "nbformat_minor": 0
}
