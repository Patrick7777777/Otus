{
 "cells": [
  {
   "cell_type": "markdown",
   "metadata": {
    "id": "JVd5jRlPc0jY"
   },
   "source": [
    "# 0. Где мы сейчас?\n",
    "<img src=\"https://upload.wikimedia.org/wikipedia/commons/thumb/3/38/Jupyter_logo.svg/1200px-Jupyter_logo.svg.png\" width=\"150\">\n",
    "\n",
    "[Jupyter Notebook](https://jupyter.org/) - интерактивная среда для запуска программного кода в браузере. Удобный инструмент для анализа данных, который используется многими специалистами по data science. Позволяет выполнять отдельные ячейки с кодом, а не всю программу сразу, что очень удобно при знакомстве с данными."
   ]
  },
  {
   "cell_type": "markdown",
   "metadata": {
    "id": "k8hj3Kdvc0jZ"
   },
   "source": [
    "# 1. Python\n",
    "> Python - это свободный интерпретируемый объектно-ориентированный расширяемый встраиваемый язык программирования очень высокого уровня\n",
    "\n",
    ">*(Г.Россум, Ф.Л.Дж.Дрейк, Д.С.Откидач \"Язык программирования Python\").*\n",
    "\n",
    "А если без цитат, то питон - это просто очень крутой язык, созданный в 1991 году [Великодушным пожизненным диктатором](https://ru.wikipedia.org/wiki/%D0%92%D0%B5%D0%BB%D0%B8%D0%BA%D0%BE%D0%B4%D1%83%D1%88%D0%BD%D1%8B%D0%B9_%D0%BF%D0%BE%D0%B6%D0%B8%D0%B7%D0%BD%D0%B5%D0%BD%D0%BD%D1%8B%D0%B9_%D0%B4%D0%B8%D0%BA%D1%82%D0%B0%D1%82%D0%BE%D1%80) Гвидо ван Россумом и названный в честь любимого им шоу [Monty Python's Flying Circus](https://en.wikipedia.org/wiki/Monty_Python%27s_Flying_Circus)\n",
    "\n",
    "<img src=\"https://advancelocal-adapter-image-uploads.s3.amazonaws.com/image.oregonlive.com/home/olive-media/width2048/img/tv/photo/2018/10/10/montycastjpg-7ef393e2355a42aa.jpg\" width=\"300\">"
   ]
  },
  {
   "cell_type": "markdown",
   "metadata": {
    "id": "llQ9RXHfc0ja"
   },
   "source": [
    "# 2. Anaconda\n",
    "\n",
    "[Сборка Anaconda](https://www.anaconda.com/products/individual) включает очень много полезных библиотек для анализа данных.\n",
    "\n",
    "Среди наиболее популярных библиотек:\n",
    " - <a href=\"http://numpy.org\">Numpy</a> - это один из основных пакетов для математических вычислений. Он содержит средства для работы с многомерными массивами и высокоуровневыми математическими функциями\n",
    " - <a href=\"https://www.scipy.org/\">SciPy</a> - научные вычисления. Методы оптимизации, интегрирования, модули обработки сигналов и изображений, статистика, линейная алгебра, сплайны, кластеризация и многое другое\n",
    " -  <a href=\"http://pandas.pydata.org/\">Pandas</a> - основная библиотека для обработки и анализа данных. Предназначена для данных разной природы - матричных, панельных данных, временных рядов. Претендует на звание самого мощного и гибкого средства для анализа данных с открытым исходным кодом\n",
    " - <a href=\"http://scikit-learn.org/stable/\">Scikit-learn</a> - реализация очень многих методов машинного обучения с отличной документацией.\n",
    " - <a href=\"http://http://matplotlib.org/\">matplotlib</a> - хорошая библиотека для визуализации данных\n",
    "\n",
    " С этими библиотеками вы будете знакомится дальше на курсе, а пока давайте попрактикуемся в решении базовых задач на  чистом Python."
   ]
  },
  {
   "cell_type": "markdown",
   "metadata": {
    "id": "rfAcLe-Tc0ja"
   },
   "source": [
    "# 3. Задачки"
   ]
  },
  {
   "cell_type": "markdown",
   "metadata": {
    "id": "y7gWqyZpc0jb"
   },
   "source": [
    "## Задача 1\n",
    "$N$ хоббитов делят $K$ кусков эльфийского хлеба поровну, не делящийся нацело остаток остается в корзинке у Сэма. Напишите функцию, которая принимает на вход параметры $N$ и $K$ и возвращает два числа: $x$ - cколько кусков эльфиского хлеба достанется каждому хоббиту, и $y$ - сколько кусков остаётся в корзинке."
   ]
  },
  {
   "cell_type": "code",
   "execution_count": 80,
   "metadata": {
    "id": "m9mteFtwc0jb",
    "ExecuteTime": {
     "end_time": "2025-01-21T14:25:32.749208Z",
     "start_time": "2025-01-21T14:25:32.744337Z"
    }
   },
   "outputs": [],
   "source": [
    "def share_bread(N, K):\n",
    "    # your code here\n",
    "    if N <= 0:\n",
    "        raise ValueError(\"Количество хоббитов должно быть больше 0.\")\n",
    "    if K < 0:\n",
    "        raise ValueError(\"Количество кусков хлеба не может быть отрицательным.\")\n",
    "    x = K // N\n",
    "    y = K % N\n",
    "    return x, y\n",
    "\n",
    "# если в функции всё верно, то после выполнения этой строчки, не должно выскакивать ошибок\n",
    "assert share_bread(N=3, K=14) == (4, 2)"
   ]
  },
  {
   "cell_type": "markdown",
   "metadata": {
    "id": "i24Th8I7c0jc"
   },
   "source": [
    "## Задача 2\n",
    "\n",
    "В копях Мории хоббиты нашли стену, на которой высечены разные натуральные числа. Согласно древним сказаниям, это даты сражений. Хоббиты знают, что сражения происходили только по високосным годам. Помогите хоббитам определить, является ли год с данным числом датой великого сражения. Если это так, то верните строку \"YOU SHALL PASS\", иначе верните \"YOU SHALL NOT PASS\". Напомним, что в соответствии с хоббитским календарем, год является високосным, если его номер кратен 4, но не кратен 100, а также если он кратен 400."
   ]
  },
  {
   "cell_type": "code",
   "execution_count": 81,
   "metadata": {
    "id": "3SnU33pPc0jc",
    "ExecuteTime": {
     "end_time": "2025-01-21T14:25:35.196837Z",
     "start_time": "2025-01-21T14:25:35.193754Z"
    }
   },
   "outputs": [],
   "source": [
    "def leap_year(year):\n",
    "    if (year % 4 == 0 and year % 100 != 0) or (year % 400 == 0):\n",
    "        text_result = \"YOU SHALL PASS\"\n",
    "    else:\n",
    "        text_result = \"YOU SHALL NOT PASS\"\n",
    "    return text_result\n",
    "\n",
    "assert leap_year(5) == 'YOU SHALL NOT PASS'"
   ]
  },
  {
   "cell_type": "markdown",
   "metadata": {
    "id": "-oibBIG4c0jd"
   },
   "source": [
    "## Задача 3\n",
    "<img src=\"http://i0.kym-cdn.com/photos/images/original/001/187/255/5e9.gif\" width=300>\n",
    "\n",
    "\n",
    "Для могущественного магического ритуала Гендальфу необходимо быстро подсчитывать площадь своего амулета, который умеет менять размеры. Известно, что амулет имеет форму треугольника и Гендальф знает длину каждой из сторон. Напишите функцию, которая считает площадь амулета по трем сторонам.  \n",
    "\n",
    "**Подсказка:** используйте формулу Герона\n",
    "$$ S = \\sqrt{p(p-a)(p-b)(p-c)} $$\n",
    "$$ p = \\frac{a + b + c}{2}$$\n"
   ]
  },
  {
   "cell_type": "code",
   "execution_count": 82,
   "metadata": {
    "id": "Uln7wcTVc0jd",
    "ExecuteTime": {
     "end_time": "2025-01-21T14:25:36.687233Z",
     "start_time": "2025-01-21T14:25:36.682349Z"
    }
   },
   "outputs": [],
   "source": [
    "import math\n",
    "def amulet_area(a, b, c):\n",
    "    # your code here\n",
    "    if a <= 0 or b <= 0 or c <= 0:\n",
    "        raise ValueError(\"Длины сторон должны быть положительными.\")\n",
    "    if a + b <= c or a + c <= b or b + c <= a:\n",
    "        raise ValueError(\"Указанные длины не могут образовать треугольник.\")\n",
    "    p = (a + b + c)/2\n",
    "    S = math.sqrt(p*(p-a)*(p-b)*(p-c))\n",
    "    return S\n",
    "\n",
    "assert amulet_area(3, 4, 5) == 6"
   ]
  },
  {
   "cell_type": "markdown",
   "metadata": {
    "id": "Os5KM6bQc0jd"
   },
   "source": [
    "## Задача 4\n",
    "\n",
    "Хоббиты собираются пешком идти до Мордора и им нужно подсчитать расстояние, которое им предстоит пройти. Хоббиты смогли вспомнить сразу несколько метрик расстояния: евклидово, манхэттена и косинусное, так что ваша задача - написать функцию под каждую из них. Важное условие - используйте только базовые функции для решения.\n",
    "\n",
    "\n",
    "* Евклидово расстояние\n",
    "$$ d(a, b) = \\sqrt{\\sum_i (a_i - b_i)^2} $$\n",
    "* Расстояние Манхэттена\n",
    "$$ d(a, b) = \\sum_i |a_i - b_i| $$\n",
    "* Косинусное расстояние\n",
    "$$ d(a, b) = 1 - \\frac{a^\\top b}{||a||_2\\cdot||b||_2}$$"
   ]
  },
  {
   "cell_type": "code",
   "execution_count": 83,
   "metadata": {
    "id": "_21LOuZRc0jd",
    "ExecuteTime": {
     "end_time": "2025-01-21T14:25:38.825111Z",
     "start_time": "2025-01-21T14:25:38.821465Z"
    }
   },
   "outputs": [],
   "source": [
    "import numpy as np\n",
    "import math\n",
    "\n",
    "def cal_euclidean(a, b):\n",
    "    a, b = a.tolist(), b.tolist()\n",
    "    if len(a) != len(b):\n",
    "        raise ValueError('Неодинаковая размерность')\n",
    "    \n",
    "    s = 0\n",
    "    for i in range(len(a)):\n",
    "        s += (a[i] - b[i]) ** 2\n",
    "    distance = math.sqrt(s)\n",
    "    return distance\n",
    "\n",
    "def cal_manhattan(a, b):\n",
    "    a, b = a.tolist(), b.tolist()\n",
    "    if len(a) != len(b):\n",
    "        raise ValueError('Неодинаковая размерность')\n",
    "    distance = 0\n",
    "    for i in range(len(a)):\n",
    "        distance += abs(a[i] - b[i])\n",
    "    return distance\n",
    "\n",
    "def cal_cosine(a, b):\n",
    "    a, b = a.tolist(), b.tolist()\n",
    "    if len(a) != len(b):\n",
    "        raise ValueError('Неодинаковая размерность')\n",
    "    scal_product = 0\n",
    "    mean_a = 0\n",
    "    mean_b = 0\n",
    "    \n",
    "    for i in range(len(a)):\n",
    "        scal_product += a[i] * b[i]\n",
    "        mean_a += a[i] ** 2\n",
    "        mean_b += b[i] ** 2\n",
    "        \n",
    "    mean_a = math.sqrt(mean_a)\n",
    "    mean_b = math.sqrt(mean_b)\n",
    "    \n",
    "    if mean_a == 0 or mean_b == 0:\n",
    "        raise ValueError(\"Деление на ноль\")\n",
    "    \n",
    "    distance =  1 - (scal_product / (mean_a * mean_b))\n",
    "    return distance"
   ]
  },
  {
   "cell_type": "code",
   "execution_count": 84,
   "metadata": {
    "id": "fvyqAKchc0je",
    "ExecuteTime": {
     "end_time": "2025-01-21T14:25:39.812983Z",
     "start_time": "2025-01-21T14:25:39.808607Z"
    }
   },
   "outputs": [
    {
     "name": "stdout",
     "output_type": "stream",
     "text": [
      "21.18962010041709\n",
      "61\n",
      "0.8617726279401734\n"
     ]
    }
   ],
   "source": [
    "a = np.random.randint(-10, 10, size=10)\n",
    "b = np.random.randint(-10, 10, size=10)\n",
    "print(cal_euclidean(a, b))\n",
    "print(cal_manhattan(a, b))\n",
    "print(cal_cosine(a, b))"
   ]
  },
  {
   "cell_type": "markdown",
   "metadata": {
    "id": "w1L3GDw3c0je"
   },
   "source": [
    "## Задача 5* (бонусное неоцениваемое задание)\n",
    "\n",
    "**Замечание:** Поскольку библиотеку numpy мы будем подробно разбирать дальше, то это задание является бонусным, его выполнение необязательно для сдачи ДЗ и не влияет на итоговый балл. Как вариант, можете вернуться к нему после прохождения numpy ;)\n",
    "\n"
   ]
  },
  {
   "cell_type": "markdown",
   "metadata": {
    "id": "aEDIBiRpc0je"
   },
   "source": [
    "Создайте случайный array (`np.random.rand()`) длинной 100. Преобразуйте его так, чтобы\n",
    "* Максимальный элемент(ы) был равен 1\n",
    "* Минимальный элемент(ы) был равен 0\n",
    "* Остальные элементы в интервале от 0 до 1 остаются прежними"
   ]
  },
  {
   "cell_type": "code",
   "execution_count": 85,
   "metadata": {
    "id": "AFye6XzXc0je",
    "ExecuteTime": {
     "end_time": "2025-01-21T14:25:42.454934Z",
     "start_time": "2025-01-21T14:25:42.447401Z"
    }
   },
   "outputs": [
    {
     "name": "stdout",
     "output_type": "stream",
     "text": [
      "1.0 0.0\n",
      "[0.58443402 0.6499125  0.82606844 0.50748822 0.81676176 0.63621037\n",
      " 0.54705558 0.01219043 0.01303478 0.55859323 0.65999536 0.9628464\n",
      " 0.6067061  0.1489996  0.61406498 0.57053084 0.64092015 0.87884748\n",
      " 0.05463366 0.97156088 0.495362   0.74046873 0.03065174 0.9129761\n",
      " 0.60920006 0.11212682 0.77946847 0.08417667 0.19452352 0.26034227\n",
      " 0.47459064 0.04922658 0.29483281 0.15817469 0.63652546 0.84130298\n",
      " 0.12795173 0.29381491 0.72496863 0.2792387  0.07297695 0.24873702\n",
      " 0.83913155 0.38009063 0.74223029 0.4744168  0.13730581 0.72338322\n",
      " 0.34263986 0.2044655  0.92665783 0.81204134 0.770805   0.38967724\n",
      " 0.77000615 0.91211884 0.02860953 0.89945708 0.08059126 0.40097286\n",
      " 0.30807022 0.0049462  0.9583046  0.64257441 0.         0.34888118\n",
      " 0.16568267 0.6618704  0.50502489 0.51070209 0.47362615 0.24908573\n",
      " 0.02275241 0.36392102 0.49740478 0.82016461 0.50662668 0.36270762\n",
      " 0.35485228 0.38974142 0.66465696 0.7823123  0.57319555 0.10280535\n",
      " 0.4529598  0.27107468 1.         0.09099729 0.26604895 0.62199524\n",
      " 0.21900725 0.01227335 0.90774263 0.27692956 0.29626739 0.08640036\n",
      " 0.66199013 0.98577198 0.23503202 0.2889125 ]\n"
     ]
    }
   ],
   "source": [
    "my_array = np.random.rand(100)\n",
    "my_array = np.where(my_array == np.min(my_array), 0, my_array)\n",
    "my_array = np.where(my_array == np.max(my_array), 1, my_array)\n",
    "print(np.max(my_array), np.min(my_array))\n",
    "print(my_array)"
   ]
  },
  {
   "cell_type": "markdown",
   "metadata": {
    "id": "D84Jpwmmc0je"
   },
   "source": [
    "Создайте array размером $5 \\times 6$ с целыми числами в интервале [0,50]. Напечатайте колонку, которая содержит максимальный элемент полученной матрицы"
   ]
  },
  {
   "cell_type": "code",
   "execution_count": 86,
   "metadata": {
    "id": "SXaKW9bec0je",
    "ExecuteTime": {
     "end_time": "2025-01-21T14:25:44.135910Z",
     "start_time": "2025-01-21T14:25:44.131384Z"
    }
   },
   "outputs": [
    {
     "name": "stdout",
     "output_type": "stream",
     "text": [
      "Shape:  (5, 6)\n",
      "Array\n",
      "[[15 49  2 29 48 47]\n",
      " [19 44 50 27 33 48]\n",
      " [ 7 12 25 32  5 25]\n",
      " [43 31  2 11 18 35]\n",
      " [37 26 50 17 26 19]]\n",
      "[ 2 50 25  2 50]\n"
     ]
    }
   ],
   "source": [
    "my_array = np.random.randint(0, 51, size=(5, 6))\n",
    "selected_column = my_array[:, np.unravel_index(np.argmax(my_array), my_array.shape)[1]]\n",
    "print('Shape: ',my_array.shape)\n",
    "print('Array')\n",
    "print(my_array)\n",
    "print(selected_column)"
   ]
  },
  {
   "cell_type": "markdown",
   "metadata": {
    "id": "g3scUf0_c0je"
   },
   "source": [
    "Напишите функцию, которая принимает на вход матрицу (array) X и возвращает все её уникальные строки в виде новой матрицы."
   ]
  },
  {
   "cell_type": "code",
   "execution_count": 87,
   "metadata": {
    "id": "75j1Kyzvc0je",
    "ExecuteTime": {
     "end_time": "2025-01-21T14:25:46.778239Z",
     "start_time": "2025-01-21T14:25:46.776425Z"
    }
   },
   "outputs": [],
   "source": [
    "def get_unique_rows(X):\n",
    "    X_unique = np.unique(X, axis=0)\n",
    "    return X_unique"
   ]
  },
  {
   "cell_type": "code",
   "execution_count": 88,
   "metadata": {
    "id": "HzY-9KwGc0je",
    "ExecuteTime": {
     "end_time": "2025-01-21T14:25:47.590415Z",
     "start_time": "2025-01-21T14:25:47.587070Z"
    }
   },
   "outputs": [
    {
     "name": "stdout",
     "output_type": "stream",
     "text": [
      "[[4 5 4]\n",
      " [4 4 4]\n",
      " [4 4 5]\n",
      " [5 5 4]\n",
      " [5 4 4]\n",
      " [4 4 5]\n",
      " [4 4 4]\n",
      " [4 4 4]\n",
      " [4 4 4]\n",
      " [4 4 5]]\n"
     ]
    }
   ],
   "source": [
    "X = np.random.randint(4, 6, size=(10,3))\n",
    "print(X)"
   ]
  },
  {
   "cell_type": "code",
   "execution_count": 89,
   "metadata": {
    "id": "UiAM62AGc0jf",
    "ExecuteTime": {
     "end_time": "2025-01-21T14:25:48.280279Z",
     "start_time": "2025-01-21T14:25:48.276009Z"
    }
   },
   "outputs": [
    {
     "data": {
      "text/plain": "array([[4, 4, 4],\n       [4, 4, 5],\n       [4, 5, 4],\n       [5, 4, 4],\n       [5, 5, 4]])"
     },
     "execution_count": 89,
     "metadata": {},
     "output_type": "execute_result"
    }
   ],
   "source": [
    "get_unique_rows(X)"
   ]
  }
 ],
 "metadata": {
  "kernelspec": {
   "display_name": "Python 3",
   "language": "python",
   "name": "python3"
  },
  "language_info": {
   "codemirror_mode": {
    "name": "ipython",
    "version": 3
   },
   "file_extension": ".py",
   "mimetype": "text/x-python",
   "name": "python",
   "nbconvert_exporter": "python",
   "pygments_lexer": "ipython3",
   "version": "3.7.6"
  },
  "varInspector": {
   "cols": {
    "lenName": 16,
    "lenType": 16,
    "lenVar": 40
   },
   "kernels_config": {
    "python": {
     "delete_cmd_postfix": "",
     "delete_cmd_prefix": "del ",
     "library": "var_list.py",
     "varRefreshCmd": "print(var_dic_list())"
    },
    "r": {
     "delete_cmd_postfix": ") ",
     "delete_cmd_prefix": "rm(",
     "library": "var_list.r",
     "varRefreshCmd": "cat(var_dic_list()) "
    }
   },
   "types_to_exclude": [
    "module",
    "function",
    "builtin_function_or_method",
    "instance",
    "_Feature"
   ],
   "window_display": false
  },
  "colab": {
   "provenance": []
  }
 },
 "nbformat": 4,
 "nbformat_minor": 0
}
